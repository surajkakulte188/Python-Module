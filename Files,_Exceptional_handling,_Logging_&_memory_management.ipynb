{
  "nbformat": 4,
  "nbformat_minor": 0,
  "metadata": {
    "colab": {
      "provenance": []
    },
    "kernelspec": {
      "name": "python3",
      "display_name": "Python 3"
    },
    "language_info": {
      "name": "python"
    }
  },
  "cells": [
    {
      "cell_type": "markdown",
      "source": [
        "#Files, Exceptional Handling, Logging & Memory Management\n",
        "**Theory Questions**\n",
        "\n",
        "Q.1 What is the difference between interpreted and compiled languages?\n",
        "\n",
        "--> The main difference between interpreted & compiled languages lies in how code is translated into machine-readable instructions:\n",
        "1. Interpreted Language:\n",
        "- Code is executed line-by-line at runtime.\n",
        "- Uses an interpreter to run the program directly.\n",
        "- Slower execution due to real-time interpretation.\n",
        "- Easier to test & debug.\n",
        "- Usually platform-independent.\n",
        "- Ex.: Python, JavaScript, Ruby, PHP.\n",
        "2. Compiled Language:\n",
        "- Code is translated into machine code before execution.\n",
        "- Uses a compiler to create an executable file.\n",
        "- Fast execution.\n",
        "- Requires recompilation after code changes.\n",
        "- Typically platform-dependent (ex.: Windows v/s Linux).\n",
        "- Ex.: C, C++, Rust, Go.\n",
        "\n",
        "Q.2 What is exception handling in Python?\n",
        "\n",
        "--> Exception handling in Python is a way to gracefully manage errors that occur during program execution, without crashing the program. An exception is an error that occurs during runtime. It's mainly used for:\n",
        "- Prevents the program from crashing.\n",
        "- Helps manage unexpected situations.\n",
        "- Improves user experience & debugging.\n",
        "- Ex.: Dividing by zero, accessing a missing file, invalid user input.\n",
        "\n",
        "Q.3  What is the purpose of the finally block in exception handling?\n",
        "\n",
        "--> The finally block is used to define cleanup actions that must be executed no matter an exception occurred or not. Here's the purpose of the finally block as shown:\n",
        "- Always executes, whether an exception occurs or not.\n",
        "- Used to perform cleanup actions, such as: Closing files, Releasing resources, Stopping background tasks or services.\n",
        "- Runs even if: An exception is raised & there is a return, break or continue in the try or except block.\n",
        "- It helps ensure your program leaves the system in a clean & stable state\n",
        "\n",
        "Q.4 What is logging in Python?\n",
        "\n",
        "--> Logging in Python is a way to track events that happen while your program runs. It's mainly used for: Debugging, Monitoring, Error tracking & Auditing. It's key-points includes:\n",
        "- Provides status messages from a running program.\n",
        "- More flexible & informative than using 'print()'.\n",
        "- Can record messages to: The console, A file & Remote servers or logging systems.\n",
        "\n",
        "Use of Logging instead of print():\n",
        "- Can easily change the level of detail shown.\n",
        "- Outputs can go to multiple destinations.\n",
        "- Better control & formatting.\n",
        "- Useful in production environments.\n",
        "\n",
        "Q.5 What is the significance of the __del__ method in Python?\n",
        "\n",
        "--> The __del__ method in Python is a special method called a destructor. It's used to define cleanup actions when an object is about to be destroyed (i.e., garbage collected). The significance of the __del__ method in Python are as follows:\n",
        "- Defined as \"def __del__(self):\"\n",
        "- Called automatically when: An object is no longer referenced & the Python garbage collector is about to delete it.\n",
        "- Often used to: Release external resources, Log object deletion & Perform final cleanup.\n",
        "\n",
        "Q.6 What is the difference between import and from ... import in Python?\n",
        "\n",
        "--> Both are used to access code from external modules, but they differ in following cases:\n",
        "1. import module:\n",
        "- Imports the entire module.\n",
        "- You must prefix everything with the module name.\n",
        "2. from module import name:\n",
        "- Imports specific items (functions, classes, variables) directly.\n",
        "- No need to prefix with the module name.\n",
        "3. from module import *:\n",
        "- Imports everything from the module into the current namespace.\n",
        "- It is not recommended (can cause name clashes & reduce code clarity).\n",
        "\n",
        "Q.7 How can you handle multiple exceptions in Python?\n",
        "\n",
        "--> In Python, you can handle multiple exceptions using several techniques depending on your needs:\n",
        "1. Multiple except Blocks:\n",
        "- Handle different exceptions separately, with custom responses for each."
      ],
      "metadata": {
        "id": "VXD1vjIzruSj"
      }
    },
    {
      "cell_type": "code",
      "execution_count": 6,
      "metadata": {
        "colab": {
          "base_uri": "https://localhost:8080/"
        },
        "id": "6znHKAlqrlQq",
        "outputId": "abbbd783-7cb9-4115-ab75-67e71c60feff"
      },
      "outputs": [
        {
          "output_type": "stream",
          "name": "stdout",
          "text": [
            "Enter a number: 0\n",
            "Cannot divide by zero.\n"
          ]
        }
      ],
      "source": [
        "try:\n",
        "    x = int(input(\"Enter a number: \"))\n",
        "    result = 10 / x\n",
        "except ValueError:\n",
        "    print(\"Invalid input! Please enter a number.\")\n",
        "except ZeroDivisionError:\n",
        "    print(\"Cannot divide by zero.\")"
      ]
    },
    {
      "cell_type": "markdown",
      "source": [
        "2. One except Block for Multiple Exceptions:\n",
        "- Group multiple exceptions in a single except block using a tuple."
      ],
      "metadata": {
        "id": "BWlQ7MI-_4e7"
      }
    },
    {
      "cell_type": "code",
      "source": [
        "try:\n",
        "    x = int(input(\"Enter a number: \"))\n",
        "    result = 10 / x\n",
        "except (ValueError, ZeroDivisionError):\n",
        "    print(\"Invalid input or division by zero.\")"
      ],
      "metadata": {
        "colab": {
          "base_uri": "https://localhost:8080/"
        },
        "id": "mkhNW3ysAQwA",
        "outputId": "cfc40413-1896-4330-d44d-a4726a22ff09"
      },
      "execution_count": 8,
      "outputs": [
        {
          "output_type": "stream",
          "name": "stdout",
          "text": [
            "Enter a number: 0\n",
            "Invalid input or division by zero.\n"
          ]
        }
      ]
    },
    {
      "cell_type": "markdown",
      "source": [
        "3. Catch-All Exception:\n",
        "- Catch any exception (not recommended unless you log it properly):\n",
        "- Use this for logging or fallback logic, not as a substitute for specific error handling."
      ],
      "metadata": {
        "id": "OOiA74qzAV14"
      }
    },
    {
      "cell_type": "code",
      "source": [
        "try:\n",
        "    x = int(input(\"Enter a number: \"))\n",
        "    result = 10 / x\n",
        "except Exception as e:\n",
        "    print(f\"An error occurred: {e}\")"
      ],
      "metadata": {
        "colab": {
          "base_uri": "https://localhost:8080/"
        },
        "id": "g0qXyu2uAiCA",
        "outputId": "2b2fd163-bf8c-4134-8f65-8e45c6d9ab60"
      },
      "execution_count": 13,
      "outputs": [
        {
          "name": "stdout",
          "output_type": "stream",
          "text": [
            "Enter a number: 4\n"
          ]
        }
      ]
    },
    {
      "cell_type": "markdown",
      "source": [
        "Q.8 What is the purpose of the with statement when handling files in Python?\n",
        "\n",
        "--> The purpose of \"with statement\" is used to safely open & manage files in Python. It simplifies file handling by automatically taking care of closing the file, even if an error occurs.\n",
        "\n",
        "Key Benefits includes:\n",
        "- Automatically closes the file after the block is done.\n",
        "- Prevents resource leaks (ex.: too many files open).\n",
        "- Makes code cleaner & more readable.\n",
        "- Helps avoid forgetting file.close().\n",
        "\n",
        "Q.9 What is the difference between multithreading and multiprocessing?\n",
        "\n",
        "--> Both multithreading & multiprocessing are techniques for achieving concurrent execution, but they differ as given:\n",
        "1. Multithreading:\n",
        "- Uses multiple threads within a single process.\n",
        "- Threads share the same memory space.\n",
        "- Suitable for I/O bound tasks (ex. reading files, network operations).\n",
        "- Limited by the Global Interpreter Lock (GIL) in CPython — only one thread executes Python bytecode at a time.\n",
        "2. Multiprocessing:\n",
        "- Uses multiple processes, each with its own Python interpreter & memory space.\n",
        "- Avoids the GIL — each process runs in true parallel on multiple CPU cores.\n",
        "- Suitable for CPU-bound tasks (ex. heavy computation).\n",
        "\n",
        "Q.10 What are the advantages of using logging in a program?\n",
        "\n",
        "--> Using logging instead of print() statements offers many benefits for both development & production environments:\n",
        "1. Helps in Debugging:\n",
        "- Logs capture detailed runtime information.\n",
        "- Makes it easier to trace errors & bugs.\n",
        "2. Tracks Application Behavior:\n",
        "- Provides insight into how the program runs over time.\n",
        "- Helps monitor usage patterns, performance & workflow.\n",
        "3. Error & Exception Reporting:\n",
        "- Logs errors, exceptions & stack traces.\n",
        "- Useful for alerting or diagnosing issues in production.\n",
        "4. Saves Output to Files:\n",
        "- Logs can be written to files for later analysis.\n",
        "- Supports persistent storage of messages.\n",
        "5. Adjustable Log Levels:\n",
        "- Control the granularity of logs with built-in levels: DEBUG, INFO, WARNING, ERROR, CRITICAL.\n",
        "- Display only what's needed at each stage (dev v/s production).\n",
        "6. Separation of Concerns:\n",
        "- Keeps debug output separate from normal program output.\n",
        "- Maintains clean console or UI output.\n",
        "\n",
        "Q.11 What is memory management in Python?\n",
        "\n",
        "--> Memory management in Python refers to how Python allocates, uses & frees memory during a program's execution. The key Components of Memory Management are:\n",
        "1. Automatic Memory Allocation\n",
        "2. Reference Counting\n",
        "3. Garbage Collection (GC)\n",
        "4. Dynamic Typing\n",
        "5. Private Heap Space\n",
        "6. Memory Pools (via pymalloc)\n",
        "\n",
        "It matters because of:\n",
        "- Efficient memory use leads to better performance.\n",
        "- Helps prevent memory leaks & crashes.\n",
        "- Understanding it is crucial for writing optimized & scalable programs.\n",
        "\n",
        "Q.12 What are the basic steps involved in exception handling in Python?\n",
        "\n",
        "--> Python provides a structured way to handle errors using try-except blocks. Here are the basic steps:\n",
        "1. Use a try Block:\n",
        "- Wrap the code that might raise an exception.\n",
        "2. Add an except Block:\n",
        "- Catch and handle the exception that occurs in the try block.\n",
        "3. Use Multiple except Blocks:\n",
        "- Handle different types of exceptions differently.\n",
        "4. Use an else Block:\n",
        "- Executes if no exception was raised in the try block.\n",
        "5. Use a finally Block:\n",
        "- Runs no matter what, used for cleanup tasks.\n",
        "\n",
        "Q.13 Why is memory management important in Python?\n",
        "\n",
        "--> Memory management is crucial in Python because it directly impacts your program's performance, stability & scalability. It's importance are:\n",
        "1. Efficient Resource Usage:\n",
        "- Proper memory use ensures your program doesn't consume more RAM than necessary.\n",
        "- Helps avoid slowdowns or crashes on memory-limited systems.\n",
        "2. Prevents Memory Leaks:\n",
        "- Improper memory handling (ex. unused object references) can cause memory leaks.\n",
        "- Memory leaks can degrade performance over time or crash long-running apps.\n",
        "3. Automatic Garbage Collection:\n",
        "- Python's automatic memory management makes development easier.\n",
        "- Still important to understand how to avoid holding references to unused objects.\n",
        "4. Improves Performance:\n",
        "- Optimized memory usage can significantly speed up programs, especially when handling: Large datasets, Heavy computation & Multi-threading or multiprocessing\n",
        "5. Ensures Application Stability:\n",
        "- Good memory management avoids crashes from out-of-memory errors.\n",
        "- Especially critical in web servers, background services & embedded systems.\n",
        "6. Scalability:\n",
        "- Programs that manage memory well are easier to scale in production environments.\n",
        "- Important when deploying to cloud platforms or containers with limited resources.\n",
        "\n",
        "Q.14 What is the role of try and except in exception handling?\n",
        "\n",
        "--> The 'try' & 'except' blocks are the foundation of exception handling in Python. They help you gracefully manage errors that occur during program execution.\n",
        "1. try Block:\n",
        "- Contains code that might raise an exception.\n",
        "- Python monitors this block for errors while it's running.\n",
        "- If an error occurs, Python immediately jumps to the corresponding except block.\n",
        "2. except Block:\n",
        "- Contains code to handle the error that occurred in the try block.\n",
        "- Prevents the program from crashing.\n",
        "- You can have multiple except blocks to handle different error types.\n",
        "\n",
        "Q.15 How does Python's garbage collection system work?\n",
        "\n",
        "--> Python's garbage collection (GC) system automatically reclaims memory by removing objects that are no longer needed. This helps prevent memory leaks & ensures efficient use of system resources. It works as:\n",
        "1. Reference Counting:\n",
        "- Each object keeps track of the number of references pointing to it.\n",
        "- When the reference count drops to zero, the object is immediately destroyed.\n",
        "2. Garbage Collector (GC) for Cyclic References:\n",
        "- Reference counting can't handle cycles (ex. object A references B & B references A).\n",
        "- Python's GC module identifies & collects circular references that can't be reached.\n",
        "3. Generational Garbage Collection: Python categorizes objects into three generations:\n",
        "- Gen 0: Newly created objects\n",
        "- Gen 1: Survived one collection cycle\n",
        "- Gen 2: Survived multiple cycles\n",
        "4. The gc Module:\n",
        "- Periodically, Python automatically runs garbage collection based on thresholds & object activity.\n",
        "- Python's built-in gc module lets you interact with the garbage collector.\n",
        "\n",
        "Q.16 What is the purpose of the else block in exception handling?\n",
        "\n",
        "--> The else block in exception handling is used to define code that should only run if no exceptions occur in the try block. The purpose of the else block in exception handling includes:\n",
        "- The else block runs only if the try block completes successfully (i.e. no exception was raised).\n",
        "- It helps separate error-handling code from normal code execution.\n",
        "- Improves readability & code organization.\n",
        "\n",
        "Q.17 What are the common logging levels in Python?\n",
        "\n",
        "--> Python's logging module defines several standard logging levels to categorize the severity of messages. Each level has a numeric value & messages are only processed if their level is equal to or higher than the configured threshold. Logging Levels (from lowest to highest severity):\n",
        "1. DEBUG (10):\n",
        "- Detailed information, mainly for diagnosing problems.\n",
        "- Typically used during development.\n",
        "2. INFO (20):\n",
        "- Confirms that things are working as expected.\n",
        "- Useful for general application runtime events.\n",
        "3. WARNING (30):\n",
        "- Indicates something unexpected happened, or a potential issue.\n",
        "- The program still continues to run.\n",
        "4. ERROR (40):\n",
        "- A serious problem occurred.\n",
        "- Indicates that some part of the program failed to do what was expected.\n",
        "5. CRITICAL (50):\n",
        "- A very serious error, possibly requiring immediate attention.\n",
        "- Often signals a program crash or critical failure.\n",
        "\n",
        "Q.18 What is the difference between os.fork() and multiprocessing in Python?\n",
        "\n",
        "--> Both os.fork() & the multiprocessing module are used to create new processes, but they differ significantly in terms of abstraction, portability & usability.\n",
        "1. os.fork():\n",
        "- Low-level system call to create a new child process.\n",
        "- Only available on Unix-like systems (Linux, macOS).\n",
        "- The child process is a copy of the parent process.\n",
        "- Requires manual handling of inter-process communication (IPC).\n",
        "- Best for system-level programming or when fine-grained control is needed.\n",
        "2. multiprocessing Module:\n",
        "- High-level API for creating & managing processes.\n",
        "- Works on all platforms (Windows, macOS, Linux).\n",
        "- Provides tools like Process, Queue, Pipe, Pool, etc.\n",
        "- Handles IPC, shared memory & process synchronization more easily.\n",
        "- Safer & more convenient for general-purpose Python programming.\n",
        "\n",
        "Q.19 What is the importance of closing a file in Python?\n",
        "\n",
        "--> Closing a file is a critical step when working with files in Python. It ensures that system resources are properly released & that data is safely written. A closing a File is Important because of:\n",
        "1. Releases System Resources:\n",
        "- Open files consume memory & file descriptors.\n",
        "- Closing the file frees up these resources for other programs.\n",
        "2. Ensures Data Is Saved:\n",
        "- If you're writing to a file, closing it ensures all data is flushed from the buffer & written to disk.\n",
        "3. Prevents Data Corruption:\n",
        "- Leaving a file open, especially during writing, can result in partial writes or corrupt files if the program crashes.\n",
        "4. Avoids File Access Issues:\n",
        "- Some systems lock files when open. Failing to close them can cause issues if other programs try to access them.\n",
        "5. Best Practice for Clean Code:\n",
        "- Explicitly closing files helps avoid bugs & makes the code more robust & predictable.\n",
        "\n",
        "Q.20 What is the difference between file.read() and file.readline() in Python?\n",
        "\n",
        "--> Both file.read() & file.readline() are used to read data from a file, but they behave differently:\n",
        "1. file.read():\n",
        "- Reads the entire file at once.\n",
        "- Returns a single string containing all file content.\n",
        "- Useful when you want to process the entire file at once.\n",
        "2. file.readline():\n",
        "- Reads one line at a time from the file.\n",
        "- Returns a single line (including the newline character \\n).\n",
        "- Useful for line-by-line processing, especially for large files.\n",
        "\n",
        "Q.21 What is the logging module in Python used for?\n",
        "\n",
        "--> The logging module in Python is used to record & track events that happen during the execution of a program. It helps developers:\n",
        "- Monitor application behavior\n",
        "- Debug issues\n",
        "- Audit & record runtime information\n",
        "- Track errors & warnings\n",
        "\n",
        "Key Uses are:\n",
        "- Capturing informational messages, warnings, errors & critical events.\n",
        "- Saving logs to console, files or other output streams.\n",
        "- Differentiating messages by severity levels (ex. DEBUG, INFO, WARNING, ERROR, CRITICAL).\n",
        "- Configuring flexible log formatting & output destinations.\n",
        "- Supporting long-term troubleshooting & analysis in development & production.\n",
        "\n",
        "Q.22 What is the os module in Python used for in file handling?\n",
        "\n",
        "--> The \"os module\" provides a way to interact with the operating system, giving you tools to handle files & directories beyond basic reading & writing. The key uses of os Module in File Handling:\n",
        "1. File & Directory Operations:\n",
        "- Create, remove, rename & manage files & directories.\n",
        "2. Path Manipulation:\n",
        "- Work with file paths (ex. join paths, get directory or filename parts).\n",
        "3. Checking File Properties:\n",
        "- Check if a file or directory exists, if it's a file or directory, or get file metadata like size & permissions.\n",
        "4. Changing Working Directory:\n",
        "- Get or set the current working directory.\n",
        "5. Executing System Commands:\n",
        "- Run OS-level commands.\n",
        "\n",
        "Q.23 What are the challenges associated with memory management in Python?\n",
        "\n",
        "--> While Python handles much of memory management automatically, there are still some common challenges:\n",
        "1. Memory Leaks:\n",
        "- Occur when objects are no longer needed but still referenced, preventing garbage collection.\n",
        "- Hard to detect & can cause programs to consume increasing amounts of memory.\n",
        "2. Handling Circular References:\n",
        "- Python's reference counting can't free objects involved in reference cycles.\n",
        "- Although the garbage collector detects cycles, some objects with __del__ methods may not be collected, causing leaks.\n",
        "3. High Memory Usage:\n",
        "- Inefficient data structures or algorithms can consume large amounts of memory.\n",
        "- Creating many small objects or large collections without proper cleanup increases footprint.\n",
        "4. Fragmentation:\n",
        "- Frequent allocation & deallocation of objects can lead to memory fragmentation, reducing efficiency.\n",
        "5. Overhead of Garbage Collection:\n",
        "- Garbage collector runs periodically, which may cause performance pauses.\n",
        "- Tuning GC thresholds can be tricky; improper tuning may degrade performance or increase memory usage.\n",
        "6. Limited Control Compared to Lower-Level Languages:\n",
        "- Python abstracts memory management, limiting fine-grained control.\n",
        "- Sometimes hard to optimize memory usage for performance-critical applications.\n",
        "\n",
        "Q.24 How do you raise an exception manually in Python?\n",
        "\n",
        "--> We can raise an exception manually using the raise statement. This lets you trigger errors intentionally, usually to signal that something unexpected or invalid happened in your code. Basic syntax:\n",
        "- **raise ExceptionType(\"Error message\")**\n",
        "- Replace ExceptionType with any built-in or custom exception class.\n",
        "\n",
        "Raise an exception manually in Python, because of:\n",
        "- To enforce input validation.\n",
        "- To signal error conditions clearly.\n",
        "- To create custom error handling logic.\n",
        "\n",
        "Q.25 Why is it important to use multithreading in certain applications?\n",
        "\n",
        "--> Multithreading can improve the performance & responsiveness of applications by allowing multiple threads to run concurrently within the same process. Key Reasons to Use Multithreading:\n",
        "1. Improves Responsiveness:\n",
        "- Keeps user interfaces active by running tasks like I/O or background processing on separate threads.\n",
        "2. Handles I/O-bound Tasks Efficiently:\n",
        "- Threads waiting for slow operations (ex. file reads, network calls) don't block the whole program.\n",
        "3. Better Resource Utilization:\n",
        "- Makes use of waiting times (ex. disk or network delays) to do other work simultaneously.\n",
        "4. Simplifies Program Structure for Concurrent Operations:\n",
        "- Easier than managing multiple processes for lightweight parallelism.\n",
        "5. Real-time Processing:\n",
        "- Useful in apps requiring quick reaction, like games, GUIs or servers.\n",
        "\n",
        "**Practical Questions**\n",
        "\n",
        "Q.1 How can you open a file for writing in Python and write a string to it?"
      ],
      "metadata": {
        "id": "gHBgJdixA4Qp"
      }
    },
    {
      "cell_type": "code",
      "source": [
        "file = open('filename.txt', 'w')\n",
        "\n",
        "file.write(\"Better control & formatting.\")\n",
        "\n",
        "file.close()\n",
        "\n",
        "with open('filename.txt', 'w') as file:\n",
        "    file.write(\"Aditya is a Good Dancer.\")"
      ],
      "metadata": {
        "id": "UNlApQ_TU6VM"
      },
      "execution_count": 101,
      "outputs": []
    },
    {
      "cell_type": "markdown",
      "source": [
        "Q.2 Write a Python program to read the contents of a file and print each line."
      ],
      "metadata": {
        "id": "QhswZAqJWEuD"
      }
    },
    {
      "cell_type": "code",
      "source": [
        "with open('filename.txt', 'r') as file:\n",
        "    for line in file:\n",
        "        print(line.strip())"
      ],
      "metadata": {
        "colab": {
          "base_uri": "https://localhost:8080/"
        },
        "id": "OYNKI3t8WHtQ",
        "outputId": "0ffc3dc7-a444-44d5-9972-892133e7c51e"
      },
      "execution_count": 102,
      "outputs": [
        {
          "output_type": "stream",
          "name": "stdout",
          "text": [
            "Aditya is a Good Dancer.\n"
          ]
        }
      ]
    },
    {
      "cell_type": "markdown",
      "source": [
        "Q.3 How would you handle a case where the file doesn't exist while trying to open it for reading?"
      ],
      "metadata": {
        "id": "ek7Lpdz6WXLc"
      }
    },
    {
      "cell_type": "code",
      "source": [
        "filename = 'nonexistent_file.txt'\n",
        "\n",
        "try:\n",
        "    with open(filename, 'r') as file:\n",
        "        for line in file:\n",
        "            print(line.strip())\n",
        "except FileNotFoundError:\n",
        "    print(f\"Error: The file '{filename}' was not found.\")"
      ],
      "metadata": {
        "colab": {
          "base_uri": "https://localhost:8080/"
        },
        "id": "dQTEvv_8WmGQ",
        "outputId": "a08bc200-8fa2-4a32-a774-67e4ae43648c"
      },
      "execution_count": 103,
      "outputs": [
        {
          "output_type": "stream",
          "name": "stdout",
          "text": [
            "Error: The file 'nonexistent_file.txt' was not found.\n"
          ]
        }
      ]
    },
    {
      "cell_type": "markdown",
      "source": [
        "Q.4 Write a Python script that reads from one file and writes its content to another file."
      ],
      "metadata": {
        "id": "p1ZYMgtaWxGc"
      }
    },
    {
      "cell_type": "code",
      "source": [
        "source_file = 'filename.txt'\n",
        "destination_file = 'destination.txt'\n",
        "\n",
        "try:\n",
        "    with open(source_file, 'r') as src:\n",
        "        content = src.read()\n",
        "\n",
        "    with open(destination_file, 'w') as dest:\n",
        "        dest.write(content)\n",
        "    print(\"File copied successfully.\")\n",
        "\n",
        "except FileNotFoundError:\n",
        "    print(f\"Error: The file '{source_file}' was not found.\")\n",
        "except IOError as e:\n",
        "    print(f\"I/O error occurred: {e}\")"
      ],
      "metadata": {
        "colab": {
          "base_uri": "https://localhost:8080/"
        },
        "id": "0j3y027NW1iq",
        "outputId": "078b5046-d44a-44bc-e82b-96404474cd25"
      },
      "execution_count": 104,
      "outputs": [
        {
          "output_type": "stream",
          "name": "stdout",
          "text": [
            "File copied successfully.\n"
          ]
        }
      ]
    },
    {
      "cell_type": "markdown",
      "source": [
        "Q.5 How would you catch and handle division by zero error in Python?"
      ],
      "metadata": {
        "id": "wRXmra2UXblO"
      }
    },
    {
      "cell_type": "code",
      "source": [
        "try:\n",
        "    result = 10 / 0\n",
        "except ZeroDivisionError:\n",
        "    print(\"Error: Cannot divide by zero.\")"
      ],
      "metadata": {
        "colab": {
          "base_uri": "https://localhost:8080/"
        },
        "id": "bsmBCHH4XerP",
        "outputId": "db244231-484e-430c-e26f-e61bb20e2c37"
      },
      "execution_count": 105,
      "outputs": [
        {
          "output_type": "stream",
          "name": "stdout",
          "text": [
            "Error: Cannot divide by zero.\n"
          ]
        }
      ]
    },
    {
      "cell_type": "markdown",
      "source": [
        "Q.6 Write a Python program that logs an error message to a log file when a division by zero exception occurs."
      ],
      "metadata": {
        "id": "V-RyhPJjXpcO"
      }
    },
    {
      "cell_type": "code",
      "source": [
        "import logging\n",
        "logging.basicConfig(filename='error.log', level=logging.ERROR, format='%(asctime)s - %(levelname)s - %(message)s')\n",
        "\n",
        "try:\n",
        "    result = 10 / 0\n",
        "except ZeroDivisionError as e:\n",
        "    logging.error(\"Division by zero occurred: %s\", e)\n",
        "    print(\"An error occurred. Check the 'error.log' file for details.\")"
      ],
      "metadata": {
        "colab": {
          "base_uri": "https://localhost:8080/"
        },
        "id": "JGJSqLNNXuGV",
        "outputId": "26e13792-5e32-4662-affa-96e4a9b55b89"
      },
      "execution_count": 106,
      "outputs": [
        {
          "output_type": "stream",
          "name": "stderr",
          "text": [
            "ERROR:root:Division by zero occurred: division by zero\n"
          ]
        },
        {
          "output_type": "stream",
          "name": "stdout",
          "text": [
            "An error occurred. Check the 'error.log' file for details.\n"
          ]
        }
      ]
    },
    {
      "cell_type": "markdown",
      "source": [
        "Q.7 How do you log information at different levels (INFO, ERROR, WARNING) in Python using the logging module?"
      ],
      "metadata": {
        "id": "3W99CSqUX3XM"
      }
    },
    {
      "cell_type": "code",
      "source": [
        "import logging\n",
        "logging.basicConfig(level=logging.DEBUG,\n",
        "                    format='%(levelname)s: %(message)s')\n",
        "\n",
        "logging.debug(\"This is a DEBUG message (for detailed debugging info)\")\n",
        "logging.info(\"This is an INFO message (for general information)\")\n",
        "logging.warning(\"This is a WARNING message (for something unexpected)\")\n",
        "logging.error(\"This is an ERROR message (for a serious problem)\")\n",
        "logging.critical(\"This is a CRITICAL message (for a severe error)\")"
      ],
      "metadata": {
        "colab": {
          "base_uri": "https://localhost:8080/"
        },
        "id": "gKrL0Tz0X6-h",
        "outputId": "b09760d9-7848-42cc-e72b-39b7e3d95fce"
      },
      "execution_count": 107,
      "outputs": [
        {
          "output_type": "stream",
          "name": "stderr",
          "text": [
            "WARNING:root:This is a WARNING message (for something unexpected)\n",
            "ERROR:root:This is an ERROR message (for a serious problem)\n",
            "CRITICAL:root:This is a CRITICAL message (for a severe error)\n"
          ]
        }
      ]
    },
    {
      "cell_type": "markdown",
      "source": [
        "Q.8 Write a program to handle a file opening error using exception handling."
      ],
      "metadata": {
        "id": "yf-pzIWYYRes"
      }
    },
    {
      "cell_type": "code",
      "source": [
        "filename = 'nonexistent_file.txt'\n",
        "\n",
        "try:\n",
        "    with open(filename, 'r') as file:\n",
        "        content = file.read()\n",
        "        print(content)\n",
        "except FileNotFoundError:\n",
        "    print(f\"Error: The file '{filename}' was not found.\")"
      ],
      "metadata": {
        "colab": {
          "base_uri": "https://localhost:8080/"
        },
        "id": "X77I4349YULP",
        "outputId": "7e6f5653-3407-4793-d6c2-5f9306dcbec6"
      },
      "execution_count": 108,
      "outputs": [
        {
          "output_type": "stream",
          "name": "stdout",
          "text": [
            "Error: The file 'nonexistent_file.txt' was not found.\n"
          ]
        }
      ]
    },
    {
      "cell_type": "markdown",
      "source": [
        "Q.9 How can you read a file line by line and store its content in a list in Python?"
      ],
      "metadata": {
        "id": "mN-iIhxWYdKF"
      }
    },
    {
      "cell_type": "code",
      "source": [
        "with open('filename.txt', 'r') as file:\n",
        "    lines = [line.strip() for line in file]\n",
        "print(lines)"
      ],
      "metadata": {
        "colab": {
          "base_uri": "https://localhost:8080/"
        },
        "id": "OrYDZfdDYhCy",
        "outputId": "9b4c64f3-ccd6-49ad-9a93-a56806234dad"
      },
      "execution_count": 109,
      "outputs": [
        {
          "output_type": "stream",
          "name": "stdout",
          "text": [
            "['Aditya is a Good Dancer.']\n"
          ]
        }
      ]
    },
    {
      "cell_type": "markdown",
      "source": [
        "Q.10 How can you append data to an existing file in Python?"
      ],
      "metadata": {
        "id": "LhDJB7gTY277"
      }
    },
    {
      "cell_type": "code",
      "source": [
        "with open('filename.txt', 'a') as file:\n",
        "    file.write(\"\\nRahul is a Brilliant boy.\\n\")"
      ],
      "metadata": {
        "id": "0-3PWQtJY6jy"
      },
      "execution_count": 112,
      "outputs": []
    },
    {
      "cell_type": "markdown",
      "source": [
        "Q.11 Write a Python program that uses a try-except block to handle an error when attempting to access a dictionary key that doesn't exist."
      ],
      "metadata": {
        "id": "Xg_lCsHSZwJs"
      }
    },
    {
      "cell_type": "code",
      "source": [
        "my_dict = {'a': 1, 'b': 2, 'c': 3}\n",
        "try:\n",
        "    value = my_dict['d']\n",
        "    print(f\"Value: {value}\")\n",
        "except KeyError:\n",
        "    print(\"Error: The key 'd' does not exist in the dictionary.\")"
      ],
      "metadata": {
        "colab": {
          "base_uri": "https://localhost:8080/"
        },
        "id": "2USbpJitZ4xj",
        "outputId": "8e46d38c-040a-40b2-e3ff-6e346ee824e2"
      },
      "execution_count": 111,
      "outputs": [
        {
          "output_type": "stream",
          "name": "stdout",
          "text": [
            "Error: The key 'd' does not exist in the dictionary.\n"
          ]
        }
      ]
    },
    {
      "cell_type": "markdown",
      "source": [
        "Q.12 Write a program that demonstrates using multiple except blocks to handle different types of exceptions."
      ],
      "metadata": {
        "id": "D3KDQiY4Z_d7"
      }
    },
    {
      "cell_type": "code",
      "source": [
        "try:\n",
        "    x = int(input(\"Enter a number: \"))\n",
        "    y = int(input(\"Enter another number: \"))\n",
        "    print(x / y)\n",
        "\n",
        "    my_list = [1, 2, 3]\n",
        "    print(my_list[5])\n",
        "\n",
        "except ZeroDivisionError:\n",
        "    print(\"Can't divide by zero!\")\n",
        "\n",
        "except ValueError:\n",
        "    print(\"Please enter a valid number!\")\n",
        "\n",
        "except IndexError:\n",
        "    print(\"List index is out of range!\")"
      ],
      "metadata": {
        "colab": {
          "base_uri": "https://localhost:8080/"
        },
        "id": "Zq-X4SoWaD1o",
        "outputId": "379c1052-4e7e-492f-a00d-0ae2527ce276"
      },
      "execution_count": 113,
      "outputs": [
        {
          "output_type": "stream",
          "name": "stdout",
          "text": [
            "Enter a number: 3\n",
            "Enter another number: 8\n",
            "0.375\n",
            "List index is out of range!\n"
          ]
        }
      ]
    },
    {
      "cell_type": "markdown",
      "source": [
        "Q.13 How would you check if a file exists before attempting to read it in Python?"
      ],
      "metadata": {
        "id": "-DD3tN1SaYcd"
      }
    },
    {
      "cell_type": "code",
      "source": [
        "import os\n",
        "if os.path.exists('example.txt'):\n",
        "    with open('example.txt', 'r') as file:\n",
        "        print(file.read())\n",
        "else:\n",
        "    print(\"File does not exist.\")"
      ],
      "metadata": {
        "colab": {
          "base_uri": "https://localhost:8080/"
        },
        "id": "1FMiziOSaa-5",
        "outputId": "87ca8c2d-463d-441d-8d94-a1f1d668ee9d"
      },
      "execution_count": 114,
      "outputs": [
        {
          "output_type": "stream",
          "name": "stdout",
          "text": [
            "File does not exist.\n"
          ]
        }
      ]
    },
    {
      "cell_type": "markdown",
      "source": [
        "Q.14 Write a program that uses the logging module to log both informational and error messages."
      ],
      "metadata": {
        "id": "YnZIaHNZal00"
      }
    },
    {
      "cell_type": "code",
      "source": [
        "import logging\n",
        "logging.basicConfig(filename='app.log', level=logging.INFO,\n",
        "                    format='%(asctime)s - %(levelname)s - %(message)s')\n",
        "\n",
        "logging.info(\"This is an informational message.\")\n",
        "logging.error(\"This is an error message.\")"
      ],
      "metadata": {
        "colab": {
          "base_uri": "https://localhost:8080/"
        },
        "id": "hoGrxHTiaodK",
        "outputId": "74f6f9f6-0216-48a1-ae11-22cb4231d58e"
      },
      "execution_count": 115,
      "outputs": [
        {
          "output_type": "stream",
          "name": "stderr",
          "text": [
            "ERROR:root:This is an error message.\n"
          ]
        }
      ]
    },
    {
      "cell_type": "markdown",
      "source": [
        "Q.15 Write a Python program that prints the content of a file and handles the case when the file is empty."
      ],
      "metadata": {
        "id": "3pxoyesQayQN"
      }
    },
    {
      "cell_type": "code",
      "source": [
        "filename = 'example.txt'\n",
        "try:\n",
        "    with open(filename, 'r') as file:\n",
        "        content = file.read()\n",
        "        if content:\n",
        "            print(content)\n",
        "        else:\n",
        "            print(\"The file is empty.\")\n",
        "except FileNotFoundError:\n",
        "    print(f\"Error: The file '{filename}' does not exist.\")"
      ],
      "metadata": {
        "colab": {
          "base_uri": "https://localhost:8080/"
        },
        "id": "08ZUNgPva1pB",
        "outputId": "6af17eed-bf3b-470c-c663-cfce2978d209"
      },
      "execution_count": 116,
      "outputs": [
        {
          "output_type": "stream",
          "name": "stdout",
          "text": [
            "Error: The file 'example.txt' does not exist.\n"
          ]
        }
      ]
    },
    {
      "cell_type": "markdown",
      "source": [
        "Q.16 Demonstrate how to use memory profiling to check the memory usage of a small program."
      ],
      "metadata": {
        "id": "foLKGJfna_cr"
      }
    },
    {
      "cell_type": "code",
      "source": [
        "from memory_profiler import profile\n",
        "@profile\n",
        "def my_function():\n",
        "    numbers = [i for i in range(100000)]  # Create a big list\n",
        "    squares = [x*x for x in numbers]\n",
        "    return squares\n",
        "\n",
        "my_function()"
      ],
      "metadata": {
        "id": "vTaqRjiNb7w0"
      },
      "execution_count": null,
      "outputs": []
    },
    {
      "cell_type": "markdown",
      "source": [
        "Q.17 Write a Python program to create and write a list of numbers to a file, one number per line."
      ],
      "metadata": {
        "id": "Mbuz2uHnb_ok"
      }
    },
    {
      "cell_type": "code",
      "source": [
        "numbers = [1, 2, 3, 4, 5]\n",
        "with open('numbers.txt', 'w') as file:\n",
        "    for number in numbers:\n",
        "        file.write(str(number) + '\\n')\n",
        "print(numbers)"
      ],
      "metadata": {
        "colab": {
          "base_uri": "https://localhost:8080/"
        },
        "id": "bLtzwfQ6cEaF",
        "outputId": "80bd6c2a-6a9e-4d59-8caf-0497532301b1"
      },
      "execution_count": 117,
      "outputs": [
        {
          "output_type": "stream",
          "name": "stdout",
          "text": [
            "[1, 2, 3, 4, 5]\n"
          ]
        }
      ]
    },
    {
      "cell_type": "markdown",
      "source": [
        "Q.18 How would you implement a basic logging setup that logs to a file with rotation after 1MB?"
      ],
      "metadata": {
        "id": "p2DD4T9mcPTN"
      }
    },
    {
      "cell_type": "code",
      "source": [
        "import logging\n",
        "from logging.handlers import RotatingFileHandler\n",
        "\n",
        "logger = logging.getLogger('my_logger')\n",
        "logger.setLevel(logging.INFO)\n",
        "\n",
        "handler = RotatingFileHandler('app.log', maxBytes=1_000_000, backupCount=3)\n",
        "formatter = logging.Formatter('%(asctime)s - %(levelname)s - %(message)s')\n",
        "handler.setFormatter(formatter)\n",
        "\n",
        "logger.addHandler(handler)\n",
        "\n",
        "logger.info(\"This is an info message.\")\n",
        "logger.error(\"This is an error message.\")"
      ],
      "metadata": {
        "colab": {
          "base_uri": "https://localhost:8080/"
        },
        "id": "xR6kuQ-_cdcr",
        "outputId": "2038b87f-7919-4677-c600-f8958afa5fb2"
      },
      "execution_count": 118,
      "outputs": [
        {
          "output_type": "stream",
          "name": "stderr",
          "text": [
            "INFO:my_logger:This is an info message.\n",
            "ERROR:my_logger:This is an error message.\n"
          ]
        }
      ]
    },
    {
      "cell_type": "markdown",
      "source": [
        "Q.19 Write a program that handles both IndexError and KeyError using a try-except block."
      ],
      "metadata": {
        "id": "u67GvZP2cvkl"
      }
    },
    {
      "cell_type": "code",
      "source": [
        "my_list = [10, 20, 30]\n",
        "my_dict = {'a': 1, 'b': 2}\n",
        "try:\n",
        "    print(my_list[5])\n",
        "    print(my_dict['z'])\n",
        "except IndexError:\n",
        "    print(\"Error: List index is out of range.\")\n",
        "except KeyError:\n",
        "    print(\"Error: Key not found in dictionary.\")"
      ],
      "metadata": {
        "colab": {
          "base_uri": "https://localhost:8080/"
        },
        "id": "KeMnxNgGcylx",
        "outputId": "96decfa1-b584-4b8d-f6d5-6e08e8c75052"
      },
      "execution_count": 119,
      "outputs": [
        {
          "output_type": "stream",
          "name": "stdout",
          "text": [
            "Error: List index is out of range.\n"
          ]
        }
      ]
    },
    {
      "cell_type": "markdown",
      "source": [
        "Q.20 How would you open a file and read its contents using a context manager in Python?"
      ],
      "metadata": {
        "id": "NZAH5Iw1c6Gj"
      }
    },
    {
      "cell_type": "code",
      "source": [
        "with open('filename.txt', 'r') as file:\n",
        "    contents = file.read()\n",
        "    print(contents)"
      ],
      "metadata": {
        "colab": {
          "base_uri": "https://localhost:8080/"
        },
        "id": "SP8iZ0oZc8-4",
        "outputId": "fdb7a628-b111-4294-e21e-c21855edbcbd"
      },
      "execution_count": 120,
      "outputs": [
        {
          "output_type": "stream",
          "name": "stdout",
          "text": [
            "Aditya is a Good Dancer.Rahul is a Brilliant boy.\n",
            "\n",
            "Rahul is a Brilliant boy.\n",
            "\n"
          ]
        }
      ]
    },
    {
      "cell_type": "markdown",
      "source": [
        "Q.21 Write a Python program that reads a file and prints the number of occurrences of a specific word."
      ],
      "metadata": {
        "id": "7w5EM5u-efRc"
      }
    },
    {
      "cell_type": "code",
      "source": [
        "filename = 'example.txt'\n",
        "word_to_count = 'python'\n",
        "try:\n",
        "    with open(filename, 'r') as file:\n",
        "        content = file.read().lower()\n",
        "        words = content.split()\n",
        "        count = words.count(word_to_count.lower())\n",
        "    print(f\"The word '{word_to_count}' appears {count} times in the file.\")\n",
        "except FileNotFoundError:\n",
        "    print(f\"Error: The file '{filename}' does not exist.\")"
      ],
      "metadata": {
        "colab": {
          "base_uri": "https://localhost:8080/"
        },
        "id": "VVErA6aVekt2",
        "outputId": "b6045ff8-5166-4047-90b0-fa8d04bd10c2"
      },
      "execution_count": 122,
      "outputs": [
        {
          "output_type": "stream",
          "name": "stdout",
          "text": [
            "Error: The file 'example.txt' does not exist.\n"
          ]
        }
      ]
    },
    {
      "cell_type": "markdown",
      "source": [
        "Q.22 How can you check if a file is empty before attempting to read its contents?"
      ],
      "metadata": {
        "id": "bP4YUwWcerst"
      }
    },
    {
      "cell_type": "code",
      "source": [
        "import os\n",
        "filename = 'example.txt'\n",
        "\n",
        "if os.path.exists(filename) and os.path.getsize(filename) > 0:\n",
        "    with open(filename, 'r') as file:\n",
        "        content = file.read()\n",
        "        print(content)\n",
        "else:\n",
        "    print(\"The file is empty or does not exist.\")"
      ],
      "metadata": {
        "colab": {
          "base_uri": "https://localhost:8080/"
        },
        "id": "0w5fCM2ceu5T",
        "outputId": "399bdb88-a5b7-4ed3-805f-5513786a6b77"
      },
      "execution_count": 124,
      "outputs": [
        {
          "output_type": "stream",
          "name": "stdout",
          "text": [
            "The file is empty or does not exist.\n"
          ]
        }
      ]
    },
    {
      "cell_type": "markdown",
      "source": [
        "Q.23 Write a Python program that writes to a log file when an error occurs during file handling."
      ],
      "metadata": {
        "id": "3d_LrVTle420"
      }
    },
    {
      "cell_type": "code",
      "source": [
        "import logging\n",
        "logging.basicConfig(filename='error.log', level=logging.ERROR)\n",
        "\n",
        "try:\n",
        "    with open('file.txt', 'r') as f:\n",
        "        print(f.read())\n",
        "except Exception as e:\n",
        "    logging.error(f\"File error: {e}\")\n",
        "    print(\"Something went wrong. Check error.log.\")"
      ],
      "metadata": {
        "colab": {
          "base_uri": "https://localhost:8080/"
        },
        "id": "7r1cXz6te8s1",
        "outputId": "97a3166e-6cf5-488c-8484-899a8a28b358"
      },
      "execution_count": 125,
      "outputs": [
        {
          "output_type": "stream",
          "name": "stderr",
          "text": [
            "ERROR:root:File error: [Errno 2] No such file or directory: 'file.txt'\n"
          ]
        },
        {
          "output_type": "stream",
          "name": "stdout",
          "text": [
            "Something went wrong. Check error.log.\n"
          ]
        }
      ]
    }
  ]
}