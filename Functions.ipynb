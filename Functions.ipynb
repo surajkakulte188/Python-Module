{
  "nbformat": 4,
  "nbformat_minor": 0,
  "metadata": {
    "colab": {
      "provenance": []
    },
    "kernelspec": {
      "name": "python3",
      "display_name": "Python 3"
    },
    "language_info": {
      "name": "python"
    }
  },
  "cells": [
    {
      "cell_type": "markdown",
      "source": [
        "#Function Assignment\n",
        "**Theory Questions**\n",
        "\n",
        "Q.1 What is the difference between a function and a method in Python?\n",
        "\n",
        "--> In Python, a function & a method are both blocks of code that perform a specific task, but the key difference lies in how they are used & what they are associated with:\n",
        "1. Function:\n",
        "- A function is independent & is not tied to an object.\n",
        "- Defined using ''def'' keyword.\n",
        "- Can be called on its own.\n",
        "- Ex.:"
      ],
      "metadata": {
        "id": "LFu3lHoRGcCM"
      }
    },
    {
      "cell_type": "code",
      "execution_count": null,
      "metadata": {
        "colab": {
          "base_uri": "https://localhost:8080/"
        },
        "id": "shzcK_s7GZpN",
        "outputId": "7e2a8688-03d8-425e-adc4-bec5225a2833"
      },
      "outputs": [
        {
          "output_type": "stream",
          "name": "stdout",
          "text": [
            "Hello, Suraj!\n"
          ]
        }
      ],
      "source": [
        "def greet(name):\n",
        "    return f\"Hello, {name}!\"\n",
        "\n",
        "print(greet(\"Suraj\"))"
      ]
    },
    {
      "cell_type": "markdown",
      "source": [
        "2. Method:\n",
        "- A method is a function that belongs to an object.\n",
        "- The first argument is typically self, referring to the object itself.\n",
        "- Called on an object using dot (.) notation.\n",
        "- EX.:"
      ],
      "metadata": {
        "id": "Ju1XpndWGa8U"
      }
    },
    {
      "cell_type": "code",
      "source": [
        "def greet(self, name):\n",
        "        return f\"Hello, {name}!\"\n",
        "\n",
        "g = Greeter()\n",
        "print(g.greet(\"Aditya\"))"
      ],
      "metadata": {
        "colab": {
          "base_uri": "https://localhost:8080/"
        },
        "id": "9U6rD8UPIWIF",
        "outputId": "6abd9160-5ee0-4520-ef35-8f065cde9ce9"
      },
      "execution_count": null,
      "outputs": [
        {
          "output_type": "stream",
          "name": "stdout",
          "text": [
            "Hello, Aditya!\n"
          ]
        }
      ]
    },
    {
      "cell_type": "markdown",
      "source": [
        "Q.2 Explain the concept of function arguments and parameters in Python.\n",
        "\n",
        "--> In Python, parameters & arguments are describe as follows:\n",
        "1. Arguments:\n",
        "- These are the actual values passed to a function when you call it.\n",
        "- They are values you supply when calling the function.\n",
        "\n",
        "2. Parameters:\n",
        "- These are the placeholders used in a function definition.\n",
        "- They define what kind of input the function expects.\n",
        "- They are variables in the function definition."
      ],
      "metadata": {
        "id": "XIn-ozMLKPPm"
      }
    },
    {
      "cell_type": "code",
      "source": [
        "def introduce(name, age): # Parameters: name, age\n",
        "    print(f\"My name is {name} and I am {age} years old.\")\n",
        "\n",
        "introduce(\"Siddhesh\", 21) # Arguments: \"Alice\", 30"
      ],
      "metadata": {
        "colab": {
          "base_uri": "https://localhost:8080/"
        },
        "id": "Td9ebw90MKxP",
        "outputId": "66e50d39-0b42-49a6-9aad-6b92ae0084ef"
      },
      "execution_count": null,
      "outputs": [
        {
          "output_type": "stream",
          "name": "stdout",
          "text": [
            "My name is Siddhesh and I am 21 years old.\n"
          ]
        }
      ]
    },
    {
      "cell_type": "markdown",
      "source": [
        "Q.3 What are the different ways to define and call a function in Python?\n",
        "\n",
        "--> In Python, there are several ways to define & call functions such as follows:\n",
        "1. Standard Function Definition:\n",
        "- It is defined using the \"def\" keyword.\n",
        "- \"def\" for standard/named functions.\n",
        "- Ex.:"
      ],
      "metadata": {
        "id": "QdoIQqwaMXqN"
      }
    },
    {
      "cell_type": "code",
      "source": [
        "def greet(name):\n",
        "    return f\"Hello, {name}!\"\n",
        "\n",
        "print(greet(\"Rushikesh\"))"
      ],
      "metadata": {
        "colab": {
          "base_uri": "https://localhost:8080/"
        },
        "id": "0X9CSb8HN84W",
        "outputId": "ffb4de64-0211-4987-db74-7f9521a115c4"
      },
      "execution_count": null,
      "outputs": [
        {
          "output_type": "stream",
          "name": "stdout",
          "text": [
            "Hello, Rushikesh!\n"
          ]
        }
      ]
    },
    {
      "cell_type": "markdown",
      "source": [
        "2. Function with Default Arguments:\n",
        "- Parameters can have default values.\n",
        "- Ex.:"
      ],
      "metadata": {
        "id": "zr6lgcxlORbk"
      }
    },
    {
      "cell_type": "code",
      "source": [
        "def greet(name=\"Guest\"):\n",
        "    return f\"Hello, {name}!\"\n",
        "\n",
        "print(greet())\n",
        "print(greet(\"Mayurraj\"))"
      ],
      "metadata": {
        "colab": {
          "base_uri": "https://localhost:8080/"
        },
        "id": "5hbGgnUgOeTF",
        "outputId": "02e8fa08-2d3f-4d38-8fac-0a3aa48fc859"
      },
      "execution_count": null,
      "outputs": [
        {
          "output_type": "stream",
          "name": "stdout",
          "text": [
            "Hello, Guest!\n",
            "Hello, Mayurraj!\n"
          ]
        }
      ]
    },
    {
      "cell_type": "markdown",
      "source": [
        "3. Function with Variable-Length Arguments:\n",
        "- Using \"args\"for positional & \"kwargs\" for keyword arguments.\n",
        "-Ex.:"
      ],
      "metadata": {
        "id": "Rv0pyzizOyYc"
      }
    },
    {
      "cell_type": "code",
      "source": [
        "def show_args(*args, **kwargs):\n",
        "    print(\"Args:\", args)\n",
        "    print(\"Kwargs:\", kwargs)\n",
        "\n",
        "show_args(1, 2, a=3, b=4)"
      ],
      "metadata": {
        "colab": {
          "base_uri": "https://localhost:8080/"
        },
        "id": "3Uh66TjbPH6l",
        "outputId": "9b39086a-f910-4b1d-c1e5-e80e0b0db0b3"
      },
      "execution_count": null,
      "outputs": [
        {
          "output_type": "stream",
          "name": "stdout",
          "text": [
            "Args: (1, 2)\n",
            "Kwargs: {'a': 3, 'b': 4}\n"
          ]
        }
      ]
    },
    {
      "cell_type": "markdown",
      "source": [
        "4. Lambda Function:\n",
        "- It is used for small, one-line functions.\n",
        "- Lambda for anonymous inline functions.\n",
        "- Ex.:"
      ],
      "metadata": {
        "id": "hXliyuwUPY7_"
      }
    },
    {
      "cell_type": "code",
      "source": [
        "square = lambda x: x ** 2\n",
        "\n",
        "print(square(8))"
      ],
      "metadata": {
        "colab": {
          "base_uri": "https://localhost:8080/"
        },
        "id": "xnMWObVVPX_v",
        "outputId": "ef248643-8851-4527-930e-f50060a33dce"
      },
      "execution_count": null,
      "outputs": [
        {
          "output_type": "stream",
          "name": "stdout",
          "text": [
            "64\n"
          ]
        }
      ]
    },
    {
      "cell_type": "markdown",
      "source": [
        "Q.4 What is the purpose of the 'return' statement in a Python function?\n",
        "\n",
        "--> The return statement in a Python function is mainly used to send a value back to the caller of the function. It commonly used for:\n",
        "- To give back a result after the function finishes.\n",
        "- It ends the function execution.\n",
        "- Ex.:"
      ],
      "metadata": {
        "id": "RYGAbmolP12d"
      }
    },
    {
      "cell_type": "code",
      "source": [
        "def add(a, b):\n",
        "    return a + b\n",
        "\n",
        "result = add(8, 3)\n",
        "print(result)"
      ],
      "metadata": {
        "colab": {
          "base_uri": "https://localhost:8080/"
        },
        "id": "0G5xJjQTUJDt",
        "outputId": "0957d8d7-64ef-4b92-ff0a-ed205522d474"
      },
      "execution_count": null,
      "outputs": [
        {
          "output_type": "stream",
          "name": "stdout",
          "text": [
            "11\n"
          ]
        }
      ]
    },
    {
      "cell_type": "markdown",
      "source": [
        "Q.5 What are iterators in Python and how do they differ from iterables?\n",
        "\n",
        "--> An iterator is an object that keeps state & gives next value using next().\n",
        "- It has \"__iter__()\" & \"__next__()\" methods.\n",
        "- Created by calling iter() on an iterable.\n",
        "\n",
        "The difference between Iterator & Iterable:\n",
        "- Iterable: Can be looped but not used with next() directly.\n",
        "- Iterator: Can be used with next() to get values one by one.\n",
        "- All iterators are iterables, but not all iterables are iterators."
      ],
      "metadata": {
        "id": "MqBZYGmoURWf"
      }
    },
    {
      "cell_type": "code",
      "source": [
        "num = [1, 2, 3]\n",
        "\n",
        "it = iter(num)\n",
        "\n",
        "print(next(it))\n",
        "print(next(it))\n"
      ],
      "metadata": {
        "colab": {
          "base_uri": "https://localhost:8080/"
        },
        "id": "PpPdKmmHVsHf",
        "outputId": "3ce28843-7229-472f-88dd-1bb6da5d7d4d"
      },
      "execution_count": null,
      "outputs": [
        {
          "output_type": "stream",
          "name": "stdout",
          "text": [
            "1\n",
            "2\n"
          ]
        }
      ]
    },
    {
      "cell_type": "markdown",
      "source": [
        "Q.6 Explain the concept of generators in Python and how they are defined.\n",
        "\n",
        "--> Generators in Python are a simple & powerful tool for creating iterators. They allow you to declare a function that behaves like an iterator — meaning it can be used in a loop & can generate values on the fly without storing them all in memory. The benefits of generators are:\n",
        "- Memory efficient: Only one item is in memory at a time.\n",
        "- Lazy evaluation: Items are produced only when needed.\n",
        "- Readable & clean: Useful for working with large data or infinite sequences.\n",
        "- Generators are defined like normal functions but use the \"yield\" statement to return values one at a time, suspending & resuming execution as needed.\n",
        "- Ex.:"
      ],
      "metadata": {
        "id": "OHGV-bzMV5wT"
      }
    },
    {
      "cell_type": "code",
      "source": [
        "def count(max):\n",
        "    count = 1\n",
        "    while count <= max:\n",
        "        yield count\n",
        "        count += 1\n",
        "\n",
        "counter = count(5)\n",
        "\n",
        "for num in counter:\n",
        "    print(num)"
      ],
      "metadata": {
        "colab": {
          "base_uri": "https://localhost:8080/"
        },
        "id": "FJ3eTpjmQh_H",
        "outputId": "cdb37422-fdd2-49e0-a3a8-9cda2618ada6"
      },
      "execution_count": null,
      "outputs": [
        {
          "output_type": "stream",
          "name": "stdout",
          "text": [
            "1\n",
            "2\n",
            "3\n",
            "4\n",
            "5\n"
          ]
        }
      ]
    },
    {
      "cell_type": "markdown",
      "source": [
        "Q.7 What are the advantages of using generators over regular functions?\n",
        "\n",
        "--> Generators offer several advantages over regular functions such as follows:\n",
        "1. Memory Efficiency: Generators don't store all values in memory — they yield items one at a time as needed.\n",
        "2. Lazy Evaluation: Generators compute values on the fly, only when requested via next() or in a loop. This makes them great for:\n",
        "- Infinite sequences (ex. Fibonacci numbers)\n",
        "- Streaming data (ex. reading large files line-by-line).\n",
        "3. Improved Performance: Since generators yield values only when needed, they:\n",
        "- Start up faster\n",
        "- Avoid unnecessary computation\n",
        "- Reduce I/O wait time when dealing with data streams.\n",
        "4. Cleaner Code for Iterators: Generators allow simple, readable code for creating iterators without needing to implement \"__iter__()\" & \"__next__()\" manually."
      ],
      "metadata": {
        "id": "5TZSa0CBQ8cl"
      }
    },
    {
      "cell_type": "code",
      "source": [
        "def fibonacci():\n",
        "    a, b = 0, 1\n",
        "    while True:\n",
        "        yield a\n",
        "        a, b = b, a + b\n",
        "\n",
        "fib = fibonacci()\n",
        "for _ in range(10):\n",
        "    print(next(fib))"
      ],
      "metadata": {
        "colab": {
          "base_uri": "https://localhost:8080/"
        },
        "id": "Au07jAMuQeg2",
        "outputId": "27bdfb68-6ace-4b9f-a0d3-6a7eba6ecb6e"
      },
      "execution_count": null,
      "outputs": [
        {
          "output_type": "stream",
          "name": "stdout",
          "text": [
            "0\n",
            "1\n",
            "1\n",
            "2\n",
            "3\n",
            "5\n",
            "8\n",
            "13\n",
            "21\n",
            "34\n"
          ]
        }
      ]
    },
    {
      "cell_type": "markdown",
      "source": [
        "Q.8 What is a lambda function in Python and when is it typically used?\n",
        "\n",
        "--> A lambda function in Python is a small anonymous function defined using the \"lambda\" keyword. It's used to create simple functions without a name, usually in a single line of code. They are typically used for short, simple operations especially when:\n",
        "- function is needed temporarily or inline\n",
        "- Defining a full function with def would be unnecessarily verbose\n",
        "- Used as arguments to higher-order functions like map(), filter(), or sorted().\n",
        "- Ex.:"
      ],
      "metadata": {
        "id": "bR5lyOUqTmP_"
      }
    },
    {
      "cell_type": "code",
      "source": [
        "fruits = ['banana', 'apple', 'strawberry']\n",
        "sorted_list = sorted(fruits, key=lambda x: len(x))\n",
        "print(sorted_list)"
      ],
      "metadata": {
        "colab": {
          "base_uri": "https://localhost:8080/"
        },
        "id": "NBoDRlxcVIEl",
        "outputId": "6f55748c-1137-40cb-92d4-049a38452719"
      },
      "execution_count": null,
      "outputs": [
        {
          "output_type": "stream",
          "name": "stdout",
          "text": [
            "['apple', 'banana', 'strawberry']\n"
          ]
        }
      ]
    },
    {
      "cell_type": "markdown",
      "source": [
        "Q.9 Explain the purpose and usage of the 'map()' function in Python.\n",
        "\n",
        "--> The \"map()\" function in Python is used to apply a function to every item in an iterable & return a new map object with the results. The purposes of \"map()\" function states below:\n",
        "- Apply a transformation to a sequence of elements\n",
        "- Avoid explicit loops (more concise & often more efficient)\n",
        "- Work well with lambda functions or regular functions.\n",
        "- Ex.:"
      ],
      "metadata": {
        "id": "AU5WmjZuVq1c"
      }
    },
    {
      "cell_type": "code",
      "source": [
        "numbers = [1, 2, 3, 4]\n",
        "squares = list(map(lambda x: x ** 2, numbers))\n",
        "\n",
        "print(squares)"
      ],
      "metadata": {
        "colab": {
          "base_uri": "https://localhost:8080/"
        },
        "id": "G6dcFizzYmNz",
        "outputId": "f34ebaff-a4a6-4d2f-b138-c3ad8cb8135f"
      },
      "execution_count": null,
      "outputs": [
        {
          "output_type": "stream",
          "name": "stdout",
          "text": [
            "[1, 4, 9, 16]\n"
          ]
        }
      ]
    },
    {
      "cell_type": "markdown",
      "source": [
        "Q.10 What is the difference between 'map()', 'reduce()', and 'filter()' functions in Python?\n",
        "\n",
        "--> The functions map(), reduce() & filter() in Python are used for functional programming. They all operate on iterables, but have different purposes:\n",
        "1. map(): Transform Items\n",
        "- Purpose: Applies a function to each item in an iterable.\n",
        "- Returns: A new iterable with transformed items."
      ],
      "metadata": {
        "id": "BlPo_AveYphM"
      }
    },
    {
      "cell_type": "code",
      "source": [
        "nums = [1, 2, 3]\n",
        "squares = list(map(lambda x: x ** 2, nums))\n",
        "print(squares)"
      ],
      "metadata": {
        "colab": {
          "base_uri": "https://localhost:8080/"
        },
        "id": "H_UUhzV2cZ6h",
        "outputId": "0fd22956-ceac-4fd4-9f5b-c6de2fe660ae"
      },
      "execution_count": null,
      "outputs": [
        {
          "output_type": "stream",
          "name": "stdout",
          "text": [
            "[1, 4, 9]\n"
          ]
        }
      ]
    },
    {
      "cell_type": "markdown",
      "source": [
        "2. reduce(): Aggregate Items\n",
        "- Purpose: Applies a function cumulatively to reduce the iterable to a single value.\n",
        "- Returns: A single result.\n",
        "- It must be import from functools."
      ],
      "metadata": {
        "id": "owXhTPHhcjZT"
      }
    },
    {
      "cell_type": "code",
      "source": [
        "from functools import reduce\n",
        "nums = [1, 2, 3, 4]\n",
        "total = reduce(lambda x, y: x + y, nums)\n",
        "print(total)"
      ],
      "metadata": {
        "colab": {
          "base_uri": "https://localhost:8080/"
        },
        "id": "ufNx2I3scuSq",
        "outputId": "77c29a25-0bb2-4527-bd2a-e3f9bb2bddb3"
      },
      "execution_count": null,
      "outputs": [
        {
          "output_type": "stream",
          "name": "stdout",
          "text": [
            "10\n"
          ]
        }
      ]
    },
    {
      "cell_type": "markdown",
      "source": [
        "3. filter(): Select Items\n",
        "- Purpose: Selects items from an iterable based on a condition.\n",
        "- Returns: A new iterable with items that return True."
      ],
      "metadata": {
        "id": "VE8p_aOPc7sj"
      }
    },
    {
      "cell_type": "code",
      "source": [
        "nums = [1, 2, 3, 4]\n",
        "evens = list(filter(lambda x: x % 2 == 0, nums))\n",
        "print(evens)"
      ],
      "metadata": {
        "colab": {
          "base_uri": "https://localhost:8080/"
        },
        "id": "wr_4tqYkdFIT",
        "outputId": "825194a6-2c4f-4a81-ceae-128f3a62bbf0"
      },
      "execution_count": null,
      "outputs": [
        {
          "output_type": "stream",
          "name": "stdout",
          "text": [
            "[2, 4]\n"
          ]
        }
      ]
    },
    {
      "cell_type": "markdown",
      "source": [
        "Q.11 Write the internal mechanism for sum operation using reduce function on this given list:[47,11,42,13].\n",
        "\n",
        "--> https://drive.google.com/file/d/1kDYOxxr8meHB7n-lhVFIMPFhElWcPA6D/view?usp=drive_link"
      ],
      "metadata": {
        "id": "0DiEukUw8fCc"
      }
    },
    {
      "cell_type": "markdown",
      "source": [
        "**Practical Questions**\n",
        "\n",
        "Q.1 Write a Python function that takes a list of numbers as input and returns the sum of all even numbers in the list.\n",
        "\n",
        "-->"
      ],
      "metadata": {
        "id": "an98RN2sdMTD"
      }
    },
    {
      "cell_type": "code",
      "source": [
        "def sum_even_num():\n",
        "    input_list = input(\"Enter a list of numbers separated by spaces: \")\n",
        "    numbers = list(map(int, input_list.split()))\n",
        "    even_sum = sum(num for num in numbers if num % 2 == 0)\n",
        "    return even_sum\n",
        "\n",
        "result = sum_even_num()\n",
        "print(\"Sum of even numbers:\", result)"
      ],
      "metadata": {
        "colab": {
          "base_uri": "https://localhost:8080/"
        },
        "id": "7ZJZwewhd-rN",
        "outputId": "b3b3b7cb-5201-4cb5-8532-f1cbe363c2ae"
      },
      "execution_count": null,
      "outputs": [
        {
          "output_type": "stream",
          "name": "stdout",
          "text": [
            "Enter a list of numbers separated by spaces: 8 18 21 3\n",
            "Sum of even numbers: 26\n"
          ]
        }
      ]
    },
    {
      "cell_type": "markdown",
      "source": [
        "Q.2 Create a Python function that accepts a string and returns the reverse of that string.\n",
        "\n",
        "-->"
      ],
      "metadata": {
        "id": "Eu5nJJ3we7Tj"
      }
    },
    {
      "cell_type": "code",
      "source": [
        "def reverse_str():\n",
        "    user_input = input(\"Enter a string: \")\n",
        "    return user_input[::-1]\n",
        "\n",
        "reversed_text = reverse_str()\n",
        "print(\"Reversed string:\", reversed_text)"
      ],
      "metadata": {
        "colab": {
          "base_uri": "https://localhost:8080/"
        },
        "id": "obTFxkmRfAo0",
        "outputId": "37e6b40d-146c-4826-cc96-ba86b5ca5fe7"
      },
      "execution_count": null,
      "outputs": [
        {
          "output_type": "stream",
          "name": "stdout",
          "text": [
            "Enter a string: Vijay is the topper of his class.\n",
            "Reversed string: .ssalc sih fo reppot eht si yajiV\n"
          ]
        }
      ]
    },
    {
      "cell_type": "markdown",
      "source": [
        "Q.3  Implement a Python function that takes a list of integers and returns a new list containing the squares of each number.\n",
        "\n",
        "-->"
      ],
      "metadata": {
        "id": "JQrs3FQigOSr"
      }
    },
    {
      "cell_type": "code",
      "source": [
        "def square_list():\n",
        "    input_str = input(\"Enter integers separated by spaces: \")\n",
        "    numbers = list(map(int, input_str.split()))\n",
        "    squared_numbers = [num ** 2 for num in numbers]\n",
        "    return squared_numbers\n",
        "\n",
        "result = square_list()\n",
        "print(\"Squared numbers:\", result)"
      ],
      "metadata": {
        "colab": {
          "base_uri": "https://localhost:8080/"
        },
        "id": "bjwfLWZggkQo",
        "outputId": "b1c02210-c1f1-4fc4-b697-eeeaf6687ec8"
      },
      "execution_count": null,
      "outputs": [
        {
          "output_type": "stream",
          "name": "stdout",
          "text": [
            "Enter integers separated by spaces: 5 6 7 8 9\n",
            "Squared numbers: [25, 36, 49, 64, 81]\n"
          ]
        }
      ]
    },
    {
      "cell_type": "markdown",
      "source": [
        "Q.4 Write a Python function that checks if a given number is prime or not from 1 to 200.\n",
        "\n",
        "-->"
      ],
      "metadata": {
        "id": "OivPLs1jgwsL"
      }
    },
    {
      "cell_type": "code",
      "source": [
        "def prime_num():\n",
        "    num = int(input(\"Enter a number between 1 and 200: \"))\n",
        "\n",
        "    if num < 1 or num > 200:\n",
        "        print(\"Number out of valid range (1–200).\")\n",
        "        return\n",
        "\n",
        "    for i in range(2, int(num**0.5) + 1):\n",
        "        if num % i == 0:\n",
        "            print(f\"{num} is not a prime number.\")\n",
        "            return\n",
        "\n",
        "    print(f\"{num} is a prime number.\")\n",
        "prime_num()"
      ],
      "metadata": {
        "colab": {
          "base_uri": "https://localhost:8080/"
        },
        "id": "GaVrCIdVg34B",
        "outputId": "71cfec79-45f8-437f-f630-8b84feb578d1"
      },
      "execution_count": null,
      "outputs": [
        {
          "output_type": "stream",
          "name": "stdout",
          "text": [
            "Enter a number between 1 and 200: 1\n",
            "1 is a prime number.\n"
          ]
        }
      ]
    },
    {
      "cell_type": "markdown",
      "source": [
        "Q.5 Create an iterator class in Python that generates the Fibonacci sequence up to a specified number of terms.\n",
        "\n",
        "-->"
      ],
      "metadata": {
        "id": "uChSj0aciUDT"
      }
    },
    {
      "cell_type": "code",
      "source": [
        "class Fibonacci:\n",
        "    def __init__(self, n):\n",
        "        self.n = n\n",
        "        self.a = 0\n",
        "        self.b = 1\n",
        "        self.count = 0\n",
        "\n",
        "    def __iter__(self):\n",
        "        return self\n",
        "\n",
        "    def __next__(self):\n",
        "        if self.count >= self.n:\n",
        "            raise StopIteration\n",
        "        if self.count == 0:\n",
        "            self.count += 1\n",
        "            return self.a\n",
        "        elif self.count == 1:\n",
        "            self.count += 1\n",
        "            return self.b\n",
        "        else:\n",
        "            self.a, self.b = self.b, self.a + self.b\n",
        "            self.count += 1\n",
        "            return self.b\n",
        "\n",
        "num = int(input(\"Enter number of Fibonacci terms: \"))\n",
        "fib = Fibonacci(num)\n",
        "\n",
        "print(\"Fibonacci sequence:\")\n",
        "for val in fib:\n",
        "    print(val, end=\" \")"
      ],
      "metadata": {
        "colab": {
          "base_uri": "https://localhost:8080/"
        },
        "id": "--OYX1uQiZUS",
        "outputId": "644c8440-76bd-4886-c693-69b489767b30"
      },
      "execution_count": null,
      "outputs": [
        {
          "output_type": "stream",
          "name": "stdout",
          "text": [
            "Enter number of Fibonacci terms: 8\n",
            "Fibonacci sequence:\n",
            "0 1 1 2 3 5 8 13 "
          ]
        }
      ]
    },
    {
      "cell_type": "markdown",
      "source": [
        "Q.6 Write a generator function in Python that yields the powers of 2 up to a given exponent.\n",
        "\n",
        "-->"
      ],
      "metadata": {
        "id": "m3IAjfaHi2PR"
      }
    },
    {
      "cell_type": "code",
      "source": [
        "def powers_of_2(n):\n",
        "    for i in range(n + 1):\n",
        "        yield 2 ** i\n",
        "\n",
        "n = int(input(\"Enter the maximum exponent: \"))\n",
        "\n",
        "for num in powers_of_2(n):\n",
        "    print(num)"
      ],
      "metadata": {
        "colab": {
          "base_uri": "https://localhost:8080/"
        },
        "id": "LAvkqW2Gi7J0",
        "outputId": "9cdf5252-57a7-443f-c3cd-d087ebe1cac8"
      },
      "execution_count": null,
      "outputs": [
        {
          "output_type": "stream",
          "name": "stdout",
          "text": [
            "Enter the maximum exponent: 8\n",
            "1\n",
            "2\n",
            "4\n",
            "8\n",
            "16\n",
            "32\n",
            "64\n",
            "128\n",
            "256\n"
          ]
        }
      ]
    },
    {
      "cell_type": "markdown",
      "source": [
        "Q.7 Implement a generator function that reads a file line by line and yields each line as a string.\n",
        "\n",
        "-->"
      ],
      "metadata": {
        "id": "ujcEnxf7mhuj"
      }
    },
    {
      "cell_type": "code",
      "source": [
        "file_content = \"\"\"Simplify data manipulation using different methods (adding, removing, modifying elements).\n",
        "Optimize searching and sorting operations.\n",
        "Conserve memory usage.\"\"\"\n",
        "\n",
        "with open(\"ex.txt\", \"w\") as f:\n",
        "    f.write(file_content)\n",
        "\n",
        "def read_file_lines(filename):\n",
        "    with open(filename, 'r') as file:\n",
        "        for line in file:\n",
        "            yield line.strip()\n",
        "\n",
        "for line in read_file_lines(\"ex.txt\"):\n",
        "    print(line)"
      ],
      "metadata": {
        "colab": {
          "base_uri": "https://localhost:8080/"
        },
        "id": "SG34SAaNmo0X",
        "outputId": "80a654bc-6d0b-4c6d-85cf-dddcc67ae5fc"
      },
      "execution_count": null,
      "outputs": [
        {
          "output_type": "stream",
          "name": "stdout",
          "text": [
            "Simplify data manipulation using different methods (adding, removing, modifying elements).\n",
            "Optimize searching and sorting operations.\n",
            "Conserve memory usage.\n"
          ]
        }
      ]
    },
    {
      "cell_type": "markdown",
      "source": [
        "Q.8 Use a lambda function in Python to sort a list of tuples based on the second element of each tuple.\n",
        "\n",
        "-->"
      ],
      "metadata": {
        "id": "RjTz7MM-bGfz"
      }
    },
    {
      "cell_type": "code",
      "source": [
        "tuples_list = [(1, 3), (4, 1), (2, 2), (5, 0)]\n",
        "\n",
        "sorted_list = sorted(tuples_list, key=lambda x: x[1])\n",
        "\n",
        "print(sorted_list)"
      ],
      "metadata": {
        "colab": {
          "base_uri": "https://localhost:8080/"
        },
        "id": "dHuthXu6bNCG",
        "outputId": "fc2b7294-da4d-4f13-8bff-b40f6ef6c30c"
      },
      "execution_count": null,
      "outputs": [
        {
          "output_type": "stream",
          "name": "stdout",
          "text": [
            "[(5, 0), (4, 1), (2, 2), (1, 3)]\n"
          ]
        }
      ]
    },
    {
      "cell_type": "markdown",
      "source": [
        "Q.9 Write a Python program that uses 'map()' to convert a list of temperatures from Celsius to Fahrenheit.\n",
        "\n",
        "-->"
      ],
      "metadata": {
        "id": "xCMlYhfwbuTm"
      }
    },
    {
      "cell_type": "code",
      "source": [
        "celsius_temps = [0, 10, 20, 30, 40]\n",
        "\n",
        "fahrenheit_temps = list(map(lambda c: (c * 9/5) + 32, celsius_temps))\n",
        "\n",
        "print(\"Celsius:\", celsius_temps)\n",
        "print(\"Fahrenheit:\", fahrenheit_temps)"
      ],
      "metadata": {
        "colab": {
          "base_uri": "https://localhost:8080/"
        },
        "id": "2S1sNbb4b2Dx",
        "outputId": "b0573e38-38e6-4d68-b348-4a5d10c76a8e"
      },
      "execution_count": null,
      "outputs": [
        {
          "output_type": "stream",
          "name": "stdout",
          "text": [
            "Celsius: [0, 10, 20, 30, 40]\n",
            "Fahrenheit: [32.0, 50.0, 68.0, 86.0, 104.0]\n"
          ]
        }
      ]
    },
    {
      "cell_type": "markdown",
      "source": [
        "Q.10 Create a Python program that uses `filter()` to remove all the vowels from a given string.\n",
        "\n",
        "-->"
      ],
      "metadata": {
        "id": "uMBHWcRYcWLz"
      }
    },
    {
      "cell_type": "code",
      "source": [
        "def is_not_vowel(char):\n",
        "    return char.lower() not in 'aeiou'\n",
        "\n",
        "user_input = input(\"Enter a string: \")\n",
        "\n",
        "no_vowels = ''.join(filter(is_not_vowel, user_input))\n",
        "\n",
        "print(\"String without vowels:\", no_vowels)"
      ],
      "metadata": {
        "colab": {
          "base_uri": "https://localhost:8080/"
        },
        "id": "3J6RMRy_cbEL",
        "outputId": "625fd6d9-5aa7-4a3c-892f-a6588c892ae6"
      },
      "execution_count": null,
      "outputs": [
        {
          "output_type": "stream",
          "name": "stdout",
          "text": [
            "Enter a string: Aditya is a Best Dancer in a group.\n",
            "String without vowels: dty s  Bst Dncr n  grp.\n"
          ]
        }
      ]
    },
    {
      "cell_type": "markdown",
      "source": [
        "Q.11 Imagine an accounting routine used in a book shop. It works on a list with sublists, which look like this:\n",
        "\n",
        "    Order No.        Book Title & Author         Quantity    Price per Item\n",
        "    34587        Learning Python, Mark Lutz          4           40.95\n",
        "    98762       Programming Python, Mark Lutz        5           56.80\n",
        "    77226       Head First Python, Paul Barry        3           32.95\n",
        "    88112     Einführung in Python3, Bernd Klein     3           24.99\n",
        "Write a Python program, which returns a list with 2-tuples. Each tuple consists of the order number and the product of the price per item and the quantity. The product should be increased by 10,- € if the value of the order is smaller than 100,00 €.\n",
        "Write a Python program using lambda and map.\n",
        "\n",
        "-->"
      ],
      "metadata": {
        "id": "UzOz179bdGW2"
      }
    },
    {
      "cell_type": "code",
      "source": [
        "orders = [\n",
        "    [34587, \"Learning Python, Mark Lutz\", 4, 40.95],\n",
        "    [98762, \"Programming Python, Mark Lutz\", 5, 56.80],\n",
        "    [77226, \"Head First Python, Paul Barry\", 3, 32.95],\n",
        "    [88112, \"Einführung in Python3, Bernd Klein\", 3, 24.99]\n",
        "]\n",
        "\n",
        "result = list(map(lambda order: (\n",
        "    order[0],\n",
        "    round(order[2] * order[3] + 10 if order[2] * order[3] < 100 else order[2] * order[3], 2)\n",
        "), orders))\n",
        "\n",
        "print(result)"
      ],
      "metadata": {
        "colab": {
          "base_uri": "https://localhost:8080/"
        },
        "id": "hmioAxW-drCp",
        "outputId": "f37e162d-9811-4a7d-b8a2-f1093474ba36"
      },
      "execution_count": null,
      "outputs": [
        {
          "output_type": "stream",
          "name": "stdout",
          "text": [
            "[(34587, 163.8), (98762, 284.0), (77226, 108.85), (88112, 84.97)]\n"
          ]
        }
      ]
    }
  ]
}