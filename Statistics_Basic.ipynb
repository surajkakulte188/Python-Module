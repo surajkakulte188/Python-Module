{
  "nbformat": 4,
  "nbformat_minor": 0,
  "metadata": {
    "colab": {
      "provenance": []
    },
    "kernelspec": {
      "name": "python3",
      "display_name": "Python 3"
    },
    "language_info": {
      "name": "python"
    }
  },
  "cells": [
    {
      "cell_type": "markdown",
      "source": [
        "#Statistics Basic\n",
        "**Theory Question**\n",
        "\n",
        "Q.1 What is statistics, and why is it important?\n",
        "\n",
        "--> Statistics is the science of collecting, organizing, analyzing, interpreting & presenting data. It helps us make informed decisions by understanding & summarizing complex information.\n",
        "\n",
        "It is important, because of:\n",
        "- Informed Decision Making: It helps individuals, businesses & governments make data-driven choices.\n",
        "- Data Analysis: Essential for analyzing trends, patterns & relationships in data.\n",
        "- Scientific Research: Used to test hypotheses & validate experiments.\n",
        "- Forecasting: Supports predictions in fields like economics, weather, finance & marketing.\n",
        "- Quality Control: Ensures products & services meet standards through statistical methods.\n",
        "- Policy Making: Governments use it to develop effective public policies based on population, health & economic data.\n",
        "\n",
        "Q.2 What are the two main types of statistics?\n",
        "\n",
        "--> The two main types of statistics are:\n",
        "1. Descriptive Statistics:\n",
        "- Definition: Summarizes & describes the main features of a dataset.\n",
        "- Purpose: Helps simplify large amounts of data in a meaningful way.\n",
        "- Ex.: Mean, median, mode, Standard deviation, range, Charts & graphs.\n",
        "2. Inferential Statistics:\n",
        "- Definition: Uses a sample of data to make generalizations or predictions about a larger population.\n",
        "- Purpose: Helps draw conclusions & test hypotheses.\n",
        "- Ex.: Confidence intervals, Hypothesis testing, Regression analysis & ANOVA (Analysis of Variance).\n",
        "\n",
        "Q.3 What are descriptive statistics?\n",
        "\n",
        "--> A descriptive statistics are methods used to summarize, organize & simplify data in a meaningful way.\n",
        "\n",
        "Key Points:\n",
        "- They describe the main features of a dataset.\n",
        "- They do not make predictions or inferences—just describe the data as it is.\n",
        "\n",
        "Common Descriptive Statistics:\n",
        "1. Measures of Central Tendency (show the center of the data): Mean, Median & Mode\n",
        "2. Measures of Dispersion (show the spread or variability): Range, Variance & Standard Deviation\n",
        "3. Frequency Distributions\n",
        "4. Data Visualization\n",
        "\n",
        "Q.4 What is inferential statistics?\n",
        "\n",
        "--> An inferential statistics is the branch of statistics that allows you to draw conclusions or make predictions about a population based on a sample of data.\n",
        "\n",
        "Key points:\n",
        "- Purpose: Go beyond describing data → infer trends, test hypotheses & make decisions under uncertainty.\n",
        "- Based on Samples: Uses a small subset (sample) to estimate or test about the whole group (population).\n",
        "\n",
        "Common Techniques in Inferential Statistics:\n",
        "1. Hypothesis Testing\n",
        "2. Confidence Intervals\n",
        "3. Regression Analysis\n",
        "4. ANOVA (Analysis of Variance)\n",
        "5. Chi-Square Tests\n",
        "\n",
        "Q.5 What is sampling in statistics?\n",
        "\n",
        "--> Sampling in statistics is the process of selecting a subset (sample) from a larger group (population) to analyze & draw conclusions about the entire population. It is important, because of:\n",
        "- Studying an entire population is often impractical, costly or impossible.\n",
        "- A well-chosen sample can accurately reflect the characteristics of the whole population.\n",
        "- It enables efficient, faster & more affordable data collection & analysis.\n",
        "\n",
        "Types of Sampling are:\n",
        "1. Random Sampling\n",
        "2. Stratified Sampling\n",
        "3. Systematic Sampling\n",
        "4. Cluster Sampling\n",
        "5. Convenience Sampling\n",
        "\n",
        "Q.6 What are the different types of sampling methods?\n",
        "\n",
        "--> The main five sampling methods commonly used in statistics are as follows:\n",
        "1. Simple Random Sampling:\n",
        "- Every member of the population has an equal chance of being selected.\n",
        "- It reduces bias.\n",
        "- Ex.: Randomly picking names from a list.\n",
        "2. Stratified Sampling:\n",
        "- Population is divided into subgroups & random samples are taken from each group.\n",
        "- It ensures representation from all key categories.\n",
        "- Ex.: Sampling equal numbers of males & females from a student list.\n",
        "3. Systematic Sampling:\n",
        "- Select every kᵗʰ item from a list after a random start.\n",
        "- It is simple to implement\n",
        "- Ex.: Selecting every 5th person in a queue.\n",
        "4. Cluster Sampling:\n",
        "- Divide the population into clusters (groups), then randomly select entire clusters.\n",
        "- It is cost-effective for large, spread-out populations.\n",
        "- Ex.: Selecting a few schools & surveying all students in them.\n",
        "5. Convenience Sampling:\n",
        "- Sample people who are easiest to reach.\n",
        "- It is high risk of bias, but quick.\n",
        "- Ex.: Asking friends or people nearby to participate in a survey.\n",
        "\n",
        "Q.7 What is the difference between random and non-random sampling?\n",
        "\n",
        "--> The difference between random & non-random sampling as given below:\n",
        "1. Random Sampling:\n",
        "- Definition: Every individual in the population has a known & equal chance of being selected.\n",
        "- Goal: Minimize bias & ensure a representative sample.\n",
        "- Advantages: Results can be generalized to the whole population & reduces selection bias.\n",
        "- Disadvantages: Can be time-consuming or expensive.\n",
        "2. Non-Random Sampling:\n",
        "- Definition: Not all individuals have an equal or known chance of being selected.\n",
        "- Goal: Often used for convenience, cost-efficiency or specific targeting.\n",
        "- Advantages: Quicker, easier to conduct & useful in exploratory or qualitative research.\n",
        "- Disadvantages: Higher risk of bias.\n",
        "\n",
        "Q.8 Define and give examples of qualitative and quantitative data.\n",
        "\n",
        "-->\n",
        "1. Qualitative Data (Categorical Data): Data that describes qualities or characteristics. It is not numerical in nature & it is used to classify or label data.\n",
        "\n",
        "Ex.:\n",
        "- Colors: red, blue, green\n",
        "- Gender: male, female, non-binary\n",
        "- Marital status: single, married, divorced\n",
        "2. Quantitative Data (Numerical Data): Data that represents quantities & can be measured or counted. It is always numerical & supports mathematical operations.\n",
        "\n",
        "Ex.:\n",
        "- Height: 5.6 feet, 170 cm\n",
        "- Age: 22 years\n",
        "- Salary: Rs. 50,000/month\n",
        "\n",
        "Q.9 What are the different types of data in statistics?\n",
        "\n",
        "--> In statistics, data is broadly classified into two main types: Qualitative & Quantitative. These are further divided into subtypes as follows:\n",
        "1. Qualitative Data: Describes qualities or characteristics.\n",
        "- Nominal Data: Categories with no natural order.\n",
        "- Ordinal Data: Categories with a meaningful order, but no consistent difference between values.\n",
        "2. Quantitative Data: Represents measurable quantities.\n",
        "- Discrete Data: Countable values, often whole numbers.\n",
        "- Continuous Data: Can take any value within a range.\n",
        "\n",
        "Q.10 Explain nominal, ordinal, interval, and ratio levels of measurement.\n",
        "\n",
        "-->\n",
        "1. Nominal Level:\n",
        "- Definition: Data that consists of categories or names without any order.\n",
        "- Characteristics: Cannot be ranked or compared meaningfully & only used for labeling or classification.\n",
        "2. Ordinal Level:\n",
        "- Definition: Data that can be ordered or ranked, but the differences between values are not measurable.\n",
        "- Characteristics: Order matters, but not the exact gap between values & it is useful for preferences & rankings.\n",
        "3. Interval Level:\n",
        "- Definition: Ordered data with equal intervals between values, but no true zero point.\n",
        "- Characteristics: Allows for meaningful addition & subtraction.\n",
        "4. Ratio Level:\n",
        "- Definition: Like interval data, but with a true zero point, allowing for meaningful ratios.\n",
        "- Characteristics: Supports all arithmetic operations.\n",
        "\n",
        "Q.11 What is the measure of central tendency?\n",
        "\n",
        "--> The measure of central tendency refers to statistical values that describe the center or average of a dataset. These values give a single summary number that represents the typical value of a distribution.\n",
        "\n",
        "Main Measures of Central Tendency:\n",
        "1. Mean\n",
        "2. Median\n",
        "3. Mode\n",
        "\n",
        "Q.12 Define mean, median, and mode.\n",
        "\n",
        "-->\n",
        "1. Mean (Arithmetic Average):\n",
        "- Definition: The sum of all values divided by the number of values.\n",
        "- Formula:\n",
        "\n",
        "Mean = Sum of all data values/Number of data values\n",
        "2. Median:\n",
        "- Definition: The middle value in a sorted list of numbers.\n",
        "- If the number of observations is even, it's the average of the two middle numbers.\n",
        "3. Mode:\n",
        "- Definition: The values that appear most frequently in the dataset.\n",
        "- A dataset can have no mode, one mode (unimodal), or multiple modes (bimodal, multimodal).\n",
        "\n",
        "Q.13 What is the significance of the measure of central tendency?\n",
        "\n",
        "--> The significance of Measures of Central Tendency:\n",
        "1. Simplifies Complex Data:\n",
        "- Reduces a large dataset to a single representative number.\n",
        "- Makes it easier to grasp the overall trend or behavior of data.\n",
        "2. Aids in Comparison:\n",
        "- Allows for easy comparison between different groups or datasets.\n",
        "3. Useful in Decision-Making:\n",
        "- Helps businesses, researchers, and policymakers make informed decisions.\n",
        "4. Foundation for Further Statistical Analysis:\n",
        "- Central tendency is often the first step in deeper statistical methods, such as standard deviation, hypothesis testing, and regression.\n",
        "5. Helps Identify Distribution Patterns:\n",
        "- Along with other statistics, it helps in identifying whether the data is symmetrical, skewed, or multimodal.\n",
        "6. Supports Predictive Analysis:\n",
        "- In predictive models, measures like the mean or median help in forecasting and trend analysis.\n",
        "\n",
        "Q.14 What is variance, and how is it calculated?\n",
        "\n",
        "--> Variance is a statistical measure that tells us how spread out or dispersed the values in a dataset are around the mean.\n",
        "- A high variance means values are more spread out.\n",
        "- A low variance means values are closer to the mean.\n",
        "\n",
        "It is important, because of:\n",
        "- It quantifies variability in data.\n",
        "- It helps compare consistency between different datasets.\n",
        "- It's foundational for standard deviation, confidence intervals, regression, etc.\n",
        "\n",
        "Formula to Calculate Variance:\n",
        "\n",
        "         N\n",
        "σ² = 1/N ​∑ (xi-μ)²\n",
        "        i=1\n",
        "\n",
        "Q.15 What is standard deviation, and why is it important?\n",
        "\n",
        "--> Standard Deviation (SD) is a statistical measure that shows how much the values in a dataset deviate from the mean. It is the square root of the variance & expressed in the same units as the original data.\n",
        "\n",
        "It is important, because of:\n",
        "- It measures Consistency & Spread\n",
        "- It helps Understand Data Distribution\n",
        "- It is useful in Risk & Quality Analysis\n",
        "- Basis for Many Statistical Methods\n",
        "\n",
        "Q.16 Define and explain the term range in statistics.\n",
        "\n",
        "--> The range is the simplest measure of dispersion in a dataset. It shows the difference between the maximum & minimum values.\n",
        "- It gives a quick sense of spread in the data.\n",
        "- It tells how far apart the lowest & highest data points are.\n",
        "- It is sensitive to outliers because it only uses two values.\n",
        "\n",
        "Formula:\n",
        "\n",
        "Range = Maximum Value - Minimum Value\n",
        "\n",
        "Q.17 What is the difference between variance and standard deviation?\n",
        "\n",
        "--> Both variance & standard deviation measure how much data points spread out from the mean, but they differ in interpretation & units.\n",
        "1. Variance:\n",
        "- Variance measures the average squared deviation from the mean.\n",
        "- Variance is in squared units (ex.: cm², kg²).\n",
        "- Variance gives a general idea of spread, but is less intuitive to interpret.\n",
        "- Variance is useful in theoretical/statistical calculations (like in ANOVA).\n",
        "2. Standard Deviation:\n",
        "- Standard Deviation is the square root of the variance.\n",
        "- Standard deviation is in the same units as the original data.\n",
        "- Standard deviation is more interpretable — it shows the typical distance from the mean.\n",
        "- Standard deviation is commonly used in real-world analysis & reporting.\n",
        "- Both describe dispersion, but standard deviation is preferred for practical insight.\n",
        "\n",
        "Q.18 What is skewness in a dataset?\n",
        "\n",
        "--> Skewness is a statistical measure that tells us about the asymmetry of the distribution of data around its mean.\n",
        "\n",
        "Key Points:\n",
        "1. Symmetric Distribution → Skewness = 0\n",
        "2. Positive Skew (Right-skewed) → Tail on the right side is longer\n",
        "- Mean > Median\n",
        "3. Negative Skew (Left-skewed) → Tail on the left side is longer\n",
        "- Mean < Median\n",
        "\n",
        "Q.19 What does it mean if a dataset is positively or negatively skewed?\n",
        "\n",
        "--> Here's what it means if a dataset is positively or negatively skewed, as follows:\n",
        "1. Positively Skewed Data:\n",
        "- The tail on the right side is longer.\n",
        "- Most data values are clustered on the left.\n",
        "- The mean > median > mode.\n",
        "- Indicates the presence of a few very large values (outliers).\n",
        "2. Negatively Skewed Data:\n",
        "- The tail on the left side is longer.\n",
        "- Most data values are clustered on the right.\n",
        "- The mean < median < mode.\n",
        "- Indicates the presence of a few very small values (outliers).\n",
        "\n",
        "Q.20 Define and explain kurtosis.\n",
        "\n",
        "--> Kurtosis is a statistical measure that describes the shape of a distribution's tails in relation to its overall shape. It tells you how \"tailed\" or \"peaked\" the distribution is compared to a normal distribution.\n",
        "\n",
        "Key Points:\n",
        "- Kurtosis measures the extremity of outliers.\n",
        "- It focuses on the heaviness of the tails.\n",
        "- It helps detect whether data has more or fewer extreme values than a normal distribution.\n",
        "\n",
        "Q.21  What is the purpose of covariance?\n",
        "\n",
        "--> Covariance is a statistical measure used to determine the direction of the relationship between two variables - that is, how two variables change together.\n",
        "\n",
        "Purpose of Covariance:\n",
        "- Measures how two variables vary together:\n",
        "- Helps understand linear relationships between variables.\n",
        "- Used in portfolio theory to assess how the returns of two assets move together.\n",
        "- Forms the basis of more advanced measures like correlation, regression & PCA (Principal Component Analysis).\n",
        "\n",
        "Q.22 What does correlation measure in statistics?\n",
        "\n",
        "--> Correlation measures the strength & direction of the linear relationship between two variables. Correlation tells you how much two things move together & in which direction.\n",
        "\n",
        "Key Points:\n",
        "- It quantifies how closely related two variables are.\n",
        "- The value of correlation lies between -1 & +1.\n",
        "- Positive correlation → as one variable increases, the other tends to increase.\n",
        "- Negative correlation → as one variable increases, the other tends to decrease.\n",
        "\n",
        "Q.23 What is the difference between covariance and correlation?\n",
        "\n",
        "-->\n",
        "1. Covariance:\n",
        "- Measures the direction of the relationship between two variables.\n",
        "- Can have any value from negative to positive infinity.\n",
        "- Does not standardize the scale of variables.\n",
        "- Difficult to interpret magnitude due to scale dependency.\n",
        "2. Correlation:\n",
        "- Measures both the strength & direction of a linear relationship.\n",
        "- Always ranges between -1 & +1.\n",
        "- Standardized form of covariance (unitless).\n",
        "- Easier to compare relationships between different pairs of variables.\n",
        "\n",
        "Q.24 What are some real-world applications of statistics?\n",
        "\n",
        "--> Here are some key real-world applications of statistics:\n",
        "1. Business & Marketing\n",
        "2. Healthcare & Medicine\n",
        "3. Finance & Economics\n",
        "4. Education\n",
        "5. Government & Public Policy\n",
        "6. Manufacturing & Quality Control\n",
        "7. Technology & Data Science\n",
        "8. Social Sciences & Research\n",
        "\n",
        "**Practical Questions**\n",
        "\n",
        "Q.1 How do you calculate the mean, median, and mode of a dataset?\n",
        "\n",
        "→"
      ],
      "metadata": {
        "id": "nv_jDX0jUyzi"
      }
    },
    {
      "cell_type": "code",
      "execution_count": 6,
      "metadata": {
        "colab": {
          "base_uri": "https://localhost:8080/"
        },
        "id": "H1xixhQXUqiI",
        "outputId": "f786cdb4-f2e0-4e27-a8fa-1d8e1e0dc11f"
      },
      "outputs": [
        {
          "output_type": "stream",
          "name": "stdout",
          "text": [
            "Mean: 30.0\n",
            "Median: 30.0\n",
            "Mode: 30\n"
          ]
        }
      ],
      "source": [
        "import numpy as np\n",
        "from scipy import stats\n",
        "data = [10, 20, 30, 30, 40, 50]\n",
        "mean = np.mean(data)\n",
        "median = np.median(data)\n",
        "mode = stats.mode(data, keepdims=True)\n",
        "print(\"Mean:\", mean)\n",
        "print(\"Median:\", median)\n",
        "print(\"Mode:\", mode.mode[0])"
      ]
    },
    {
      "cell_type": "markdown",
      "source": [
        "Q.2 Write a Python program to compute the variance and standard deviation of a dataset.\n",
        "\n",
        "→"
      ],
      "metadata": {
        "id": "TB2cugCL-nn6"
      }
    },
    {
      "cell_type": "code",
      "source": [
        "import numpy as np\n",
        "data = [10, 20, 30, 40, 50]\n",
        "\n",
        "mean = sum(data) / len(data)\n",
        "variance = sum((x - mean) ** 2 for x in data) / len(data)\n",
        "std_deviation = variance ** 0.5\n",
        "\n",
        "print(\"Variance:\", variance)\n",
        "print(\"Standard Deviation:\", std_deviation)"
      ],
      "metadata": {
        "colab": {
          "base_uri": "https://localhost:8080/"
        },
        "id": "LVJlGSbp-sUh",
        "outputId": "d1005caa-6fcd-46ef-bb2e-e2cea8135a32"
      },
      "execution_count": 7,
      "outputs": [
        {
          "output_type": "stream",
          "name": "stdout",
          "text": [
            "Variance: 200.0\n",
            "Standard Deviation: 14.142135623730951\n"
          ]
        }
      ]
    },
    {
      "cell_type": "markdown",
      "source": [
        "Q.3 Create a dataset and classify it into nominal, ordinal, interval, and ratio types.\n",
        "\n",
        "→"
      ],
      "metadata": {
        "id": "68pBIKWE_DqS"
      }
    },
    {
      "cell_type": "code",
      "source": [
        "import pandas as pd\n",
        "\n",
        "df = pd.DataFrame({\n",
        "    'Name': ['Rahul', 'Suraj', 'Kartik', 'Vijay'],\n",
        "    'Education': ['Graduate', 'Postgraduate', 'High School', 'Undergraduate'],\n",
        "    'Temperature': [37, 39, 35, 36],\n",
        "    'Salary': [40000, 60000, 25000, 30000]\n",
        "})\n",
        "print(df)\n",
        "print(\"\\nData Types:\")\n",
        "print(\"Name         → Nominal\")\n",
        "print(\"Education    → Ordinal\")\n",
        "print(\"Temperature  → Interval\")\n",
        "print(\"Salary       → Ratio\")"
      ],
      "metadata": {
        "colab": {
          "base_uri": "https://localhost:8080/"
        },
        "id": "CNcebHfu_HrX",
        "outputId": "d13a8f95-d61e-4eac-e3de-9dd54ff7053c"
      },
      "execution_count": 9,
      "outputs": [
        {
          "output_type": "stream",
          "name": "stdout",
          "text": [
            "     Name      Education  Temperature  Salary\n",
            "0   Rahul       Graduate           37   40000\n",
            "1   Suraj   Postgraduate           39   60000\n",
            "2  Kartik    High School           35   25000\n",
            "3   Vijay  Undergraduate           36   30000\n",
            "\n",
            "Data Types:\n",
            "Name         → Nominal\n",
            "Education    → Ordinal\n",
            "Temperature  → Interval\n",
            "Salary       → Ratio\n"
          ]
        }
      ]
    },
    {
      "cell_type": "markdown",
      "source": [
        "Q.4 Implement sampling techniques like random sampling and stratified sampling.\n",
        "\n",
        "→"
      ],
      "metadata": {
        "id": "2MLUqRiC_nXh"
      }
    },
    {
      "cell_type": "code",
      "source": [
        "import pandas as pd\n",
        "from sklearn.model_selection import train_test_split\n",
        "data = {\n",
        "    'Name': ['Mayurraj', 'Aditya', 'Siddhesh', 'Rushikesh'],\n",
        "    'Department': ['HR', 'IT', 'HR', 'Finance'],\n",
        "    'Score': [88, 76, 90, 70]\n",
        "}\n",
        "df = pd.DataFrame(data)\n",
        "print(\"Original Dataset:\")\n",
        "print(df)\n",
        "\n",
        "random_sample = df.sample(n=4, random_state=42)\n",
        "print(\"\\nRandom Sampling (4 rows):\")\n",
        "print(random_sample)\n",
        "\n",
        "stratified_sample, _ = train_test_split(df,\n",
        "                                        test_size=0.6,\n",
        "                                        random_state=42)\n",
        "print(\"\\nStratified Sampling (40% by Department):\")\n",
        "print(stratified_sample)"
      ],
      "metadata": {
        "colab": {
          "base_uri": "https://localhost:8080/"
        },
        "id": "0GzGRYU2_tY0",
        "outputId": "74c40a43-117c-48a2-f5ae-8b2a148cdad7"
      },
      "execution_count": 14,
      "outputs": [
        {
          "output_type": "stream",
          "name": "stdout",
          "text": [
            "Original Dataset:\n",
            "        Name Department  Score\n",
            "0   Mayurraj         HR     88\n",
            "1     Aditya         IT     76\n",
            "2   Siddhesh         HR     90\n",
            "3  Rushikesh    Finance     70\n",
            "\n",
            "Random Sampling (4 rows):\n",
            "        Name Department  Score\n",
            "1     Aditya         IT     76\n",
            "3  Rushikesh    Finance     70\n",
            "0   Mayurraj         HR     88\n",
            "2   Siddhesh         HR     90\n",
            "\n",
            "Stratified Sampling (40% by Department):\n",
            "       Name Department  Score\n",
            "2  Siddhesh         HR     90\n"
          ]
        }
      ]
    },
    {
      "cell_type": "markdown",
      "source": [
        "Q.5 Write a Python function to calculate the range of a dataset.\n",
        "\n",
        "→"
      ],
      "metadata": {
        "id": "nGkv3DkFBCSj"
      }
    },
    {
      "cell_type": "code",
      "source": [
        "import numpy as np\n",
        "data = [10, 20, 30, 40, 50]\n",
        "range_data = np.max(data) - np.min(data)\n",
        "print(\"Ranged of Dataset:\", range_data)"
      ],
      "metadata": {
        "colab": {
          "base_uri": "https://localhost:8080/"
        },
        "id": "BpW61ibwBH3w",
        "outputId": "9d94c37c-69d3-4ec3-ccb8-ffe6dc7284d6"
      },
      "execution_count": 19,
      "outputs": [
        {
          "output_type": "stream",
          "name": "stdout",
          "text": [
            "Ranged of Dataset: 40\n"
          ]
        }
      ]
    },
    {
      "cell_type": "markdown",
      "source": [
        "Q.6 Create a dataset and plot its histogram to visualize skewness.\n",
        "\n",
        "→"
      ],
      "metadata": {
        "id": "Zn87eJnLBf2s"
      }
    },
    {
      "cell_type": "code",
      "source": [
        "import numpy as np\n",
        "import matplotlib.pyplot as plt\n",
        "\n",
        "# Create skewed data (positively skewed)\n",
        "data = np.random.exponential(scale=2.0, size=1000)\n",
        "\n",
        "plt.hist(data, bins=30, color='lightgreen', edgecolor='black')\n",
        "plt.title(\"Histogram to Visualize Skewness\")\n",
        "plt.xlabel(\"Value\")\n",
        "plt.ylabel(\"Frequency\")\n",
        "plt.show()"
      ],
      "metadata": {
        "colab": {
          "base_uri": "https://localhost:8080/",
          "height": 472
        },
        "id": "-Qo2c6bfBkfD",
        "outputId": "99a4d7ca-4d93-4fe0-e7b2-22e758105f96"
      },
      "execution_count": 21,
      "outputs": [
        {
          "output_type": "display_data",
          "data": {
            "text/plain": [
              "<Figure size 640x480 with 1 Axes>"
            ],
            "image/png": "[encoded data removed]"
          },
          "metadata": {}
        }
      ]
    },
    {
      "cell_type": "markdown",
      "source": [
        "Q.7 Calculate skewness and kurtosis of a dataset using Python libraries.\n",
        "\n",
        "→"
      ],
      "metadata": {
        "id": "DAofUhavCxPJ"
      }
    },
    {
      "cell_type": "code",
      "source": [
        "import numpy as np\n",
        "from scipy.stats import skew, kurtosis\n",
        "data = np.random.normal(loc=0, scale=1, size=1000)  # Normally distributed\n",
        "\n",
        "# Calculate skewness and kurtosis\n",
        "skewness = skew(data)\n",
        "kurt = kurtosis(data)\n",
        "print(\"Skewness:\", skewness)\n",
        "print(\"Kurtosis:\", kurt)"
      ],
      "metadata": {
        "colab": {
          "base_uri": "https://localhost:8080/"
        },
        "id": "zmsnqzQMC3KH",
        "outputId": "164c8b9c-a980-4e5b-bf1a-355b580b2486"
      },
      "execution_count": 22,
      "outputs": [
        {
          "output_type": "stream",
          "name": "stdout",
          "text": [
            "Skewness: 0.06203153084019879\n",
            "Kurtosis: 0.12650030741435447\n"
          ]
        }
      ]
    },
    {
      "cell_type": "markdown",
      "source": [
        "Q.8 Generate a dataset and demonstrate positive and negative skewness.\n",
        "\n",
        "→"
      ],
      "metadata": {
        "id": "7xraEVDLDK2C"
      }
    },
    {
      "cell_type": "code",
      "source": [
        "import numpy as np\n",
        "import matplotlib.pyplot as plt\n",
        "from scipy.stats import skew\n",
        "\n",
        "positive_skew = np.random.exponential(scale=2.0, size=1000)\n",
        "negative_skew = -np.random.exponential(scale=2.0, size=1000)\n",
        "\n",
        "plt.figure(figsize=(12, 5))\n",
        "plt.subplot(1, 2, 1)\n",
        "plt.hist(positive_skew, bins=30, color='skyblue', edgecolor='black')\n",
        "plt.title(\"Positive Skewness\")\n",
        "plt.xlabel(\"Value\")\n",
        "plt.ylabel(\"Frequency\")\n",
        "\n",
        "plt.subplot(1, 2, 2)\n",
        "plt.hist(negative_skew, bins=30, color='salmon', edgecolor='black')\n",
        "plt.title(\"Negative Skewness\")\n",
        "plt.xlabel(\"Value\")\n",
        "plt.ylabel(\"Frequency\")\n",
        "\n",
        "plt.tight_layout()\n",
        "plt.show()\n",
        "print(\"Skewness (Positive Skewed Data):\", skew(positive_skew))\n",
        "print(\"Skewness (Negative Skewed Data):\", skew(negative_skew))"
      ],
      "metadata": {
        "colab": {
          "base_uri": "https://localhost:8080/",
          "height": 543
        },
        "id": "pEMW6Yn3DOeQ",
        "outputId": "79b7dcfb-80d8-4bd7-8176-e8f1e61c7ac3"
      },
      "execution_count": 23,
      "outputs": [
        {
          "output_type": "display_data",
          "data": {
            "text/plain": [
              "<Figure size 1200x500 with 2 Axes>"
            ],
            "image/png": "[encoded data removed]"
          },
          "metadata": {}
        },
        {
          "output_type": "stream",
          "name": "stdout",
          "text": [
            "Skewness (Positive Skewed Data): 2.094104111625239\n",
            "Skewness (Negative Skewed Data): -2.3487990317959895\n"
          ]
        }
      ]
    },
    {
      "cell_type": "markdown",
      "source": [
        "Q.9 Write a Python script to calculate covariance between two datasets.\n",
        "\n",
        "→"
      ],
      "metadata": {
        "id": "gdTkYNR1DqvB"
      }
    },
    {
      "cell_type": "code",
      "source": [
        "import numpy as np\n",
        "x = [5, 10, 15, 20, 25]\n",
        "y = [10, 20, 30, 40, 50]\n",
        "cov_matrix = np.cov(x, y)\n",
        "covariance = cov_matrix[0, 1]\n",
        "print(\"Covariance between x and y:\", covariance)"
      ],
      "metadata": {
        "colab": {
          "base_uri": "https://localhost:8080/"
        },
        "id": "dEDaEh9JDwp9",
        "outputId": "b1edbb1f-1a39-4e4c-8723-3366f73a75ca"
      },
      "execution_count": 24,
      "outputs": [
        {
          "output_type": "stream",
          "name": "stdout",
          "text": [
            "Covariance between x and y: 125.0\n"
          ]
        }
      ]
    },
    {
      "cell_type": "markdown",
      "source": [
        "Q.10 Write a Python script to calculate the correlation coefficient between two datasets.\n",
        "\n",
        "→"
      ],
      "metadata": {
        "id": "mk7IGdZVD6ki"
      }
    },
    {
      "cell_type": "code",
      "source": [
        "import numpy as np\n",
        "x = [5, 10, 15, 20, 25]\n",
        "y = [10, 20, 30, 40, 50]\n",
        "corr_matrix = np.corrcoef(x, y)\n",
        "correlation = corr_matrix[0, 1]\n",
        "print(\"Correlation Coefficient between x and y:\", correlation)"
      ],
      "metadata": {
        "colab": {
          "base_uri": "https://localhost:8080/"
        },
        "id": "6waW8UlFD-v3",
        "outputId": "bf1338c0-5d27-4be4-e7ba-70fd3b15fc3e"
      },
      "execution_count": 25,
      "outputs": [
        {
          "output_type": "stream",
          "name": "stdout",
          "text": [
            "Correlation Coefficient between x and y: 1.0\n"
          ]
        }
      ]
    },
    {
      "cell_type": "markdown",
      "source": [
        "Q.11 Create a scatter plot to visualize the relationship between two variables.\n",
        "\n",
        "→"
      ],
      "metadata": {
        "id": "W1J8FRcHEG_S"
      }
    },
    {
      "cell_type": "code",
      "source": [
        "import matplotlib.pyplot as plt\n",
        "x = [5, 10, 15, 20, 25]\n",
        "y = [7, 14, 20, 27, 35]\n",
        "plt.scatter(x, y, color='blue', marker='o')\n",
        "plt.title(\"Scatter Plot of X vs Y\")\n",
        "plt.xlabel(\"X Values\")\n",
        "plt.ylabel(\"Y Values\")\n",
        "plt.grid(True)\n",
        "plt.show()"
      ],
      "metadata": {
        "colab": {
          "base_uri": "https://localhost:8080/",
          "height": 472
        },
        "id": "9d9S_aEkELOf",
        "outputId": "7d9dae3e-3366-48ea-8cd3-de9fc3dbb906"
      },
      "execution_count": 26,
      "outputs": [
        {
          "output_type": "display_data",
          "data": {
            "text/plain": [
              "<Figure size 640x480 with 1 Axes>"
            ],
            "image/png": "[encoded data removed]"
          },
          "metadata": {}
        }
      ]
    },
    {
      "cell_type": "markdown",
      "source": [
        "Q.12 Implement and compare simple random sampling and systematic sampling.\n",
        "\n",
        "→"
      ],
      "metadata": {
        "id": "efXZh5ZBFGcp"
      }
    },
    {
      "cell_type": "code",
      "source": [
        "import pandas as pd\n",
        "import numpy as np\n",
        "data = pd.DataFrame({'ID': range(1, 101)})\n",
        "random_sample = data.sample(n=10, random_state=42)\n",
        "k = len(data) // 10\n",
        "start = np.random.randint(0, k)\n",
        "systematic_sample = data.iloc[start::k][:10]\n",
        "print(\"Simple Random Sample:\\n\", random_sample.sort_values(by='ID').reset_index(drop=True))\n",
        "print(\"\\nSystematic Sample:\\n\", systematic_sample.sort_values(by='ID').reset_index(drop=True))"
      ],
      "metadata": {
        "colab": {
          "base_uri": "https://localhost:8080/"
        },
        "id": "nHxS_S1bFK1x",
        "outputId": "983a053e-e0ee-4c54-a842-b00fa7c4f9f8"
      },
      "execution_count": 28,
      "outputs": [
        {
          "output_type": "stream",
          "name": "stdout",
          "text": [
            "Simple Random Sample:\n",
            "    ID\n",
            "0   1\n",
            "1  11\n",
            "2  23\n",
            "3  40\n",
            "4  45\n",
            "5  46\n",
            "6  54\n",
            "7  71\n",
            "8  81\n",
            "9  84\n",
            "\n",
            "Systematic Sample:\n",
            "    ID\n",
            "0   1\n",
            "1  11\n",
            "2  21\n",
            "3  31\n",
            "4  41\n",
            "5  51\n",
            "6  61\n",
            "7  71\n",
            "8  81\n",
            "9  91\n"
          ]
        }
      ]
    },
    {
      "cell_type": "markdown",
      "source": [
        "Q.13 Calculate the mean, median, and mode of grouped data.\n",
        "\n",
        "→"
      ],
      "metadata": {
        "id": "J-gikTq_Fhnj"
      }
    },
    {
      "cell_type": "code",
      "source": [
        "import pandas as pd\n",
        "from statistics import mode\n",
        "class_marks = [5, 15, 25, 35, 45]\n",
        "frequencies = [5, 8, 15, 16, 6]\n",
        "N = sum(frequencies)\n",
        "mean = sum([f * x for f, x in zip(frequencies, class_marks)]) / N\n",
        "cumulative = [sum(frequencies[:i+1]) for i in range(len(frequencies))]\n",
        "median_class_index = next(i for i, c in enumerate(cumulative) if c >= N/2)\n",
        "L = (class_marks[median_class_index] - 5)\n",
        "f = frequencies[median_class_index]\n",
        "F = cumulative[median_class_index - 1] if median_class_index > 0 else 0\n",
        "h = 10\n",
        "median = L + ((N/2 - F) / f) * h\n",
        "modal_index = frequencies.index(max(frequencies))\n",
        "L_modal = class_marks[modal_index] - 5\n",
        "f1 = frequencies[modal_index]\n",
        "f0 = frequencies[modal_index - 1] if modal_index > 0 else 0\n",
        "f2 = frequencies[modal_index + 1] if modal_index + 1 < len(frequencies) else 0\n",
        "mode = L_modal + ((f1 - f0) / ((f1 - f0) + (f1 - f2))) * h\n",
        "print(\"Mean:\", round(mean, 2))\n",
        "print(\"Median:\", round(median, 2))\n",
        "print(\"Mode:\", round(mode, 2))"
      ],
      "metadata": {
        "colab": {
          "base_uri": "https://localhost:8080/"
        },
        "id": "puDMSfUYFlUC",
        "outputId": "7dd293b2-4c30-4d6d-c21b-bc10b3e736db"
      },
      "execution_count": 29,
      "outputs": [
        {
          "output_type": "stream",
          "name": "stdout",
          "text": [
            "Mean: 27.0\n",
            "Median: 28.0\n",
            "Mode: 30.91\n"
          ]
        }
      ]
    },
    {
      "cell_type": "markdown",
      "source": [
        "Q.14 Simulate data using Python and calculate its central tendency and dispersion.\n",
        "\n",
        "→"
      ],
      "metadata": {
        "id": "JxT9D5oLF9XC"
      }
    },
    {
      "cell_type": "code",
      "source": [
        "import numpy as np\n",
        "import pandas as pd\n",
        "from scipy import stats\n",
        "\n",
        "np.random.seed(42)\n",
        "data = np.random.normal(loc=50, scale=10, size=100)\n",
        "df = pd.Series(data)\n",
        "mean = df.mean()\n",
        "median = df.median()\n",
        "mode = df.mode().iloc[0]\n",
        "variance = df.var()\n",
        "std_dev = df.std()\n",
        "data_range = df.max() - df.min()\n",
        "\n",
        "print(\"Central Tendency:\")\n",
        "print(\"Mean:\", round(mean, 2))\n",
        "print(\"Median:\", round(median, 2))\n",
        "print(\"Mode:\", round(mode, 2))\n",
        "print(\"\\nDispersion:\")\n",
        "print(\"Variance:\", round(variance, 2))\n",
        "print(\"Standard Deviation:\", round(std_dev, 2))\n",
        "print(\"Range:\", round(data_range, 2))"
      ],
      "metadata": {
        "colab": {
          "base_uri": "https://localhost:8080/"
        },
        "id": "iph5R0w_GBLz",
        "outputId": "ac0e99a0-7af0-4154-bb93-f28acdefea40"
      },
      "execution_count": 30,
      "outputs": [
        {
          "output_type": "stream",
          "name": "stdout",
          "text": [
            "Central Tendency:\n",
            "Mean: 48.96\n",
            "Median: 48.73\n",
            "Mode: 23.8\n",
            "\n",
            "Dispersion:\n",
            "Variance: 82.48\n",
            "Standard Deviation: 9.08\n",
            "Range: 44.72\n"
          ]
        }
      ]
    },
    {
      "cell_type": "markdown",
      "source": [
        "Q.15 Use NumPy or pandas to summarize a dataset's descriptive statistics.\n",
        "\n",
        "→"
      ],
      "metadata": {
        "id": "lU3vLiA-GMkJ"
      }
    },
    {
      "cell_type": "code",
      "source": [
        "import pandas as pd\n",
        "import numpy as np\n",
        "data = {\n",
        "    'Age': np.random.randint(18, 60, size=100),\n",
        "    'Salary': np.random.randint(30000, 100000, size=100)\n",
        "}\n",
        "df = pd.DataFrame(data)\n",
        "print(\"Descriptive Statistics:\")\n",
        "print(df.describe())"
      ],
      "metadata": {
        "colab": {
          "base_uri": "https://localhost:8080/"
        },
        "id": "JAoqbL8hGSzd",
        "outputId": "9a9230cc-d375-4114-cca0-ffb15846afbe"
      },
      "execution_count": 31,
      "outputs": [
        {
          "output_type": "stream",
          "name": "stdout",
          "text": [
            "Descriptive Statistics:\n",
            "              Age        Salary\n",
            "count  100.000000    100.000000\n",
            "mean    39.120000  65635.070000\n",
            "std     12.834833  20233.289532\n",
            "min     18.000000  30301.000000\n",
            "25%     28.000000  48680.500000\n",
            "50%     41.000000  69100.500000\n",
            "75%     50.000000  82144.000000\n",
            "max     59.000000  99678.000000\n"
          ]
        }
      ]
    },
    {
      "cell_type": "markdown",
      "source": [
        "Q.16 Plot a boxplot to understand the spread and identify outliers.\n",
        "\n",
        "→"
      ],
      "metadata": {
        "id": "666F1w2QGaYZ"
      }
    },
    {
      "cell_type": "code",
      "source": [
        "import pandas as pd\n",
        "import numpy as np\n",
        "import seaborn as sns\n",
        "import matplotlib.pyplot as plt\n",
        "\n",
        "np.random.seed(42)\n",
        "data = np.random.normal(loc=50, scale=15, size=100)\n",
        "df = pd.DataFrame({'Scores': data})\n",
        "\n",
        "plt.figure(figsize=(6, 4))\n",
        "sns.boxplot(y='Scores', data=df, color='skyblue')\n",
        "plt.title(\"Boxplot of Scores\")\n",
        "plt.ylabel(\"Score Value\")\n",
        "plt.grid(True)\n",
        "plt.tight_layout()\n",
        "plt.show()"
      ],
      "metadata": {
        "colab": {
          "base_uri": "https://localhost:8080/",
          "height": 407
        },
        "id": "z4Nf2jNGGeCi",
        "outputId": "ce7875dc-061f-49e4-8790-8490e74e226e"
      },
      "execution_count": 32,
      "outputs": [
        {
          "output_type": "display_data",
          "data": {
            "text/plain": [
              "<Figure size 600x400 with 1 Axes>"
            ],
            "image/png": "[encoded data removed]"
          },
          "metadata": {}
        }
      ]
    },
    {
      "cell_type": "markdown",
      "source": [
        "Q.17 Calculate the interquartile range (IQR) of a dataset.\n",
        "\n",
        "→"
      ],
      "metadata": {
        "id": "9zjS_KluGj6h"
      }
    },
    {
      "cell_type": "code",
      "source": [
        "import numpy as np\n",
        "data = [12, 15, 14, 10, 18, 20, 22, 23, 19, 25, 30]\n",
        "Q1 = np.percentile(data, 25)\n",
        "Q3 = np.percentile(data, 75)\n",
        "\n",
        "IQR = Q3 - Q1\n",
        "\n",
        "print(\"Q1:\", Q1)\n",
        "print(\"Q3:\", Q3)\n",
        "print(\"IQR:\", IQR)"
      ],
      "metadata": {
        "colab": {
          "base_uri": "https://localhost:8080/"
        },
        "id": "PYGsblYWGnvl",
        "outputId": "8a1da2d1-d0ba-4227-bf6b-2f3513018069"
      },
      "execution_count": 33,
      "outputs": [
        {
          "output_type": "stream",
          "name": "stdout",
          "text": [
            "Q1: 14.5\n",
            "Q3: 22.5\n",
            "IQR: 8.0\n"
          ]
        }
      ]
    },
    {
      "cell_type": "markdown",
      "source": [
        "Q.18 Implement Z-score normalization and explain its significance.\n",
        "\n",
        "→"
      ],
      "metadata": {
        "id": "0JtBycENGvWL"
      }
    },
    {
      "cell_type": "code",
      "source": [
        "import numpy as np\n",
        "import pandas as pd\n",
        "data = {'Score': [55, 72, 65, 87, 45, 90, 61, 77, 50, 66]}\n",
        "df = pd.DataFrame(data)\n",
        "\n",
        "df['Z_Score'] = (df['Score'] - df['Score'].mean()) / df['Score'].std()\n",
        "\n",
        "print(df)"
      ],
      "metadata": {
        "colab": {
          "base_uri": "https://localhost:8080/"
        },
        "id": "pE8OhPg3G5B0",
        "outputId": "f5872ccc-81ba-42e2-f016-042bb90fe8b3"
      },
      "execution_count": 34,
      "outputs": [
        {
          "output_type": "stream",
          "name": "stdout",
          "text": [
            "   Score   Z_Score\n",
            "0     55 -0.789282\n",
            "1     72  0.347819\n",
            "2     65 -0.120399\n",
            "3     87  1.351145\n",
            "4     45 -1.458166\n",
            "5     90  1.551810\n",
            "6     61 -0.387952\n",
            "7     77  0.682261\n",
            "8     50 -1.123724\n",
            "9     66 -0.053511\n"
          ]
        }
      ]
    },
    {
      "cell_type": "markdown",
      "source": [
        "Q.19 Compare two datasets using their standard deviations.\n",
        "\n",
        "→"
      ],
      "metadata": {
        "id": "Fm2rdV44HAOB"
      }
    },
    {
      "cell_type": "code",
      "source": [
        "import numpy as np\n",
        "data1 = [10, 12, 14, 16, 18]\n",
        "data2 = [5, 15, 25, 35, 45]\n",
        "\n",
        "std1 = np.std(data1)\n",
        "std2 = np.std(data2)\n",
        "\n",
        "print(\"Standard Deviation of Dataset 1:\", std1)\n",
        "print(\"Standard Deviation of Dataset 2:\", std2)\n",
        "\n",
        "if std1 > std2:\n",
        "    print(\"Dataset 1 has more variability.\")\n",
        "elif std2 > std1:\n",
        "    print(\"Dataset 2 has more variability.\")\n",
        "else:\n",
        "    print(\"Both datasets have equal variability.\")"
      ],
      "metadata": {
        "colab": {
          "base_uri": "https://localhost:8080/"
        },
        "id": "hMf1svzfHD6F",
        "outputId": "fff63f87-a3db-4867-c3e3-9542fd556766"
      },
      "execution_count": 35,
      "outputs": [
        {
          "output_type": "stream",
          "name": "stdout",
          "text": [
            "Standard Deviation of Dataset 1: 2.8284271247461903\n",
            "Standard Deviation of Dataset 2: 14.142135623730951\n",
            "Dataset 2 has more variability.\n"
          ]
        }
      ]
    },
    {
      "cell_type": "markdown",
      "source": [
        "Q.20 Write a Python program to visualize covariance using a heatmap.\n",
        "\n",
        "→"
      ],
      "metadata": {
        "id": "8hM3g4lHHVQb"
      }
    },
    {
      "cell_type": "code",
      "source": [
        "import pandas as pd\n",
        "import numpy as np\n",
        "import seaborn as sns\n",
        "import matplotlib.pyplot as plt\n",
        "\n",
        "data = {\n",
        "    'Math': np.random.randint(60, 100, 10),\n",
        "    'Science': np.random.randint(55, 95, 10),\n",
        "    'English': np.random.randint(65, 100, 10)\n",
        "}\n",
        "df = pd.DataFrame(data)\n",
        "cov_matrix = df.cov()\n",
        "plt.figure(figsize=(6, 4))\n",
        "sns.heatmap(cov_matrix, annot=True, cmap='Blues', fmt=\".2f\")\n",
        "plt.title('Covariance Heatmap')\n",
        "plt.tight_layout()\n",
        "plt.show()"
      ],
      "metadata": {
        "colab": {
          "base_uri": "https://localhost:8080/",
          "height": 407
        },
        "id": "V7dUephWHaTz",
        "outputId": "a32fee5f-6158-440d-8c49-d3c5dee21a12"
      },
      "execution_count": 39,
      "outputs": [
        {
          "output_type": "display_data",
          "data": {
            "text/plain": [
              "<Figure size 600x400 with 2 Axes>"
            ],
            "image/png": "[encoded data removed]"
          },
          "metadata": {}
        }
      ]
    },
    {
      "cell_type": "markdown",
      "source": [
        "Q.21 Use seaborn to create a correlation matrix for a dataset.\n",
        "\n",
        "→"
      ],
      "metadata": {
        "id": "fCCaUHSVHo4a"
      }
    },
    {
      "cell_type": "code",
      "source": [
        "import pandas as pd\n",
        "import seaborn as sns\n",
        "import matplotlib.pyplot as plt\n",
        "\n",
        "data = {\n",
        "    'Math': [80, 90, 70, 60, 85],\n",
        "    'Science': [75, 95, 65, 55, 80],\n",
        "    'English': [78, 85, 72, 60, 82]\n",
        "}\n",
        "df = pd.DataFrame(data)\n",
        "corr_matrix = df.corr()\n",
        "sns.heatmap(corr_matrix, annot=True, cmap='coolwarm')\n",
        "plt.title('Correlation Matrix')\n",
        "plt.show()"
      ],
      "metadata": {
        "colab": {
          "base_uri": "https://localhost:8080/",
          "height": 452
        },
        "id": "lIKU9IICHvzs",
        "outputId": "64c556ea-ef0f-45ad-9592-bc448da2e818"
      },
      "execution_count": 40,
      "outputs": [
        {
          "output_type": "display_data",
          "data": {
            "text/plain": [
              "<Figure size 640x480 with 2 Axes>"
            ],
            "image/png": "[encoded data removed]"
          },
          "metadata": {}
        }
      ]
    },
    {
      "cell_type": "markdown",
      "source": [
        "Q.22 Generate a dataset and implement both variance and standard deviation computations.\n",
        "\n",
        "→"
      ],
      "metadata": {
        "id": "Uh_hlRJEH7zh"
      }
    },
    {
      "cell_type": "code",
      "source": [
        "import numpy as np\n",
        "data = np.random.randint(50, 100, size=10)\n",
        "\n",
        "variance = np.var(data)\n",
        "std_dev = np.std(data)\n",
        "\n",
        "print(\"Dataset:\", data)\n",
        "print(\"Variance:\", round(variance, 2))\n",
        "print(\"Standard Deviation:\", round(std_dev, 2))"
      ],
      "metadata": {
        "colab": {
          "base_uri": "https://localhost:8080/"
        },
        "id": "X9EruAF3H_4S",
        "outputId": "023149ab-0a13-495f-a490-31aeae00d55f"
      },
      "execution_count": 41,
      "outputs": [
        {
          "output_type": "stream",
          "name": "stdout",
          "text": [
            "Dataset: [54 97 68 53 84 98 66 93 77 79]\n",
            "Variance: 245.69\n",
            "Standard Deviation: 15.67\n"
          ]
        }
      ]
    },
    {
      "cell_type": "markdown",
      "source": [
        "Q.23 Visualize skewness and kurtosis using Python libraries like matplotlib or seaborn.\n",
        "\n",
        "→"
      ],
      "metadata": {
        "id": "CajYY5WpIG-9"
      }
    },
    {
      "cell_type": "code",
      "source": [
        "import numpy as np\n",
        "import pandas as pd\n",
        "import seaborn as sns\n",
        "import matplotlib.pyplot as plt\n",
        "from scipy.stats import skew, kurtosis\n",
        "\n",
        "data = np.random.exponential(scale=2, size=1000)\n",
        "df = pd.DataFrame(data, columns=['Values'])\n",
        "skew_val = skew(df['Values'])\n",
        "kurt_val = kurtosis(df['Values'])\n",
        "\n",
        "plt.figure(figsize=(8, 5))\n",
        "sns.histplot(df['Values'], kde=True, bins=30, color='skyblue')\n",
        "plt.title(f\"Distribution Plot\\nSkewness: {skew_val:.2f} | Kurtosis: {kurt_val:.2f}\")\n",
        "plt.xlabel(\"Value\")\n",
        "plt.ylabel(\"Frequency\")\n",
        "plt.grid(True)\n",
        "plt.tight_layout()\n",
        "plt.show()"
      ],
      "metadata": {
        "colab": {
          "base_uri": "https://localhost:8080/",
          "height": 506
        },
        "id": "E2bgHjizIK51",
        "outputId": "a764f802-a3be-4db5-a995-c81dde7ec73a"
      },
      "execution_count": 42,
      "outputs": [
        {
          "output_type": "display_data",
          "data": {
            "text/plain": [
              "<Figure size 800x500 with 1 Axes>"
            ],
            "image/png": "[encoded data removed]"
          },
          "metadata": {}
        }
      ]
    },
    {
      "cell_type": "markdown",
      "source": [
        "Q.24 Implement the Pearson and Spearman correlation coefficients for a dataset.\n",
        "\n",
        "→"
      ],
      "metadata": {
        "id": "gUoK5PcYIR4q"
      }
    },
    {
      "cell_type": "code",
      "source": [
        "import pandas as pd\n",
        "from scipy.stats import pearsonr, spearmanr\n",
        "data = {\n",
        "    'X': [10, 20, 30, 40, 50],\n",
        "    'Y': [10, 25, 30, 45, 60]\n",
        "}\n",
        "df = pd.DataFrame(data)\n",
        "pearson_corr, _ = pearsonr(df['X'], df['Y'])\n",
        "spearman_corr, _ = spearmanr(df['X'], df['Y'])\n",
        "\n",
        "print(\"Pearson Correlation:\", round(pearson_corr, 2))\n",
        "print(\"Spearman Correlation:\", round(spearman_corr, 2))"
      ],
      "metadata": {
        "colab": {
          "base_uri": "https://localhost:8080/"
        },
        "id": "uNw2eIiLIXAS",
        "outputId": "af5e9192-8f79-452e-954d-08da7909f94e"
      },
      "execution_count": 48,
      "outputs": [
        {
          "output_type": "stream",
          "name": "stdout",
          "text": [
            "Pearson Correlation: 0.99\n",
            "Spearman Correlation: 1.0\n"
          ]
        }
      ]
    }
  ]
}