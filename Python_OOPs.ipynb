{
  "nbformat": 4,
  "nbformat_minor": 0,
  "metadata": {
    "colab": {
      "provenance": []
    },
    "kernelspec": {
      "name": "python3",
      "display_name": "Python 3"
    },
    "language_info": {
      "name": "python"
    }
  },
  "cells": [
    {
      "cell_type": "markdown",
      "source": [
        "#Python OOPs Assignment\n",
        "\n",
        "**Theory Question**\n",
        "\n",
        "Q.1 What is Object-Oriented Programming (OOP)?\n",
        "\n",
        "--> Object Oriented Programming (OOP) is a programming paradigm based on the concept of \"objects\", which can contain data & code. OOP is widely used in software development because it promotes code reusability, scalability & organization. Key Concepts of OOP's are:\n",
        "- Class: A blueprint for objects.\n",
        "- Object: An instance of a class.\n",
        "- Encapsulation: Hiding internal details.\n",
        "- Abstraction: Showing only important features.\n",
        "- Inheritance: Reusing code from other classes.\n",
        "- Polymorphism: Same interface, different behavior.\n",
        "\n",
        "Q.2 What is a class in OOP?\n",
        "\n",
        "--> In OOP, a class is a blueprint or template for creating objects. A class defines what an object will be like and what it can do. An objects are created based on this class and hold actual data. It defines:\n",
        "- Properties (attributes) - The data the object will have.\n",
        "- Methods (functions) - The behaviors or actions the object can perform."
      ],
      "metadata": {
        "id": "m1qd7YDWJqwa"
      }
    },
    {
      "cell_type": "code",
      "execution_count": null,
      "metadata": {
        "colab": {
          "base_uri": "https://localhost:8080/"
        },
        "id": "2NuX4IBiJlfZ",
        "outputId": "e938454f-02ec-4b35-80e9-170fb1aee022"
      },
      "outputs": [
        {
          "output_type": "stream",
          "name": "stdout",
          "text": [
            "The White Mahindra BE 6E is driving.\n"
          ]
        }
      ],
      "source": [
        "class Car:\n",
        "    def __init__(self, brand, color):\n",
        "        self.brand = brand\n",
        "        self.color = color\n",
        "\n",
        "    def drive(self):\n",
        "        print(f\"The {self.color} {self.brand} is driving.\")\n",
        "\n",
        "my_car = Car(\"Mahindra BE 6E\", \"White\")\n",
        "my_car.drive()\n"
      ]
    },
    {
      "cell_type": "markdown",
      "source": [
        "Q.3 What is an object in OOP?\n",
        "\n",
        "--> In OOP, an object is a real-world instance of a class. An object is a concrete instance of a class with real values. If a class is the blueprint, an object is the house built from it. It contains:\n",
        "- Attributes (data/state) - Specific values.\n",
        "- Methods (behavior) - Functions it can perform."
      ],
      "metadata": {
        "id": "nnzQ5YgTJqFZ"
      }
    },
    {
      "cell_type": "code",
      "source": [
        "class Dog:\n",
        "    def __init__(self, name):\n",
        "        self.name = name\n",
        "\n",
        "    def bark(self):\n",
        "        print(f\"{self.name} says woof!\")\n",
        "\n",
        "my_dog = Dog(\"Tuffy\")\n",
        "my_dog.bark()"
      ],
      "metadata": {
        "colab": {
          "base_uri": "https://localhost:8080/"
        },
        "id": "AXgKQeVlQft8",
        "outputId": "9dc9e042-b03e-468d-8005-9911939c16a5"
      },
      "execution_count": null,
      "outputs": [
        {
          "output_type": "stream",
          "name": "stdout",
          "text": [
            "Tuffy says woof!\n"
          ]
        }
      ]
    },
    {
      "cell_type": "markdown",
      "source": [
        "Q.4 What is the difference between abstraction and encapsulation?\n",
        "\n",
        "--> The difference between abstraction & encapsulation is shown as below:\n",
        "1. Abstraction:\n",
        "- Hides complex implementation & shows only essential features.\n",
        "- Focuses on what an object does.\n",
        "- Used to reduce complexity & make the system easier to use.\n",
        "- Achieved using abstract classes or interfaces.\n",
        "- Ex.: You can drive a car without knowing how the engine works.\n",
        "\n",
        "2. Encapsulation:\n",
        "- Hides the internal state/data of an object & restricts direct access.\n",
        "- Focuses on how the data is accessed or modified.\n",
        "- Used to protect data & increase security.\n",
        "- Achieved using access modifiers (like private, public, protected) & getter/setter methods.\n",
        "- Ex.: Car's speed is private & can only be changed using a method.\n",
        "\n",
        "Q.5 What are dunder methods in Python?\n",
        "\n",
        "--> Dunder (Double underscore) methods are special methods in Python with names that start & end with double underscores like \"__init__\", \"__str__\", \"__add__\", etc. They are also known as magic methods. Dunder methods customize object behavior with Python's built-in functions/operators. They're powerful tools to make your classes behave more like built-in types. The purposes of Dunder methods are given below:\n",
        "- Creating objects\n",
        "- Printing objects\n",
        "- Comparing objects\n",
        "- Adding objects\n",
        "- Iterating over objects.\n",
        "\n",
        "Q.6 Explain the concept of inheritance in OOP.\n",
        "\n",
        "--> Inheritance is a core concept in OOP that allows a class (called a child or subclass) to inherit properties & behaviors (methods & attributes) from another class (called a parent or superclass). It allows new classes to reuse & customize existing code. It helps build organized, modular, & scalable applications. Key-points of inheritance includes:\n",
        "- Promotes code reuse.\n",
        "- Supports hierarchical relationships between classes.\n",
        "- The child class can use, extend, or override the functionality of the parent class.\n",
        "\n",
        "Types of Inheritance are shown below:\n",
        "1. Single Inheritance: One child, one parent.\n",
        "2. Multiple Inheritance: One child, multiple parents.\n",
        "3. Multilevel Inheritance: Inheritance chain (A → B → C).\n",
        "4. Hierarchical Inheritance: One parent, multiple children.\n",
        "\n",
        "Q.7 What is polymorphism in OOP?\n",
        "\n",
        "--> Polymorphism means Many Forms. It allows objects of different classes to be treated as if they are the same type, through a shared interface (usually methods with the same name). Polymorphism lets you use a common interface for multiple types. It makes your code more general, extensible & maintainable. Key-points of Polymorphism includes:\n",
        "- Different classes can define the same method name, but behave differently.\n",
        "- Promotes flexibility & code reuse.\n",
        "\n",
        "Q.8  How is encapsulation achieved in Python?\n",
        "\n",
        "--> Encapsulation in Python is achieved through the use of classes, access modifiers & methods that control access to an object's internal state. It is one of the core principles of OOP & helps in hiding the internal state of objects & requiring all interaction to be performed through an object's methods. It achieved through the use of:\n",
        "1. Classes & Objects: Encapsulation starts with creating classes, which are blueprints for objects. A class combines data & functions that operate on that data into one unit. This helps organize code & keep related things together.\n",
        "2. Access Control via Naming Conventions: Python does not have strict access modifiers like some other languages (ex.: private, protected, public). Instead, it uses naming conventions to signal how attributes & methods should be accessed:\n",
        "- Names without underscores are considered public & can be accessed from outside the class.\n",
        "- Names with a single underscore prefix (ex.: _name) are protected, meaning they are intended for internal use, though not enforced.\n",
        "- Names with a double underscore prefix (ex.: __name) are private & are harder to access from outside the class due to name mangling.\n",
        "3. Getter & Setter Methods: To safely access & modify private attributes, classes often provide special methods. These methods allow the internal state of an object to be read or changed in a controlled way, often including checks or logic.\n",
        "4. Properties: Python offers a cleaner way to manage encapsulation using properties. These allow you to define methods that act like attributes, providing control over how values are read or modified while keeping the syntax clean for users of the class.\n",
        "\n",
        "Q.9 What is a constructor in Python?\n",
        "\n",
        "--> In Python, a constructor is a special method used to initialize a newly created object of a class. It sets up the initial state of the object by assigning values to its attributes.\n",
        "\n",
        "Key-points of Constructor in Python are as shown below:\n",
        "- The constructor method in Python is named \"__init__\".\n",
        "- It is automatically called when a new object of a class is created.\n",
        "- It can take arguments to allow passing values during object creation.\n",
        "\n",
        "Purpose of a Constructor:\n",
        "- To allocate memory for the object.\n",
        "- To initialize object attributes with default or provided values.\n",
        "\n",
        "Q.10 What are class and static methods in Python?\n",
        "\n",
        "--> In Python, class methods & static methods are two special types of methods that differ from regular instance methods. They are defined using decorators & serve different purposes.\n",
        "1. Class Methods:\n",
        "- Defined with \"@classmethod\" decorator.\n",
        "- First parameter is cls (refers to the class, not an instance).\n",
        "- Can access & modify class variables.\n",
        "- Cannot access instance variables directly.\n",
        "- Commonly used for: Factory methods (create instances in alternative ways) & Working with class-level data.\n",
        "2. Static Methods:\n",
        "- Defined with \"@staticmethod\" decorator.\n",
        "- No automatic first parameter (self or cls not passed).\n",
        "- Cannot access class or instance variables.\n",
        "- Behaves like a regular function inside a class's namespace.\n",
        "- Commonly used for: Utility/helper functions related to the class contextually, but not dependent on class or instance data.\n",
        "\n",
        "Q.11 What is method overloading in Python?\n",
        "\n",
        "--> Method overloading means defining multiple methods with the same name but different parameters (number or type). This is common in many languages (like Java or C++), but Python handles this differently. Simulation of Overloading in Python:\n",
        "1. Default Arguments: Use optional parameters with default values.\n",
        "2. Variable-Length Arguments: Use \"*args\" & \"**kwargs\" to accept any number of arguments.\n",
        "3. Type-Based Dispatching: Use functools.singledispatch to define functions that behave differently based on input type (for functions, not class methods).\n",
        "\n",
        "Workarounds for Method Overloading in Python:\n",
        "- Using Default Arguments\n",
        "- Using Variable Arguments (*args, **kwargs)\n",
        "- Using functools.singledispatch (for function overloading by type)\n",
        "\n",
        "Q.12 What is method overriding in OOP?\n",
        "\n",
        "--> Method overriding occurs when a subclass (child class) provides a specific implementation of a method that is already defined in its superclass (parent class). The purposes of overriding in python includes:\n",
        "- To change or enhance the behavior of inherited methods.\n",
        "- Supports polymorphism — It allows different classes to be treated through a common interface, with behavior defined by the actual class.\n",
        "\n",
        "Key-points includes:\n",
        "- The method name, number of parameters & signature in the child class must be the same as in the parent class.\n",
        "- It is used to customize or extend the behavior of inherited methods.\n",
        "- The child class method overrides the parent class method when called from an instance of the child.\n",
        "\n",
        "Q.13 What is a property decorator in Python?\n",
        "\n",
        "--> The property decorator in Python is used to turn a method into a read-only property. It allows you to access method results like attributes, without calling them explicitly with parentheses.\n",
        "It's property includes:\n",
        "- Converts a method into an attribute-like access.\n",
        "- Useful for encapsulation: Allows you to control access to private attributes.\n",
        "- Commonly used for getters & can be combined with \"@<property>.setter\" & \"@<property>.deleter\" for full control.\n",
        "\n",
        "It is mainly used to:\n",
        "- To hide internal data while still exposing it cleanly.\n",
        "- To add logic when accessing, modifying or deleting a value.\n",
        "- Keeps interface clean while maintaining flexibility.\n",
        "\n",
        "Q.14 Why is polymorphism important in OOP?\n",
        "\n",
        "--> Polymorphism means Many Forms. It allows objects of different classes to be treated as if they are the same type, through a shared interface (usually methods with the same name).\n",
        "\n",
        "Importance of Polymorphism in OOP:\n",
        "1. Code Reusability:\n",
        "- Allows writing generic code that works with objects of multiple types.\n",
        "- Reduces duplication & simplifies maintenance.\n",
        "2. Extensibility:\n",
        "- New classes can be added with minimal changes to existing code.\n",
        "- Promotes scalable software design.\n",
        "3. Interface Consistency:\n",
        "- You can call the same method (.draw(), .start(), etc.) on different objects & each will behave according to its class.\n",
        "- Encourages uniform code structure.\n",
        "4. Supports Abstraction:\n",
        "- Focuses on what an object does, not how it does it.\n",
        "- Makes the code easier to understand & use.\n",
        "5. Encourages Loose Coupling:\n",
        "- Classes depend on interfaces, not specific implementations.\n",
        "- Makes code more modular & testable.\n",
        "\n",
        "Q.15 What is an abstract class in Python?\n",
        "\n",
        "--> An abstract class in Python is a blueprint for other classes. It cannot be instantiated on its own & is used to define a common interface that other classes must implement. The key features of Abstract Classes:\n",
        "- Defined using the abc (Abstract Base Class) module.\n",
        "- Use the \"@abstractmethod\" decorator to declare abstract methods.\n",
        "- Cannot create objects from abstract classes directly.\n",
        "- Child classes must implement all abstract methods to be instantiated.\n",
        "\n",
        "Uses of Abstract Class:\n",
        "- To enforce a consistent interface across multiple subclasses.\n",
        "- To provide a base structure for related classes.\n",
        "- To implement partial functionality while requiring subclasses to complete the rest.\n",
        "\n",
        "Q.16 What are the advantages of OOP?\n",
        "\n",
        "--> OOP offers a structured, modular & reusable approach to software development. Here are the main advantages:\n",
        "1. Reusability:\n",
        "- Code can be reused through inheritance, reducing redundancy.\n",
        "- Once a class is written, it can be extended or used in different programs.\n",
        "2. Modularity:\n",
        "- Code is organized into independent classes, making it easier to manage.\n",
        "- Large projects become more manageable & structured.\n",
        "3. Encapsulation:\n",
        "- Data & methods are bundled together inside classes.\n",
        "- Protects internal object state by exposing only necessary details.\n",
        "- Enhances security & prevents accidental changes.\n",
        "4. Inheritance:\n",
        "- Allows creation of new classes from existing ones, promoting code reuse.\n",
        "- Enables a hierarchical class structure, reflecting real-world relationships.\n",
        "5. Polymorphism:\n",
        "- The same method name can behave differently across different classes.\n",
        "- Enables flexible & scalable code that can work with multiple object types.\n",
        "6. Easy Maintenance & Scalability:\n",
        "- Modular design makes it easy to update, debug or extend parts of the application without affecting the entire system.\n",
        "\n",
        "Q.17 What is the difference between a class variable and an instance variable?\n",
        "\n",
        "--> In Python, class & instance variables are used to store data in classes, but they differ in scope, sharing & lifetime as follows:\n",
        "1. Class Variable:\n",
        "- Shared by all instances of the class.\n",
        "- Defined inside the class, but outside any method.\n",
        "- Typically used for class-wide constants or shared state.\n",
        "\n",
        "Key Points includes:\n",
        "- Same value for every object (unless explicitly overridden).\n",
        "- Changing it from the class affects all instances.\n",
        "2. Instance Variable:\n",
        "- Unique to each instance (object).\n",
        "- Defined inside a method, typically in __init__(), using self.\n",
        "- Used for object-specific data.\n",
        "\n",
        "Key Points includes:\n",
        "- Each object has its own copy.\n",
        "- Changing it affects only that specific instance.\n",
        "\n",
        "Q.18 What is multiple inheritance in Python?\n",
        "\n",
        "--> Multiple inheritance is a feature in Python where a class can inherit from more than one parent class. This allows a child class to combine behaviors & properties from multiple sources. Key Points of multiple inheritance includes:\n",
        "- A subclass can inherit methods & attributes from multiple base classes.- - - - Syntax: class Child(Parent1, Parent2):\n",
        "- Python supports multiple inheritance natively.\n",
        "\n",
        "Advantages of multiple inheritance:\n",
        "- Promotes code reuse by allowing a class to inherit features from multiple classes.\n",
        "- Enables creation of rich & flexible class hierarchies.\n",
        "\n",
        "Q.19  Explain the purpose of \"__str__\" and \"__repr__\" methods in Python?\n",
        "\n",
        "--> In Python, \"__str__()\" & \"__repr__()\" are special methods used to define how objects are represented as strings.\n",
        "1. __str__() - User-Friendly Representation\n",
        "- Called by str(object) or print(object).\n",
        "- Should return a readable, nicely formatted string.\n",
        "- Goal: Help end users understand the object easily.\n",
        "- Use Case: Displaying objects to users (ex.: in a UI, logs or reports).\n",
        "\n",
        "2. __repr__() - Developer-Friendly (Unambiguous) Representation\n",
        "- Called by repr(object) or when you type an object directly into the interpreter.\n",
        "- Should return a string that is unambiguous & ideally could be used to recreate the object.\n",
        "- Goal: Help developers/debuggers.\n",
        "- Use Case: Debugging, logging or inspecting objects in development.\n",
        "\n",
        "Q.20 What is the significance of the 'super()' function in Python?\n",
        "\n",
        "--> The 'super()' function in Python is used to call methods from a parent class in a child class. It plays a key role in inheritance, especially in complex class hierarchies. Importance of super() function:\n",
        "- Access Parent Methods: Allows child classes to reuse or extend behavior from the parent class without directly referencing the parent's name.\n",
        "- Avoid Hardcoding Parent Class Names: Makes code more flexible & easier to maintain.\n",
        "- Supports Multiple Inheritance: Works well with Python's Method Resolution Order (MRO), ensuring the correct method is called in complex inheritance chains.\n",
        "- Used in __init__(): Often used to initialize the parent class when creating a subclass.\n",
        "\n",
        "Common Use Cases:\n",
        "- Calling the parent class constructor from a child class.\n",
        "- Overriding a method in a subclass while still retaining part of the parent's logic.\n",
        "- Ensuring consistent behavior in multiple inheritance scenarios.\n",
        "\n",
        "Q.21 What is the significance of the __del__ method in Python?\n",
        "\n",
        "--> The __del__ method in Python is a special method called a destructor, which is automatically invoked when an object is about to be destroyed. Key Points about __del__ includes:\n",
        "- It's used to clean up resources before the object is removed from memory.\n",
        "- Called when del object is used or when an object's reference count drops to zero.\n",
        "- Defined as: def __del__(self):\n",
        "\n",
        "Use Cases:\n",
        "- Releasing external resources like File handles, Database connections & Network sockets.\n",
        "- Logging when an object is destroyed (e.g., for debugging or tracking object lifecycles).\n",
        "\n",
        "Q.22 What is the difference between @staticmethod and @classmethod in Python?\n",
        "\n",
        "--> Both \"@staticmethod\" & \"@classmethod\" are method decorators used in classes, but they differ in how they access class or instance data & how they are used.\n",
        "1. @staticmethod:\n",
        "- Does not take self or cls as the first argument.\n",
        "-Cannot access instance (self) or class (cls) variables.\n",
        "- Used for utility functions that belong to a class logically.\n",
        "- Called on the class or instance: Class.method() or object.method().\n",
        "- Does not modify class or instance state.\n",
        "2. @classmethod:\n",
        "- Takes cls as the first argument (refers to the class).\n",
        "- Can access & modify class variables.\n",
        "- Commonly used for factory methods that return class instances.\n",
        "- Called on the class or instance: Class.method() or object.method().\n",
        "- Aware of which subclass called it (useful in inheritance).\n",
        "\n",
        "Q.23 How does polymorphism work in Python with inheritance?\n",
        "\n",
        "--> Polymorphism means \"many forms.\" In Python, it allows objects of different classes to be used interchangeably, as long as they implement the same method names or interfaces especially through inheritance. It Works with Inheritance as follows:\n",
        "- A base class defines a common method (ex.: speak()).\n",
        "- Derived classes override that method with their own implementation.\n",
        "- When the method is called on a base class reference, the correct version (based on the actual object type) is executed.\n",
        "\n",
        "Key Concepts includes:\n",
        "- Method overriding enables polymorphism.\n",
        "- Same method name, different behavior, depending on the object.\n",
        "- Enables writing flexible & extensible code.\n",
        "\n",
        "Q.24 What is method chaining in Python OOP?\n",
        "\n",
        "--> Method chaining is a programming technique in which multiple methods are called sequentially on the same object in a single line of code. It improves code readability & conciseness especially in OOP. It works as:\n",
        "- Each method returns the object itself (self), allowing the next method to be called on that returned object.\n",
        "- Enables chaining like: object.method1().method2().method3()\n",
        "\n",
        "Benefits of Method Chaining:\n",
        "- Cleaner syntax: Reduces the need for repetitive variable names.\n",
        "- Improves readability: Logical sequence of actions in one line.\n",
        "- Efficient use of fluent interfaces (common in builder patterns, data processing, etc.).\n",
        "\n",
        "Q.25 What is the purpose of the __call__ method in Python?\n",
        "\n",
        "--> The \"__call__\" method in Python allows an object to be called like a function. If a class defines a __call__(self) method, then its instances can be invoked using parentheses, like: \"obj()\".\n",
        "\n",
        "Key Purposes of __call__ method:\n",
        "- Makes objects behave like functions.\n",
        "- Adds flexibility by allowing an object to maintain state & still be callable.\n",
        "- Useful in: Function wrappers/decorators, Custom callable classes, APIs & DSL's (domain-specific languages)\n",
        "\n",
        "Benefits of __call__ method:\n",
        "- Combines object-oriented & functional programming styles.\n",
        "- Allows objects to encapsulate behavior & data, yet be used like regular functions.\n",
        "\n",
        "\n",
        "**Practical Questions**\n",
        "\n",
        "Q.1 Create a parent class Animal with a method speak() that prints a generic message. Create a child class Dog that overrides the speak() method to print \"Bark!\".\n",
        "\n",
        "-->"
      ],
      "metadata": {
        "id": "OYxHI_ZeQwQC"
      }
    },
    {
      "cell_type": "code",
      "source": [
        "class Animal:\n",
        "    def speak(self):\n",
        "        print(\"The Animal makes a sound.\")\n",
        "\n",
        "class Dog(Animal):\n",
        "    def speak(self):\n",
        "        print(\"Bark!\")\n",
        "\n",
        "generic_animal = Animal()\n",
        "generic_animal.speak()\n",
        "\n",
        "dog = Dog()\n",
        "dog.speak()"
      ],
      "metadata": {
        "colab": {
          "base_uri": "https://localhost:8080/"
        },
        "id": "zpRnxANfZy-6",
        "outputId": "157a9f2a-6f53-4177-a97b-9659d03a333f"
      },
      "execution_count": 5,
      "outputs": [
        {
          "output_type": "stream",
          "name": "stdout",
          "text": [
            "The Animal makes a sound.\n",
            "Bark!\n"
          ]
        }
      ]
    },
    {
      "cell_type": "markdown",
      "source": [
        "Q.2 Write a program to create an abstract class Shape with a method area(). Derive classes Circle and Rectangle from it and implement the area() method in both.\n",
        "\n",
        "-->"
      ],
      "metadata": {
        "id": "VptyryFqbPQR"
      }
    },
    {
      "cell_type": "code",
      "source": [
        "from abc import ABC, abstractmethod\n",
        "\n",
        "class Shape(ABC):\n",
        "    @abstractmethod\n",
        "    def area(self):\n",
        "        pass\n",
        "\n",
        "class Circle(Shape):\n",
        "    def __init__(self, radius):\n",
        "        self.radius = radius\n",
        "    def area(self):\n",
        "        return math.pi*self.radius**2\n",
        "\n",
        "class Rectangle(Shape):\n",
        "    def __init__(self, width, height):\n",
        "        self.width = width\n",
        "        self.height = height\n",
        "    def area(self):\n",
        "        return self.width*self.height\n",
        "\n",
        "circle = Circle(5)\n",
        "rectangle = Rectangle(4, 6)\n",
        "\n",
        "print(f\"Area of circle: {circle.area():.2f}\")\n",
        "print(f\"Area of rectangle: {rectangle.area()}\")"
      ],
      "metadata": {
        "colab": {
          "base_uri": "https://localhost:8080/"
        },
        "id": "qRbZUEJKbUtV",
        "outputId": "d3cfcdfd-c2eb-4008-a407-1908c2b8260e"
      },
      "execution_count": 10,
      "outputs": [
        {
          "output_type": "stream",
          "name": "stdout",
          "text": [
            "Area of circle: 78.54\n",
            "Area of rectangle: 24\n"
          ]
        }
      ]
    },
    {
      "cell_type": "markdown",
      "source": [
        "Q.3 Implement a multi-level inheritance scenario where a class Vehicle has an attribute type. Derive a class Car and further derive a class ElectricCar that adds a battery attribute.\n",
        "\n",
        "-->"
      ],
      "metadata": {
        "id": "5BzGGd6zcWHq"
      }
    },
    {
      "cell_type": "code",
      "source": [
        "class Vehicle:\n",
        "    def __init__(self):\n",
        "        self.type = \"Vehicle\"\n",
        "\n",
        "class Car(Vehicle):\n",
        "    def __init__(self):\n",
        "        super().__init__()\n",
        "        self.brand = \"Generic Car\"\n",
        "\n",
        "class ElectricCar(Car):\n",
        "    def __init__(self):\n",
        "        super().__init__()\n",
        "        self.battery = \"75 kWh\"\n",
        "    def show_info(self):\n",
        "        print(\"Type:\", self.type)\n",
        "        print(\"Brand:\", self.brand)\n",
        "        print(\"Battery:\", self.battery)\n",
        "\n",
        "e_car = ElectricCar()\n",
        "e_car.show_info()"
      ],
      "metadata": {
        "colab": {
          "base_uri": "https://localhost:8080/"
        },
        "id": "PcEtwCBmcbQO",
        "outputId": "7f7010c4-3504-422b-f1c3-5deacb114d57"
      },
      "execution_count": 11,
      "outputs": [
        {
          "output_type": "stream",
          "name": "stdout",
          "text": [
            "Type: Vehicle\n",
            "Brand: Generic Car\n",
            "Battery: 75 kWh\n"
          ]
        }
      ]
    },
    {
      "cell_type": "markdown",
      "source": [
        "Q.4 Demonstrate polymorphism by creating a base class Bird with a method fly(). Create two derived classes Sparrow and Penguin that override the fly() method.\n",
        "\n",
        "-->"
      ],
      "metadata": {
        "id": "SvjNsfNnc5kq"
      }
    },
    {
      "cell_type": "code",
      "source": [
        "class Bird:\n",
        "    def fly(self):\n",
        "        print(\"Bird is flying.\")\n",
        "\n",
        "class Sparrow(Bird):\n",
        "    def fly(self):\n",
        "        print(\"Sparrow can fly.\")\n",
        "\n",
        "class Penguin(Bird):\n",
        "    def fly(self):\n",
        "        print(\"Penguin cannot fly.\")\n",
        "\n",
        "b1 = Sparrow()\n",
        "b2 = Penguin()\n",
        "\n",
        "b1.fly()\n",
        "b2.fly()"
      ],
      "metadata": {
        "colab": {
          "base_uri": "https://localhost:8080/"
        },
        "id": "rCKNbJ9Vc-mO",
        "outputId": "912751eb-6b32-4728-8c5a-d776be037530"
      },
      "execution_count": 12,
      "outputs": [
        {
          "output_type": "stream",
          "name": "stdout",
          "text": [
            "Sparrow can fly.\n",
            "Penguin cannot fly.\n"
          ]
        }
      ]
    },
    {
      "cell_type": "markdown",
      "source": [
        "Q.5 Write a program to demonstrate encapsulation by creating a class BankAccount with private attributes balance and methods to deposit, withdraw, and check balance.\n",
        "\n",
        "-->"
      ],
      "metadata": {
        "id": "Vsy75Vh9dlCi"
      }
    },
    {
      "cell_type": "code",
      "source": [
        "class BankAccount:\n",
        "    def __init__(self):\n",
        "        self.__balance = 0\n",
        "\n",
        "    def deposit(self, amount):\n",
        "        self.__balance += amount\n",
        "\n",
        "    def withdraw(self, amount):\n",
        "        if amount <= self.__balance:\n",
        "            self.__balance -= amount\n",
        "        else:\n",
        "            print(\"Not enough balance\")\n",
        "\n",
        "    def check_balance(self):\n",
        "        print(\"Balance:\", self.__balance)\n",
        "\n",
        "acc = BankAccount()\n",
        "acc.deposit(1000)\n",
        "acc.withdraw(300)\n",
        "acc.check_balance()"
      ],
      "metadata": {
        "colab": {
          "base_uri": "https://localhost:8080/"
        },
        "id": "08vC3wpmdp1k",
        "outputId": "208fce6a-3389-4a9b-c1af-78f8d68ca189"
      },
      "execution_count": 14,
      "outputs": [
        {
          "output_type": "stream",
          "name": "stdout",
          "text": [
            "Balance: 700\n"
          ]
        }
      ]
    },
    {
      "cell_type": "markdown",
      "source": [
        "Q.6 Demonstrate runtime polymorphism using a method play() in a base class Instrument. Derive classes Guitar and Piano that implement their own version of play().\n",
        "\n",
        "-->"
      ],
      "metadata": {
        "id": "w1_z8ANaePOZ"
      }
    },
    {
      "cell_type": "code",
      "source": [
        "class Instrument:\n",
        "    def play(self):\n",
        "        print(\"Instrument is playing.\")\n",
        "\n",
        "class Guitar(Instrument):\n",
        "    def play(self):\n",
        "        print(\"Guitar is playing.\")\n",
        "\n",
        "class Piano(Instrument):\n",
        "    def play(self):\n",
        "        print(\"Piano is playing.\")\n",
        "\n",
        "g = Guitar()\n",
        "p = Piano()\n",
        "\n",
        "g.play()\n",
        "p.play()"
      ],
      "metadata": {
        "colab": {
          "base_uri": "https://localhost:8080/"
        },
        "id": "VxC9jcF1eTlJ",
        "outputId": "757ad867-c5e2-4255-dceb-fc92e18fdd1b"
      },
      "execution_count": 15,
      "outputs": [
        {
          "output_type": "stream",
          "name": "stdout",
          "text": [
            "Guitar is playing.\n",
            "Piano is playing.\n"
          ]
        }
      ]
    },
    {
      "cell_type": "markdown",
      "source": [
        "Q.7 Create a class MathOperations with a class method add_numbers() to add two numbers and a static method subtract_numbers() to subtract two numbers.\n",
        "\n",
        "-->"
      ],
      "metadata": {
        "id": "Oovbk6OKekL5"
      }
    },
    {
      "cell_type": "code",
      "source": [
        "class MathOperations:\n",
        "\n",
        "    @classmethod\n",
        "    def add_numbers(cls, a, b):\n",
        "        return a + b\n",
        "\n",
        "    @staticmethod\n",
        "    def subtract_numbers(a, b):\n",
        "        return a - b\n",
        "\n",
        "print(\"Addition:\", MathOperations.add_numbers(10, 5))\n",
        "print(\"Subtraction:\", MathOperations.subtract_numbers(10, 5))"
      ],
      "metadata": {
        "colab": {
          "base_uri": "https://localhost:8080/"
        },
        "id": "b5LglqQuepOR",
        "outputId": "85e9fd68-f5ec-479e-9dac-b8a06ad80359"
      },
      "execution_count": 16,
      "outputs": [
        {
          "output_type": "stream",
          "name": "stdout",
          "text": [
            "Addition: 15\n",
            "Subtraction: 5\n"
          ]
        }
      ]
    },
    {
      "cell_type": "markdown",
      "source": [
        "Q.8 Implement a class Person with a class method to count the total number of persons created.\n",
        "\n",
        "-->"
      ],
      "metadata": {
        "id": "aRYZ5vkSfJea"
      }
    },
    {
      "cell_type": "code",
      "source": [
        "class Person:\n",
        "    count = 0\n",
        "    def __init__(self, name):\n",
        "        self.name = name\n",
        "        Person.count += 1\n",
        "\n",
        "    @classmethod\n",
        "    def get_count(cls):\n",
        "        return cls.count\n",
        "\n",
        "p1 = Person(\"Aditya\")\n",
        "p2 = Person(\"Rushikesh\")\n",
        "p3 = Person(\"Siddhesh\")\n",
        "\n",
        "print(\"Total persons created:\", Person.get_count())"
      ],
      "metadata": {
        "colab": {
          "base_uri": "https://localhost:8080/"
        },
        "id": "Ct0_qFOOfmXC",
        "outputId": "3ed9b5ed-2b8c-405a-f804-c12ba3c9f2bc"
      },
      "execution_count": 18,
      "outputs": [
        {
          "output_type": "stream",
          "name": "stdout",
          "text": [
            "Total persons created: 3\n"
          ]
        }
      ]
    },
    {
      "cell_type": "markdown",
      "source": [
        "Q.9 Write a class Fraction with attributes numerator and denominator. Override the str method to display the fraction as \"numerator/denominator\".\n",
        "\n",
        "-->"
      ],
      "metadata": {
        "id": "w3Wo-DQDgXNS"
      }
    },
    {
      "cell_type": "code",
      "source": [
        "class Fraction:\n",
        "    def __init__(self, numerator, denominator):\n",
        "        self.numerator = numerator\n",
        "        self.denominator = denominator\n",
        "\n",
        "    def __str__(self):\n",
        "        return f\"{self.numerator}/{self.denominator}\"\n",
        "\n",
        "f = Fraction(1, 4)\n",
        "print(f)"
      ],
      "metadata": {
        "colab": {
          "base_uri": "https://localhost:8080/"
        },
        "id": "7wdB5ooagbqo",
        "outputId": "ce258902-7bbb-4191-f7dc-454708de42f3"
      },
      "execution_count": 20,
      "outputs": [
        {
          "output_type": "stream",
          "name": "stdout",
          "text": [
            "1/4\n"
          ]
        }
      ]
    },
    {
      "cell_type": "markdown",
      "source": [
        "Q.10 Demonstrate operator overloading by creating a class Vector and overriding the add method to add two vectors.\n",
        "\n",
        "-->"
      ],
      "metadata": {
        "id": "KfaWso2IglyR"
      }
    },
    {
      "cell_type": "code",
      "source": [
        "class Vector:\n",
        "    def __init__(self, x, y):\n",
        "        self.x = x\n",
        "        self.y = y\n",
        "\n",
        "    def __add__(self, other):\n",
        "        return Vector(self.x + other.x, self.y + other.y)\n",
        "\n",
        "    def __str__(self):\n",
        "        return f\"({self.x}, {self.y})\"\n",
        "\n",
        "v1 = Vector(2, 3)\n",
        "v2 = Vector(4, 5)\n",
        "v3 = v1 + v2\n",
        "\n",
        "print(\"Result of vector addition:\", v3)"
      ],
      "metadata": {
        "colab": {
          "base_uri": "https://localhost:8080/"
        },
        "id": "dXKkZmscgqKb",
        "outputId": "3e03f7ed-5057-488e-8d60-9b8b97e7ef93"
      },
      "execution_count": 21,
      "outputs": [
        {
          "output_type": "stream",
          "name": "stdout",
          "text": [
            "Result of vector addition: (6, 8)\n"
          ]
        }
      ]
    },
    {
      "cell_type": "markdown",
      "source": [
        "Q.11 Create a class Person with attributes name and age. Add a method greet() that prints \"Hello, my name is {name} and I am {age} years old.\"\n",
        "\n",
        "-->"
      ],
      "metadata": {
        "id": "X6WBtJXBhGcK"
      }
    },
    {
      "cell_type": "code",
      "source": [
        "class Person:\n",
        "    def __init__(self, name, age):\n",
        "        self.name = name\n",
        "        self.age = age\n",
        "\n",
        "    def greet(self):\n",
        "        print(f\"Hello, my name is {self.name} and I am {self.age} years old.\")\n",
        "\n",
        "user_name = input(\"Enter your name: \")\n",
        "user_age = input(\"Enter your age: \")\n",
        "\n",
        "person = Person(user_name, user_age)\n",
        "person.greet()"
      ],
      "metadata": {
        "colab": {
          "base_uri": "https://localhost:8080/"
        },
        "id": "uHmsd6SkhKkp",
        "outputId": "b3b27428-3d5b-4504-8ed3-21824c6344e5"
      },
      "execution_count": 22,
      "outputs": [
        {
          "output_type": "stream",
          "name": "stdout",
          "text": [
            "Enter your name: Mayurraj\n",
            "Enter your age: 21\n",
            "Hello, my name is Mayurraj and I am 21 years old.\n"
          ]
        }
      ]
    },
    {
      "cell_type": "markdown",
      "source": [
        "Q.12 Implement a class Student with attributes name and grades. Create a method average_grade() to compute the average of the grades.\n",
        "\n",
        "-->"
      ],
      "metadata": {
        "id": "YdPmrW_lhsRC"
      }
    },
    {
      "cell_type": "code",
      "source": [
        "class Student:\n",
        "    def __init__(self, name, grades):\n",
        "        self.name = name\n",
        "        self.grades = grades\n",
        "\n",
        "    def average_grade(self):\n",
        "        if self.grades:\n",
        "            return sum(self.grades)/len(self.grades)\n",
        "        else:\n",
        "            return 0\n",
        "\n",
        "student = Student(\"Rahul\", [95, 94, 88, 92])\n",
        "average = student.average_grade()\n",
        "print(f\"{student.name}'s average grade is: {average}\")"
      ],
      "metadata": {
        "colab": {
          "base_uri": "https://localhost:8080/"
        },
        "id": "Qe3s1wcvhwkC",
        "outputId": "1cbb803c-4c48-4bb1-b321-38993344bed2"
      },
      "execution_count": 24,
      "outputs": [
        {
          "output_type": "stream",
          "name": "stdout",
          "text": [
            "Rahul's average grade is: 92.25\n"
          ]
        }
      ]
    },
    {
      "cell_type": "markdown",
      "source": [
        "Q.13 Create a class Rectangle with methods set_dimensions() to set the dimensions and area() to calculate the area.\n",
        "\n",
        "-->"
      ],
      "metadata": {
        "id": "2qtYreRXiI8r"
      }
    },
    {
      "cell_type": "code",
      "source": [
        "class Rectangle:\n",
        "    def __init__(self):\n",
        "        self.length = 0\n",
        "        self.width = 0\n",
        "\n",
        "    def set_dimensions(self, length, width):\n",
        "        self.length = length\n",
        "        self.width = width\n",
        "\n",
        "    def area(self):\n",
        "        return self.length * self.width\n",
        "\n",
        "length = float(input(\"Enter the length of the rectangle: \"))\n",
        "width = float(input(\"Enter the width of the rectangle: \"))\n",
        "\n",
        "rect = Rectangle()\n",
        "rect.set_dimensions(length, width)\n",
        "print(\"Area of the rectangle is:\", rect.area())"
      ],
      "metadata": {
        "colab": {
          "base_uri": "https://localhost:8080/"
        },
        "id": "etKJSuTmiNE1",
        "outputId": "63068261-bc43-4492-e9d2-0ee9fad1039a"
      },
      "execution_count": 25,
      "outputs": [
        {
          "output_type": "stream",
          "name": "stdout",
          "text": [
            "Enter the length of the rectangle: 12\n",
            "Enter the width of the rectangle: 4\n",
            "Area of the rectangle is: 48.0\n"
          ]
        }
      ]
    },
    {
      "cell_type": "markdown",
      "source": [
        "Q.14 Create a class Employee with a method calculate_salary() that computes the salary based on hours worked and hourly rate. Create a derived class Manager that adds a bonus to the salary.\n",
        "\n",
        "-->"
      ],
      "metadata": {
        "id": "3TS-le8WisKK"
      }
    },
    {
      "cell_type": "code",
      "source": [
        "class Employee:\n",
        "    def __init__(self, hours_worked, hourly_rate):\n",
        "        self.hours_worked = hours_worked\n",
        "        self.hourly_rate = hourly_rate\n",
        "\n",
        "    def calculate_salary(self):\n",
        "        return self.hours_worked * self.hourly_rate\n",
        "\n",
        "class Manager(Employee):\n",
        "    def __init__(self, hours_worked, hourly_rate, bonus):\n",
        "        super().__init__(hours_worked, hourly_rate)\n",
        "        self.bonus = bonus\n",
        "\n",
        "    def calculate_salary(self):\n",
        "        base_salary = super().calculate_salary()\n",
        "        return base_salary + self.bonus\n",
        "\n",
        "emp = Employee(40, 20)\n",
        "print(\"Employee Salary:\", emp.calculate_salary())\n",
        "\n",
        "mgr = Manager(40, 20, 200)\n",
        "print(\"Manager Salary:\", mgr.calculate_salary())"
      ],
      "metadata": {
        "colab": {
          "base_uri": "https://localhost:8080/"
        },
        "id": "BL7Ceqipiw63",
        "outputId": "295dc7bf-bcd3-4fd4-f48a-3e4cfd496385"
      },
      "execution_count": 26,
      "outputs": [
        {
          "output_type": "stream",
          "name": "stdout",
          "text": [
            "Employee Salary: 800\n",
            "Manager Salary: 1000\n"
          ]
        }
      ]
    },
    {
      "cell_type": "markdown",
      "source": [
        "Q.15 Create a class Product with attributes name, price, and quantity. Implement a method total_price() that calculates the total price of the product.\n",
        "\n",
        "-->"
      ],
      "metadata": {
        "id": "nkH2nxHrjERi"
      }
    },
    {
      "cell_type": "code",
      "source": [
        "class Product:\n",
        "    def __init__(self, name, price, quantity):\n",
        "        self.name = name\n",
        "        self.price = price\n",
        "        self.quantity = quantity\n",
        "\n",
        "    def total_price(self):\n",
        "        return self.price * self.quantity\n",
        "\n",
        "p = Product(\"Pen\", 10, 5)\n",
        "print(\"Total price:\", p.total_price())"
      ],
      "metadata": {
        "colab": {
          "base_uri": "https://localhost:8080/"
        },
        "id": "mapV-o1BjJBu",
        "outputId": "1185ffc5-b132-4edc-8d90-289d32c9c535"
      },
      "execution_count": 27,
      "outputs": [
        {
          "output_type": "stream",
          "name": "stdout",
          "text": [
            "Total price: 50\n"
          ]
        }
      ]
    },
    {
      "cell_type": "markdown",
      "source": [
        "Q.16 Create a class Animal with an abstract method sound(). Create two derived classes Cow and Sheep that implement the sound() method.\n",
        "\n",
        "-->"
      ],
      "metadata": {
        "id": "2K-N4zqwjcdC"
      }
    },
    {
      "cell_type": "code",
      "source": [
        "from abc import ABC, abstractmethod\n",
        "\n",
        "class Animal(ABC):\n",
        "    @abstractmethod\n",
        "    def sound(self):\n",
        "        pass\n",
        "\n",
        "class Cow(Animal):\n",
        "    def sound(self):\n",
        "        print(\"Moo\")\n",
        "\n",
        "class Sheep(Animal):\n",
        "    def sound(self):\n",
        "        print(\"Baa\")\n",
        "\n",
        "cow = Cow()\n",
        "sheep = Sheep()\n",
        "\n",
        "cow.sound()\n",
        "sheep.sound()"
      ],
      "metadata": {
        "colab": {
          "base_uri": "https://localhost:8080/"
        },
        "id": "kBJuASkrjgLf",
        "outputId": "6b55a32d-7cda-44a0-9f33-43b6664d50c8"
      },
      "execution_count": 28,
      "outputs": [
        {
          "output_type": "stream",
          "name": "stdout",
          "text": [
            "Moo\n",
            "Baa\n"
          ]
        }
      ]
    },
    {
      "cell_type": "markdown",
      "source": [
        "Q.17 Create a class Book with attributes title, author, and year_published. Add a method get_book_info() that returns a formatted string with the book's details.\n",
        "\n",
        "-->"
      ],
      "metadata": {
        "id": "YDHF82ZNj2Jj"
      }
    },
    {
      "cell_type": "code",
      "source": [
        "class Book:\n",
        "    def __init__(self, title, author, year_published):\n",
        "        self.title = title\n",
        "        self.author = author\n",
        "        self.year_published = year_published\n",
        "\n",
        "    def get_book_info(self):\n",
        "        return f\"Title: {self.title}, Author: {self.author}, Year: {self.year_published}\"\n",
        "\n",
        "book = Book(\"Energize Your Mind\", \"Gaur Gopal Das\", 2023)\n",
        "print(book.get_book_info())"
      ],
      "metadata": {
        "colab": {
          "base_uri": "https://localhost:8080/"
        },
        "id": "Ydc6TfMSj56G",
        "outputId": "1549497f-80a4-4c5d-db26-29fd80056104"
      },
      "execution_count": 29,
      "outputs": [
        {
          "output_type": "stream",
          "name": "stdout",
          "text": [
            "Title: Energize Your Mind, Author: Gaur Gopal Das, Year: 2023\n"
          ]
        }
      ]
    },
    {
      "cell_type": "markdown",
      "source": [
        "Q.18 Create a class House with attributes address and price. Create a derived class Mansion that adds an attribute number_of_rooms.\n",
        "\n",
        "-->"
      ],
      "metadata": {
        "id": "4rL9hQdFlQ_j"
      }
    },
    {
      "cell_type": "code",
      "source": [
        "class House:\n",
        "    def __init__(self, address, price):\n",
        "        self.address = address\n",
        "        self.price = price\n",
        "\n",
        "class Mansion(House):\n",
        "    def __init__(self, address, price, num_of_rooms):\n",
        "        super().__init__(address, price)\n",
        "        self.num_of_rooms = num_of_rooms\n",
        "\n",
        "m = Mansion(\"Vimannagar, Pune\", 5000000, 10)\n",
        "print(\"Address:\", m.address)\n",
        "print(\"Price:\", m.price)\n",
        "print(\"Number of Rooms:\", m.num_of_rooms)"
      ],
      "metadata": {
        "colab": {
          "base_uri": "https://localhost:8080/"
        },
        "id": "U0f1EF1xlVHs",
        "outputId": "0c75e5c3-0fc2-40e2-fe81-b8794c946109"
      },
      "execution_count": 31,
      "outputs": [
        {
          "output_type": "stream",
          "name": "stdout",
          "text": [
            "Address: Vimannagar, Pune\n",
            "Price: 5000000\n",
            "Number of Rooms: 10\n"
          ]
        }
      ]
    }
  ]
}