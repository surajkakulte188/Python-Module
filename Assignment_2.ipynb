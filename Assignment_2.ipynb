{
  "nbformat": 4,
  "nbformat_minor": 0,
  "metadata": {
    "colab": {
      "provenance": []
    },
    "kernelspec": {
      "name": "python3",
      "display_name": "Python 3"
    },
    "language_info": {
      "name": "python"
    }
  },
  "cells": [
    {
      "cell_type": "markdown",
      "source": [
        "#Data Type & Structure\n",
        "**Theory Question**\n",
        "\n",
        "Q.1 What are data structures, and why are they important?\n",
        "\n",
        "--> Data structures are ways of organizing, managing & storing data so that it can be accessed & modified efficiently. They are fundamental in computer science & software engineering because they directly affect the performance & scalability of applications. They are important because of:\n",
        "- Efficiency: The right data structure makes programs faster & uses less memory.\n",
        "- Scalability: Good structures help applications handle large volumes of data.\n",
        "- Problem Solving: Many algorithms rely on specific structures (ex. graphs for pathfinding).\n",
        "- Maintainability: Clear & appropriate use of data structures makes code easier to understand & maintain.\n",
        "\n",
        "Q.2 Explain the difference between mutable and immutable data types with examples?\n",
        "\n",
        "--> The key difference between mutable & immutable data types is as follows:\n",
        "1. Mutable Data Types:\n",
        "\n",
        "Mutable data types can be changed after creation:\n",
        "- Lists: my_list = [1, 2, 3] → my_list[1] = 99 (works)\n",
        "- Dictionaries: my_dict = {'p': 1} → my_dict['p'] = 8 (works)\n",
        "- Sets: my_set = {1, 2, 3} → my_set.add(4) (works)\n",
        "\n",
        "2.Immutable Data Types:\n",
        "\n",
        "Immutable data types cannot be changed after creation:\n",
        "- Integer: x = 5 → cannot modify the value 5 itself\n",
        "- Float: y = 3.14 → cannot modify the value 3.14 itself\n",
        "- String: s = \"Hello\" → cannot modify individual characters.\n",
        "\n",
        "Q.3  What are the main differences between lists and tuples in Python?\n",
        "\n",
        "--> The main difference between lists & tuples in pyhton:\n",
        "1. Lists in Pyhton:\n",
        "- Lists are mutable, use square brackets [ ] & supports many methods.\n",
        "- Lists are better when you need to modify data.\n",
        "- Use a list when you need a flexible, changeable collection.\n",
        "2. Tuples in Python:\n",
        "- Tuples are immutable, use parentheses ( ) & have fewer methods.\n",
        "- Tuples are better when data should stay constant.\n",
        "- Use a tuple when you need a fixed, safe collection of data, i.e. coordinates, days of the week.\n",
        "\n",
        "Q.4 Describe how dictionaries store data.\n",
        "\n",
        "--> Dictionaries in Python store data as key-value pairs, where each key maps to a value. This structure allows for fast and direct access to data using the key. Dictionaries stores Data as follows:\n",
        "- Internally, dictionaries use a structure called a hash table.\n",
        "- Each key is passed through a hash function to produce a unique index (i.e. hash).\n",
        "- That index determines where the value is stored in memory.\n",
        "- When you look up a key, Python uses the hash to quickly find the associated value.\n",
        "- This provides very fast O(1) lookup time regardless of dictionary size.\n",
        "\n",
        "Q.5 Why might you use a set instead of a list in Python?\n",
        "\n",
        "--> You might use a set instead of a list in Python when you need to store unique items.\n",
        "1. No Duplicates:\n",
        "- Sets automatically remove duplicate values.\n",
        "- Use a set when uniqueness is important.\n",
        "\n",
        "2. Faster Lookup:\n",
        "- Checking if an item exists in a set is much faster than in a list — especially as the size grows.\n",
        "- Useful for tasks like filtering duplicates or checking membership quickly.\n",
        "\n",
        "3. Set Operations:\n",
        "- Sets support operations like union, intersection, difference which are handy in math-like or data comparison tasks.\n",
        "\n",
        "Q.6 What is a string in Python, and how is it different from a list?\n",
        "\n",
        "--> A string in Python is a sequence of characters, such as letters, numbers, or symbols, enclosed in quotes (' ', \" \", or ''' '''). It is used to represent textual data. The difference between string & list is as given:\n",
        "- String is an immutable sequence of characters used for storing text, while a list is a mutable sequence that can store any data types, including strings.\n",
        "- Ex.: \"Hello, world!\" is a string containing letters, spaces, punctuation, etc.\n",
        "\n",
        "Q.7  How do tuples ensure data integrity in Python?\n",
        "\n",
        "--> Tuples ensure data integrity in Python by being immutable, meaning their contents cannot be changed after creation. This prevents accidental modifications, making them ideal for storing fixed, reliable data like coordinates or configuration settings.\n",
        "- Immutability: Once created, their elements cannot be added to, removed or changed.\n",
        "- Safe sharing: They can be safely passed between functions or used as dictionary keys without risk of alteration.\n",
        "- Predictable behavior: This protects the data from accidental or unintended changes in a program.\n",
        "\n",
        "Q.8 What is a hash table, and how does it relate to dictionaries in Python?\n",
        "\n",
        "--> A hash table is a data structure that stores data in key-value pairs and uses a hash function to compute an index in an underlying array where each value is stored. It relates to Dictionaries in Python as given:\n",
        "- In Python, a dictionary is implemented using a hash table.\n",
        "- When you add a key-value pair to a dictionary: Python runs the key through a hash function & the resulting hash determines where the value is stored in memory.\n",
        "- This allows for very fast lookups, insertions, and deletions, typically in constant time.\n",
        "\n",
        "Q.9  Can lists contain different data types in Python?\n",
        "\n",
        "--> Yes, lists can contain different data types in Python. We are able to mix integers, strings, floats, booleans, lists, dictionaries & even custom objects all in the same list. This flexibility makes lists a powerful and commonly used data structure in Python.\n",
        "- Ex.: my_list = [42, \"hello\", 3.14, True, [1, 2], {\"key\": \"value\"}].\n",
        "\n",
        "Q.10 Explain why strings are immutable in Python.\n",
        "\n",
        "--> Strings are immutable to make your programs safer, faster & more predictable in Python to ensure:\n",
        "1. Data Integrity: Once a string is created, it cannot be altered, which prevents accidental or unwanted changes, especially when passed between functions or shared across code.\n",
        "2. Performance Optimization: Immutability allows Python to optimize memory usage by safely reusing string objects, this is called string interning.\n",
        "3. Hashability: Since strings are immutable, they can be hashed & used as keys in dictionaries or elements in sets, which rely on constant hash values for fast lookup.\n",
        "\n",
        "Q.11  What advantages do dictionaries offer over lists for certain tasks?\n",
        "\n",
        "--> Dictionaries offer several key advantages over lists for certain tasks, especially when working with key data:\n",
        "1. Faster Lookups: Dictionaries provide constant-time access (O(1)) to values using keys & Lists require linear-time search (O(n)) to find an item by value or index.\n",
        "2. Key-Based Access: With dictionaries, you can access values by descriptive keys instead of relying on numeric positions. This makes data more readable & meaningful.\n",
        "3. Better Organization for Structured Data: Dictionaries are ideal for representing structured objects where each piece of data has a label.\n",
        "4. No Need to Remember Indexes: Unlike lists, you don't have to remember what each index means; the keys act as self-documenting labels.\n",
        "\n",
        "Q.12  Describe a scenario where using a tuple would be preferable over a list.\n",
        "\n",
        "--> A tuple is preferable over a list when you need to store a fixed collection of values that should not be changed, ensuring data integrity and improving performance.\n",
        "\n",
        "Imagine you're building a GPS navigation app. For each location, you need to store its latitude & longitude — a pair of numbers that always belong together & should never change once set. Using a tuple is ideal here because:\n",
        "- The coordinates are a fixed set of values.\n",
        "- You want to protect them from accidental changes.\n",
        "- Tuples make your intention clear: this data is meant to stay constant.\n",
        "\n",
        "Q.13  How do sets handle duplicate values in Python?\n",
        "\n",
        "--> In python sets automatically remove duplicate values. When you add items to a set, only unique elements are kept & any duplicates are ignored. It Works as:\n",
        "- Sets are unordered collections of unique items.\n",
        "- If you try to add a duplicate, Python checks internally & does not store it again.\n",
        "- Ex.: {1,2,2,3,3,3} becomes {1,2,3}.\n",
        "\n",
        "Q.14  How does the “in” keyword work differently for lists and dictionaries?\n",
        "\n",
        "--> The \"in\" keyword works differently for lists & dictionaries in Python because it checks for membership in different ways:\n",
        "1. For Lists:\n",
        "- The \"in\" keyword checks if a specific value is present in the list.\n",
        "- In lists, it Checks if a value is in the list.\n",
        "2. For Dictionaries:\n",
        "- The \"in\" keyword checks if a key is present in the dictionary.\n",
        "- In dictionaries, it Checks if a key is in the dictionary.\n",
        "\n",
        "Q.15  Can you modify the elements of a tuple? Explain why or why not.\n",
        "\n",
        "--> No, you cannot modify the elements of a tuple in Python. It is because of:\n",
        "1. Immutability: A tuple is an immutable data structure, meaning once it is created, its contents cannot be changed. This includes:\n",
        "- Adding new elements\n",
        "- Removing elements\n",
        "- Modifying existing elements\n",
        "2. Data Integrity: Immutability ensures that the data in the tuple remains consistent & unchanged, which is especially useful in scenarios where you want to protect data from accidental modification.\n",
        "3. Performance: Tuples are more memory-efficient & faster than lists because python knows they won't change, allowing for optimizations like hashing.\n",
        "\n",
        "Q.16 What is a nested dictionary, and give an example of its use case?\n",
        "\n",
        "--> A nested dictionary in Python is a dictionary where the value of one or more keys is itself another dictionary. This allows you to represent more complex data structures by grouping related data together.\n",
        "\n",
        "Use Case Example: Storing Information about Multiple Students.\n"
      ],
      "metadata": {
        "id": "PqqFhHXtnX_t"
      }
    },
    {
      "cell_type": "code",
      "source": [
        "students = {\n",
        "    \"Siddhesh\": {\"age\": 22, \"grades\": {\"math\": 90, \"science\": 85}},\n",
        "    \"Aditya\": {\"age\": 21, \"grades\": {\"math\": 80, \"science\": 88}},\n",
        "}"
      ],
      "metadata": {
        "id": "1rsFo0U2OhfF"
      },
      "execution_count": null,
      "outputs": []
    },
    {
      "cell_type": "markdown",
      "source": [
        "In this example:\n",
        "- Each student's name (ex.: \"Siddhesh\", \"Aditya\") is a key in the outer dictionary.\n",
        "- The value for each student is another dictionary containing their age & grades.\n",
        "- The grades themselves are another nested dictionary, storing scores in specific subjects.\n",
        "\n",
        "Q.17 Describe the time complexity of accessing elements in a dictionary.\n",
        "\n",
        "--> In Python, the time complexity of accessing elements in a dictionary is generally O(1), which is constant time.\n",
        "- Average Case: O(1) — the dictionary provides fast lookups due to the hash table.\n",
        "- Worst Case: O(n) — This occurs in rare cases where there are hash collisions.\n",
        "\n",
        "Q.18 In what situations are lists preferred over dictionaries?\n",
        "\n",
        "--> Lists are preferred over dictionaries in situations when:\n",
        "- Order matters: Lists maintain the order of elements.\n",
        "- Indexed data: We need to store data that is accessed by position/index rather than a key.\n",
        "- Allowing duplicates: Lists can store duplicate values.\n",
        "- Simple data structures: When your data doesn't require key-value pairs.\n",
        "- Small datasets: For small collections, performance differences between lists & dictionaries are minimal.\n",
        "\n",
        "Q.19 Why are dictionaries considered unordered, and how does that affect data retrieval?\n",
        "\n",
        "--> Dictionaries in Python are considered unordered because the elements are stored in a hash table, where the order in which items are inserted is not guaranteed to be the order in which they are retrieved. The main goal of dictionaries is efficient key-value access, not to maintain the order of the elements.\n",
        "\n",
        "Python uses a hash function to assign each key to a specific position in memory, which allows for fast lookups. However, this hash-based organization doesn't retain the order of insertion. This Affect Data Retrieval as follows:\n",
        "- Access by Key: You can retrieve data by key very quickly using constant-time lookup (O(1)), but you can't rely on the order of the keys or values.\n",
        "- Iteration Order: In Python versions before 3.7, dictionaries did not guarantee any specific order when iterating over keys or values. Starting from Python 3.7, dictionaries maintain insertion order, but they are still conceptually unordered because this behavior is not required for their core functionality.\n",
        "\n",
        "Q.20  Explain the difference between a list and a dictionary in terms of data retrieval.\n",
        "\n",
        "--> The difference between List & Dictionary in terms of Data Retrieval:\n",
        "1. List:\n",
        "- A list is an ordered collection of items, where each item has a specific index (position).\n",
        "- You access elements by their index (e.g., my_list[2]).\n",
        "- Elements are ordered by their index, so when you retrieve items, you get them in the exact order they were inserted.\n",
        "- Best when you need to store sequential data or access elements by position.\n",
        "2. Dictionary:\n",
        "- A dictionary is an unordered collection of key-value pairs, where each value is accessed by a unique key rather than an index.\n",
        "- You access elements by their key (e.g., my_dict['key_name']).\n",
        "- The order of elements is not guaranteed; in earlier versions, dictionaries are unordered.\n",
        "- Best when you need to store key-value pairs & retrieve values by specific keys.\n",
        "\n",
        "**Practical Questions**\n",
        "\n",
        "Q.1 Write a code to create a string with your name and print it."
      ],
      "metadata": {
        "id": "YBRVqSLiOmNk"
      }
    },
    {
      "cell_type": "code",
      "source": [
        "name = \"Suraj Kakulte\"\n",
        "print(name)"
      ],
      "metadata": {
        "colab": {
          "base_uri": "https://localhost:8080/"
        },
        "id": "Sv9hdYZsUqvT",
        "outputId": "006b2077-d24e-4042-c0a5-d56edf4c734b"
      },
      "execution_count": 1,
      "outputs": [
        {
          "output_type": "stream",
          "name": "stdout",
          "text": [
            "Suraj Kakulte\n"
          ]
        }
      ]
    },
    {
      "cell_type": "markdown",
      "source": [
        "Q.2 Write a code to find the length of the string \"Hello World\"."
      ],
      "metadata": {
        "id": "CS7R0J3HVRuC"
      }
    },
    {
      "cell_type": "code",
      "source": [
        "text = \"Hello World\"\n",
        "length = len(text)\n",
        "print(length)"
      ],
      "metadata": {
        "colab": {
          "base_uri": "https://localhost:8080/"
        },
        "id": "3cY2AfVhVayJ",
        "outputId": "3ba42dcd-8484-497e-875c-e49e296c6692"
      },
      "execution_count": 2,
      "outputs": [
        {
          "output_type": "stream",
          "name": "stdout",
          "text": [
            "11\n"
          ]
        }
      ]
    },
    {
      "cell_type": "markdown",
      "source": [
        "Q.3  Write a code to slice the first 3 characters from the string \"Python Programming\"."
      ],
      "metadata": {
        "id": "Z5HPiF16XEe-"
      }
    },
    {
      "cell_type": "code",
      "source": [
        "text = \"Python Programming\"\n",
        "slice = text[:3]\n",
        "print(slice)"
      ],
      "metadata": {
        "colab": {
          "base_uri": "https://localhost:8080/"
        },
        "id": "P70MxI6fXL4e",
        "outputId": "1d8aa549-c7d5-441f-9110-95a2e30b211c"
      },
      "execution_count": 4,
      "outputs": [
        {
          "output_type": "stream",
          "name": "stdout",
          "text": [
            "Pyt\n"
          ]
        }
      ]
    },
    {
      "cell_type": "markdown",
      "source": [
        "Q.4  Write a code to convert the string \"hello\" to uppercase."
      ],
      "metadata": {
        "id": "5-Clkco_X-PY"
      }
    },
    {
      "cell_type": "code",
      "source": [
        "text = \"hello\"\n",
        "uppercase = text.upper()\n",
        "print(uppercase)\n"
      ],
      "metadata": {
        "colab": {
          "base_uri": "https://localhost:8080/"
        },
        "id": "IAkQmlecYEZG",
        "outputId": "9f18ef1d-9287-46f0-9fa1-2b39267fc17c"
      },
      "execution_count": 5,
      "outputs": [
        {
          "output_type": "stream",
          "name": "stdout",
          "text": [
            "HELLO\n"
          ]
        }
      ]
    },
    {
      "cell_type": "markdown",
      "source": [
        "Q.5 Write a code to replace the word \"apple\" with \"orange\" in the string \"I like apple\"."
      ],
      "metadata": {
        "id": "47gJOUFVYeHh"
      }
    },
    {
      "cell_type": "code",
      "source": [
        "text = \"I like apple\"\n",
        "new_text = text.replace(\"apple\", \"orange\")\n",
        "print(new_text)"
      ],
      "metadata": {
        "colab": {
          "base_uri": "https://localhost:8080/"
        },
        "id": "hblzzo0bYvqH",
        "outputId": "19a2c8fd-307b-4535-f0df-72f4cfecd63c"
      },
      "execution_count": 6,
      "outputs": [
        {
          "output_type": "stream",
          "name": "stdout",
          "text": [
            "I like orange\n"
          ]
        }
      ]
    },
    {
      "cell_type": "markdown",
      "source": [
        "Q.6 Write a code to create a list with numbers 1 to 5 and print it."
      ],
      "metadata": {
        "id": "7MVnQHWvY_9u"
      }
    },
    {
      "cell_type": "code",
      "source": [
        "number = [1,2,3,4,5]\n",
        "print(number)\n",
        "\n",
        "numbers = list(range(1,6))\n",
        "print(numbers)"
      ],
      "metadata": {
        "colab": {
          "base_uri": "https://localhost:8080/"
        },
        "id": "1jAGvI-sZDUW",
        "outputId": "1aa8692e-dd3e-4be1-e833-74f9cfd5a3cf"
      },
      "execution_count": 7,
      "outputs": [
        {
          "output_type": "stream",
          "name": "stdout",
          "text": [
            "[1, 2, 3, 4, 5]\n",
            "[1, 2, 3, 4, 5]\n"
          ]
        }
      ]
    },
    {
      "cell_type": "markdown",
      "source": [
        "Q.7 Write a code to append the number 10 to the list [1, 2, 3, 4]."
      ],
      "metadata": {
        "id": "37RqMUuOZTxm"
      }
    },
    {
      "cell_type": "code",
      "source": [
        "number = [1,2,3,4]\n",
        "number.append(10)\n",
        "print(number)"
      ],
      "metadata": {
        "colab": {
          "base_uri": "https://localhost:8080/"
        },
        "id": "jhsY02ltZXMY",
        "outputId": "72eb4f62-a601-4df0-d28b-654ada351159"
      },
      "execution_count": 8,
      "outputs": [
        {
          "output_type": "stream",
          "name": "stdout",
          "text": [
            "[1, 2, 3, 4, 10]\n"
          ]
        }
      ]
    },
    {
      "cell_type": "markdown",
      "source": [
        "Q.8 Write a code to remove the number 3 from the list [1, 2, 3, 4, 5]."
      ],
      "metadata": {
        "id": "MlMzypjqZgF-"
      }
    },
    {
      "cell_type": "code",
      "source": [
        "number = [1,2,3,4,5]\n",
        "number.remove(3)\n",
        "print(number)"
      ],
      "metadata": {
        "colab": {
          "base_uri": "https://localhost:8080/"
        },
        "id": "4pt9W0LtZkAf",
        "outputId": "0b8beed9-306b-4b32-f7bd-82587dfe6a8d"
      },
      "execution_count": 9,
      "outputs": [
        {
          "output_type": "stream",
          "name": "stdout",
          "text": [
            "[1, 2, 4, 5]\n"
          ]
        }
      ]
    },
    {
      "cell_type": "markdown",
      "source": [
        "Q.9 Write a code to access the second element in the list ['a', 'b', 'c', 'd']."
      ],
      "metadata": {
        "id": "Cd8S9yu2Zr5n"
      }
    },
    {
      "cell_type": "code",
      "source": [
        "my_list = ['a','b','c','d']\n",
        "second_element = my_list[1]\n",
        "print(second_element)"
      ],
      "metadata": {
        "colab": {
          "base_uri": "https://localhost:8080/"
        },
        "id": "EuRstcrEZvcI",
        "outputId": "cac08b5b-e98e-404c-db5e-a2927dea201f"
      },
      "execution_count": 13,
      "outputs": [
        {
          "output_type": "stream",
          "name": "stdout",
          "text": [
            "b\n"
          ]
        }
      ]
    },
    {
      "cell_type": "markdown",
      "source": [
        "Q.10 Write a code to reverse the list [10, 20, 30, 40, 50]."
      ],
      "metadata": {
        "id": "TY0ofhzqaQZ5"
      }
    },
    {
      "cell_type": "code",
      "source": [
        "my_list = [10,20,30,40,50]\n",
        "my_list.reverse()\n",
        "print(my_list)"
      ],
      "metadata": {
        "colab": {
          "base_uri": "https://localhost:8080/"
        },
        "id": "k8NnLYKLaUCC",
        "outputId": "f398c200-9745-4aec-de7b-7c860663f0a7"
      },
      "execution_count": 17,
      "outputs": [
        {
          "output_type": "stream",
          "name": "stdout",
          "text": [
            "[50, 40, 30, 20, 10]\n"
          ]
        }
      ]
    },
    {
      "cell_type": "markdown",
      "source": [
        "Q.11 Write a code to create a tuple with the elements 100, 200, 300 and print it."
      ],
      "metadata": {
        "id": "SkTGBinuaw6_"
      }
    },
    {
      "cell_type": "code",
      "source": [
        "my_tuple = (100,200,300)\n",
        "print(my_tuple)"
      ],
      "metadata": {
        "colab": {
          "base_uri": "https://localhost:8080/"
        },
        "id": "vpKieQl4a0wE",
        "outputId": "2e10464b-eba3-435f-9156-a935db45cb3c"
      },
      "execution_count": 18,
      "outputs": [
        {
          "output_type": "stream",
          "name": "stdout",
          "text": [
            "(100, 200, 300)\n"
          ]
        }
      ]
    },
    {
      "cell_type": "markdown",
      "source": [
        "Q.12 Write a code to access the second-to-last element of the tuple ('red', 'green', 'blue', 'yellow')."
      ],
      "metadata": {
        "id": "UoyDDjG5a-df"
      }
    },
    {
      "cell_type": "code",
      "source": [
        "colors = ('red','green','blue','yellow')\n",
        "elements = colors[-2]\n",
        "print(elements)\n",
        "#"
      ],
      "metadata": {
        "colab": {
          "base_uri": "https://localhost:8080/"
        },
        "id": "efCPF8fbbBhi",
        "outputId": "2fc6718e-d909-45b3-d749-2e5bb6ab24c8"
      },
      "execution_count": 20,
      "outputs": [
        {
          "output_type": "stream",
          "name": "stdout",
          "text": [
            "blue\n"
          ]
        }
      ]
    },
    {
      "cell_type": "markdown",
      "source": [
        "Q.13 Write a code to find the minimum number in the tuple (10, 20, 5, 15)."
      ],
      "metadata": {
        "id": "9GFSE4nfbaAv"
      }
    },
    {
      "cell_type": "code",
      "source": [
        "numbers = (10, 20, 5, 15)\n",
        "min = min(numbers)\n",
        "print(\"The minimum number is:\", min)"
      ],
      "metadata": {
        "id": "h2JDxf61cFYn"
      },
      "execution_count": null,
      "outputs": []
    },
    {
      "cell_type": "markdown",
      "source": [
        "Q.14 Write a code to find the index of the element \"cat\" in the tuple ('dog', 'cat', 'rabbit')."
      ],
      "metadata": {
        "id": "cYmbRk74cJOH"
      }
    },
    {
      "cell_type": "code",
      "source": [
        "animal = ('dog', 'cat', 'rabbit')\n",
        "ind = animal.index('cat')\n",
        "print(\"The index of 'cat' is:\", ind)"
      ],
      "metadata": {
        "colab": {
          "base_uri": "https://localhost:8080/"
        },
        "id": "GQsB8lDycMqn",
        "outputId": "4ed75674-bc69-4c12-b354-8a24ad6c9ab7"
      },
      "execution_count": 26,
      "outputs": [
        {
          "output_type": "stream",
          "name": "stdout",
          "text": [
            "The index of 'cat' is: 1\n"
          ]
        }
      ]
    },
    {
      "cell_type": "markdown",
      "source": [
        "Q.15  Write a code to create a tuple containing three different fruits and check if \"kiwi\" is in it."
      ],
      "metadata": {
        "id": "8iDGBpSpcbaH"
      }
    },
    {
      "cell_type": "code",
      "source": [
        "fruit = ('Mango','Kiwi','Guava')\n",
        "fruits = 'Kiwi' in fruit\n",
        "print(fruits)"
      ],
      "metadata": {
        "colab": {
          "base_uri": "https://localhost:8080/"
        },
        "id": "7O8OdqaYcgHP",
        "outputId": "a470c480-7c85-4d66-feb3-1dd58b6e9784"
      },
      "execution_count": 27,
      "outputs": [
        {
          "output_type": "stream",
          "name": "stdout",
          "text": [
            "True\n"
          ]
        }
      ]
    },
    {
      "cell_type": "markdown",
      "source": [
        "Q.16 Write a code to create a set with the elements 'a', 'b', 'c' and print it."
      ],
      "metadata": {
        "id": "WllaycL2c6KS"
      }
    },
    {
      "cell_type": "code",
      "source": [
        "my_set = {'a','b','c'}\n",
        "print(my_set)"
      ],
      "metadata": {
        "colab": {
          "base_uri": "https://localhost:8080/"
        },
        "id": "GJ5zJWxLc9qC",
        "outputId": "af039b35-8b9c-4efa-ecde-90cef87d64f2"
      },
      "execution_count": 29,
      "outputs": [
        {
          "output_type": "stream",
          "name": "stdout",
          "text": [
            "{'c', 'b', 'a'}\n"
          ]
        }
      ]
    },
    {
      "cell_type": "markdown",
      "source": [
        "Q.17 Write a code to clear all elements from the set {1, 2, 3, 4, 5}."
      ],
      "metadata": {
        "id": "QZEWAIucdLuP"
      }
    },
    {
      "cell_type": "code",
      "source": [
        "my_set = {1,2,3,4,5}\n",
        "my_set.clear()\n",
        "print(my_set)"
      ],
      "metadata": {
        "colab": {
          "base_uri": "https://localhost:8080/"
        },
        "id": "Ps5bSnwWdSfn",
        "outputId": "fc663b35-01d6-412e-862d-211c36c7b51e"
      },
      "execution_count": 30,
      "outputs": [
        {
          "output_type": "stream",
          "name": "stdout",
          "text": [
            "set()\n"
          ]
        }
      ]
    },
    {
      "cell_type": "markdown",
      "source": [
        "Q.18 Write a code to remove the element 4 from the set {1, 2, 3, 4}."
      ],
      "metadata": {
        "id": "oGK4pmxtdhtP"
      }
    },
    {
      "cell_type": "code",
      "source": [
        "my_set = {1,2,3,4}\n",
        "my_set.remove(4)\n",
        "print(my_set)"
      ],
      "metadata": {
        "colab": {
          "base_uri": "https://localhost:8080/"
        },
        "id": "tQspcNGIdu1O",
        "outputId": "a0b27668-6036-4cdf-c8d7-ae5e5ecbc06d"
      },
      "execution_count": 31,
      "outputs": [
        {
          "output_type": "stream",
          "name": "stdout",
          "text": [
            "{1, 2, 3}\n"
          ]
        }
      ]
    },
    {
      "cell_type": "markdown",
      "source": [
        "Q.19 Write a code to find the union of two sets {1, 2, 3} and {3, 4, 5}."
      ],
      "metadata": {
        "id": "WGLNZon-dz95"
      }
    },
    {
      "cell_type": "code",
      "source": [
        "set1 = {1, 2, 3}\n",
        "set2 = {3, 4, 5}\n",
        "uni_set = set1.union(set2)\n",
        "print(\"Union of the sets:\", uni_set)"
      ],
      "metadata": {
        "colab": {
          "base_uri": "https://localhost:8080/"
        },
        "id": "iAyUhoKQd3Az",
        "outputId": "914d8a7d-35cb-4b37-f745-eb82ca059c37"
      },
      "execution_count": 33,
      "outputs": [
        {
          "output_type": "stream",
          "name": "stdout",
          "text": [
            "Union of the sets: {1, 2, 3, 4, 5}\n"
          ]
        }
      ]
    },
    {
      "cell_type": "markdown",
      "source": [
        "Q.20 Write a code to find the intersection of two sets {1, 2, 3} and {2, 3, 4}."
      ],
      "metadata": {
        "id": "-5RGY2VIeMRX"
      }
    },
    {
      "cell_type": "code",
      "source": [
        "set1 = {1, 2, 3}\n",
        "set2 = {2, 3, 4}\n",
        "inter_set = set1.intersection(set2)\n",
        "print(\"Intersection of the sets:\", inter_set)"
      ],
      "metadata": {
        "colab": {
          "base_uri": "https://localhost:8080/"
        },
        "id": "mHfQ6UjleSjj",
        "outputId": "5c2ff3fd-4c89-4905-f902-dffe474d1081"
      },
      "execution_count": 34,
      "outputs": [
        {
          "output_type": "stream",
          "name": "stdout",
          "text": [
            "Intersection of the sets: {2, 3}\n"
          ]
        }
      ]
    },
    {
      "cell_type": "markdown",
      "source": [
        "Q.21 Write a code to create a dictionary with the keys \"name\", \"age\", and \"city\", and print it."
      ],
      "metadata": {
        "id": "jJ-PtrzOenzY"
      }
    },
    {
      "cell_type": "code",
      "source": [
        "my_dict = {\"name\": \"Suraj\", \"age\": 21, \"city\": \"Sambhajnagar\"}\n",
        "print(my_dict)"
      ],
      "metadata": {
        "colab": {
          "base_uri": "https://localhost:8080/"
        },
        "id": "XIpE_KCSetOt",
        "outputId": "31bd5e57-a6ff-425f-c501-2b9a32824436"
      },
      "execution_count": 36,
      "outputs": [
        {
          "output_type": "stream",
          "name": "stdout",
          "text": [
            "{'name': 'Suraj', 'age': 21, 'city': 'Sambhajnagar'}\n"
          ]
        }
      ]
    },
    {
      "cell_type": "markdown",
      "source": [
        "Q.22 Write a code to add a new key-value pair \"country\": \"USA\" to the dictionary {'name': 'John', 'age': 25}."
      ],
      "metadata": {
        "id": "IfggyZsNfOyo"
      }
    },
    {
      "cell_type": "code",
      "source": [
        "details = {'name': 'John', 'age': 25}\n",
        "details['country'] = 'USA'\n",
        "print(details)"
      ],
      "metadata": {
        "colab": {
          "base_uri": "https://localhost:8080/"
        },
        "id": "AdDw9iobfgDQ",
        "outputId": "03d21aaf-ff94-4c7c-a9ae-fc2b0985e9a5"
      },
      "execution_count": 37,
      "outputs": [
        {
          "output_type": "stream",
          "name": "stdout",
          "text": [
            "{'name': 'John', 'age': 25, 'country': 'USA'}\n"
          ]
        }
      ]
    },
    {
      "cell_type": "markdown",
      "source": [
        "Q.23  Write a code to access the value associated with the key \"name\" in the dictionary {'name': 'Alice', 'age': 30}."
      ],
      "metadata": {
        "id": "fJIZjhV2gy6Z"
      }
    },
    {
      "cell_type": "code",
      "source": [
        "person = {'name': 'Alice', 'age': 30}\n",
        "name_value = person['name']\n",
        "print(\"Name:\", name_value)"
      ],
      "metadata": {
        "colab": {
          "base_uri": "https://localhost:8080/"
        },
        "id": "Of3S_bQxg43E",
        "outputId": "26d7ce1c-5ab4-4038-864f-47205013cfa9"
      },
      "execution_count": 38,
      "outputs": [
        {
          "output_type": "stream",
          "name": "stdout",
          "text": [
            "Name: Alice\n"
          ]
        }
      ]
    },
    {
      "cell_type": "markdown",
      "source": [
        "Q.24 Write a code to remove the key \"age\" from the dictionary {'name': 'Bob', 'age': 22, 'city': 'New York'}."
      ],
      "metadata": {
        "id": "YDYuJJLJhIvJ"
      }
    },
    {
      "cell_type": "code",
      "source": [
        "person = {'name': 'Bob', 'age': 22, 'city': 'New York'}\n",
        "person.pop('age')\n",
        "print(person)"
      ],
      "metadata": {
        "colab": {
          "base_uri": "https://localhost:8080/"
        },
        "id": "-A5pwssBhS8k",
        "outputId": "14a08989-0244-47e0-acfd-f3ea96ac5e65"
      },
      "execution_count": 39,
      "outputs": [
        {
          "output_type": "stream",
          "name": "stdout",
          "text": [
            "{'name': 'Bob', 'city': 'New York'}\n"
          ]
        }
      ]
    },
    {
      "cell_type": "markdown",
      "source": [
        "Q.25 Write a code to check if the key \"city\" exists in the dictionary {'name': 'Alice', 'city': 'Paris'}."
      ],
      "metadata": {
        "id": "65UkfI-NhdjR"
      }
    },
    {
      "cell_type": "code",
      "source": [
        "person = {'name': 'Alice', 'city': 'Paris'}\n",
        "if 'city' in person:\n",
        "    print(\"Key 'city' exists in the dictionary.\")\n",
        "else:\n",
        "    print(\"Key 'city' does not exist in the dictionary.\")"
      ],
      "metadata": {
        "colab": {
          "base_uri": "https://localhost:8080/"
        },
        "id": "Hj4Y0g5JhkJV",
        "outputId": "605d77c9-3835-4b61-f8e0-02b74b30507b"
      },
      "execution_count": 40,
      "outputs": [
        {
          "output_type": "stream",
          "name": "stdout",
          "text": [
            "Key 'city' exists in the dictionary.\n"
          ]
        }
      ]
    },
    {
      "cell_type": "markdown",
      "source": [
        "Q.26 Write a code to create a list, a tuple, and a dictionary, and print them all."
      ],
      "metadata": {
        "id": "G4O9a74qhyxB"
      }
    },
    {
      "cell_type": "code",
      "source": [
        "my_list = [1, 2, 3]\n",
        "my_tuple = ('a', 'b', 'c')\n",
        "my_dict = {'name': 'Sura', 'age': 21}\n",
        "print(\"List:\", my_list)\n",
        "print(\"Tuple:\", my_tuple)\n",
        "print(\"Dictionary:\", my_dict)\n"
      ],
      "metadata": {
        "colab": {
          "base_uri": "https://localhost:8080/"
        },
        "id": "nAJ-eQ4Rh1wb",
        "outputId": "fa8f7b15-2683-49e3-b925-de57ef15fa88"
      },
      "execution_count": 41,
      "outputs": [
        {
          "output_type": "stream",
          "name": "stdout",
          "text": [
            "List: [1, 2, 3]\n",
            "Tuple: ('a', 'b', 'c')\n",
            "Dictionary: {'name': 'Sura', 'age': 21}\n"
          ]
        }
      ]
    },
    {
      "cell_type": "markdown",
      "source": [
        "Q.27 Write a code to create a list of 5 random numbers between 1 and 100, sort it in ascending order, and print the result."
      ],
      "metadata": {
        "id": "OemVN8bAiF-Q"
      }
    },
    {
      "cell_type": "code",
      "source": [
        "import random\n",
        "numbers = random.sample(range(1, 101), 5)\n",
        "numbers.sort()\n",
        "print(\"Sorted random numbers:\", numbers)\n"
      ],
      "metadata": {
        "colab": {
          "base_uri": "https://localhost:8080/"
        },
        "id": "XpPd0y0liR61",
        "outputId": "2a586fc2-1d49-4005-de47-e2b7cdfc63dc"
      },
      "execution_count": 42,
      "outputs": [
        {
          "output_type": "stream",
          "name": "stdout",
          "text": [
            "Sorted random numbers: [21, 61, 79, 80, 90]\n"
          ]
        }
      ]
    },
    {
      "cell_type": "markdown",
      "source": [
        "Q.28 Write a code to create a list with strings and print the element at the third index."
      ],
      "metadata": {
        "id": "8zM7xzHNiqzh"
      }
    },
    {
      "cell_type": "code",
      "source": [
        "animals = [\"Lion\", \"Tiger\", \"Leopard\", \"Wolf\", \"Bear\"]\n",
        "print(\"Element at index 3:\", animals[3])\n"
      ],
      "metadata": {
        "colab": {
          "base_uri": "https://localhost:8080/"
        },
        "id": "xyWFi5uJiuKC",
        "outputId": "0f16ca3b-1a2a-4d06-c0bd-9eed3cfa4fa2"
      },
      "execution_count": 43,
      "outputs": [
        {
          "output_type": "stream",
          "name": "stdout",
          "text": [
            "Element at index 3: Wolf\n"
          ]
        }
      ]
    },
    {
      "cell_type": "markdown",
      "source": [
        "Q.29 Write a code to combine two dictionaries into one and print the result."
      ],
      "metadata": {
        "id": "lQoIFjhhjIPZ"
      }
    },
    {
      "cell_type": "code",
      "source": [
        "dict1 = {'a': 1, 'b': 2}\n",
        "dict2 = {'c': 3, 'd': 4}\n",
        "combined_dict = {**dict1, **dict2} #By using dictionary unpacking method\n",
        "print(\"Combined dictionary:\", combined_dict)"
      ],
      "metadata": {
        "colab": {
          "base_uri": "https://localhost:8080/"
        },
        "id": "kObrhygQjLNZ",
        "outputId": "1b22b9a8-ce4b-4e30-c2ca-58a8f1920b78"
      },
      "execution_count": 46,
      "outputs": [
        {
          "output_type": "stream",
          "name": "stdout",
          "text": [
            "Combined dictionary: {'a': 1, 'b': 2, 'c': 3, 'd': 4}\n"
          ]
        }
      ]
    },
    {
      "cell_type": "markdown",
      "source": [
        "Q.30 Write a code to convert a list of strings into a set."
      ],
      "metadata": {
        "id": "ZEMlCNxsjkDC"
      }
    },
    {
      "cell_type": "code",
      "source": [
        "str_list = [\"Aditya\", \"Rushikesh\", \"Mayurraj\", \"Siddhesh\"]\n",
        "str_set = set(str_list)\n",
        "print(\"Original list:\", str_list)\n",
        "print(\"Converted set:\", str_set)\n"
      ],
      "metadata": {
        "colab": {
          "base_uri": "https://localhost:8080/"
        },
        "id": "xtXzMjBJjx4G",
        "outputId": "823caaa3-529d-4e50-a1be-dffc27c3bdad"
      },
      "execution_count": 48,
      "outputs": [
        {
          "output_type": "stream",
          "name": "stdout",
          "text": [
            "Original list: ['Aditya', 'Rushikesh', 'Mayurraj', 'Siddhesh']\n",
            "Converted set: {'Mayurraj', 'Aditya', 'Rushikesh', 'Siddhesh'}\n"
          ]
        }
      ]
    }
  ]
}