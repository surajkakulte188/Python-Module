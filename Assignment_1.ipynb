{
  "nbformat": 4,
  "nbformat_minor": 0,
  "metadata": {
    "colab": {
      "provenance": []
    },
    "kernelspec": {
      "name": "python3",
      "display_name": "Python 3"
    },
    "language_info": {
      "name": "python"
    }
  },
  "cells": [
    {
      "cell_type": "code",
      "execution_count": null,
      "metadata": {
        "id": "XcCN4-QdE2z0"
      },
      "outputs": [],
      "source": []
    },
    {
      "cell_type": "markdown",
      "source": [
        "#Pyhton Basic Assignment\n",
        "**Theory Question**\n",
        "\n",
        "Q.1 What is pyhton, & why it is popular?\n",
        "\n",
        "-> Pyhton is a High-level programming language commonly known for its simplicity & readability. It is popular because of:\n",
        "- Easy to Learn\n",
        "- Free & Open Source\n",
        "- Versatile\n",
        "- Extensive Standrad Library.\n",
        "\n",
        "Q.2 What is an interpreter in Python?\n",
        "\n",
        "-> An interpreter in Python is a program that reads & executes Python code line by line. Unlike a compiler, which translates the entire source code into machine code before running it, an interpreter translates & runs the code one statement at a time.\n",
        "\n",
        "Q.3 What are pre-defined keywords in Python?\n",
        "\n",
        "-> Pre-Defined keywords in Python are reserved words that have special meaning in the language. They are part of Python syntax and cannot be used as identifiers (like variable names, function names, etc). It includes:\n",
        "- if, else, elif\n",
        "- for, while, break, continue\n",
        "- def, return, class\n",
        "- and, or, not\n",
        "\n",
        "Q.4 Can keywords be used as variable names?\n",
        "\n",
        "-> No, keywords cannot be used as variable names in Python. Since keywords are reserved by the language for specific syntax & operations, trying to use one as a variable name will result in a syntax error.\n",
        "\n",
        "Q.5 What is mutability in Python?\n",
        "\n",
        "-> Mutability in Python refers to whether an object’s value can be changed after it is created. There are two main categories of objects in Python:\n",
        "- Mutable objects: can be changed after creation.\n",
        "- Immutable objects: cannot be changed once created.\n",
        "\n",
        "Q.6 Why are lists mutable, but tuples are immutable?\n",
        "- Lists are mutable because they are designed for data that can change after performing operations such as add, remove or modify elements.\n",
        "- Tuples are immutable because they are meant to hold fixed data i.e. once created, their contents cannot be changed.\n",
        "- This design improves safety, allows tuples to be used as dictionary keys & gives a slight performance boost.\n",
        "\n",
        "Q.7 What is the difference between “==” and “is” operators in Python?\n",
        "\n",
        "-> \"==\" checks if values are equal, while \"is\" checks if two variables refer to the same object in memory.\n",
        "\n",
        "Q.8  What are logical operators in Python?\n",
        "\n",
        "-> Logical Operators in python are used to combine conditional statements:\n",
        "- and: True if both conditions are True.\n",
        "- or: True if at least one condition is True.\n",
        "- not: Reverses the boolean value.\n",
        "\n",
        "Q.9 What is type casting in Python?\n",
        "\n",
        "-> Type casting in Python is the process of converting one data type into another.\n",
        "- int(): Convert to integer\n",
        "- float(): Convert to float\n",
        "- str(): Convert to string\n",
        "- list(), tuple() & set(): Convert to respective collection types\n",
        "\n",
        "Q.10 What is the difference between implicit and explicit type casting?\n",
        "\n",
        "-> The difference between Implicit & Explicit type casting are:\n",
        "1. Implicit Type Casting (Automatic):\n",
        "- Python automatically converts one data type to another when required.\n",
        "- It happens when there's no loss of data (ex. converting an int to a float).\n",
        "2. Explicit Type Casting (Manual):\n",
        "- The Programmer explicitly converts using type conversion functions.\n",
        "- You manually convert a value from one data type to another using functions like int(), float(), str(), etc.\n",
        "\n",
        "Q.11 What is the purpose of conditional statements in Python?\n",
        "\n",
        "-> Conditional statements in Python are used to execute certain blocks of code based on whether a given conditions are True or False. The main purposes are:\n",
        "- To make decisions in your program.\n",
        "- To control the flow of execution based on different conditions.\n",
        "- Allows your program to perform different tasks depending on the input.\n",
        "\n",
        "Q.12  How does the elif statement work?\n",
        "\n",
        "-> The \"elif\" statement in Python is used to check multiple conditions in sequence. It works as follows:\n",
        "1. The program first evaluates the \"if\" condition.\n",
        "2. If the \"if\" condition is True, the code block under \"if\" is executed & the remaining \"elif\" & else blocks are skipped.\n",
        "3. If the \"if\" condition is False, the program checks the condition in the first \"elif\" statement.\n",
        "4. If the \"elif\" condition is True, its associated code block is executed.\n",
        "5. If all \"if\" & \"elif\" conditions are False, the program moves to the else block.\n",
        "\n",
        "Q.13  What is the difference between for and while loops?\n",
        "\n",
        "-> The difference between for and while loops is as follows:\n",
        "- A for loop is used when you want to repeat something a specific number of times or go through each item in a sequence like a list or a string.\n",
        "- A while loop is used when you want to repeat something as long as a condition remains true.\n",
        "\n",
        "Q.14 Describe a scenario where a while loop is more suitable than a for loop?\n",
        "\n",
        "-> A while loop is more suitable in a scenario where you don't know in advance how many times the loop should run & you want it to continue based on a condition.\n",
        "- Such Scenario as, Imagine you're building a program that asks a user to enter a password until it's correct. Since you don't know how many attempts the user will need, a while loop is ideal—it will keep running until the correct password is entered.\n",
        "\n",
        "**Practical Questions**\n",
        "\n",
        "Q.1 Write a Python Program to print\"Hello, World!\"\n",
        "\n",
        "\n",
        "\n",
        "\n",
        "\n",
        "\n",
        "\n",
        "\n",
        "\n",
        "\n",
        "\n",
        "\n"
      ],
      "metadata": {
        "id": "PI5MjhezFTxP"
      }
    },
    {
      "cell_type": "code",
      "source": [
        "print(\"Hello, World!\")"
      ],
      "metadata": {
        "colab": {
          "base_uri": "https://localhost:8080/"
        },
        "id": "m0hJG8LuGCTn",
        "outputId": "bdec198e-9cbd-476d-a3ab-14314bc46ada"
      },
      "execution_count": 2,
      "outputs": [
        {
          "output_type": "stream",
          "name": "stdout",
          "text": [
            "Hello, World!\n"
          ]
        }
      ]
    },
    {
      "cell_type": "markdown",
      "source": [],
      "metadata": {
        "id": "KydWmtRJGMoX"
      }
    },
    {
      "cell_type": "markdown",
      "source": [
        "Q.2 Write a Python program that displays your name and age."
      ],
      "metadata": {
        "id": "PGqZngq1t5DH"
      }
    },
    {
      "cell_type": "code",
      "source": [
        "name = \"Suraj Kakulte\"\n",
        "age = 21\n",
        "print(\"Name:\", name)\n",
        "print(\"Age:\", age)"
      ],
      "metadata": {
        "colab": {
          "base_uri": "https://localhost:8080/"
        },
        "id": "je5zvvUFt_0J",
        "outputId": "c6714a44-46bf-4b0b-cfe4-fe0b30a322d7"
      },
      "execution_count": 67,
      "outputs": [
        {
          "output_type": "stream",
          "name": "stdout",
          "text": [
            "Name: Suraj Kakulte\n",
            "Age: 21\n"
          ]
        }
      ]
    },
    {
      "cell_type": "markdown",
      "source": [
        "Q.3 Write code to print all the pre-defined keywords in Python using the keyword library."
      ],
      "metadata": {
        "id": "10LRIKCKuGmC"
      }
    },
    {
      "cell_type": "code",
      "source": [
        "import keyword\n",
        "print(\"Pre-defined Keywords in Python:\", keyword.kwlist)"
      ],
      "metadata": {
        "colab": {
          "base_uri": "https://localhost:8080/"
        },
        "id": "QwzoLLVLuKa6",
        "outputId": "15a2cf29-8cd5-40b8-9f56-c589825ce5ee"
      },
      "execution_count": 66,
      "outputs": [
        {
          "output_type": "stream",
          "name": "stdout",
          "text": [
            "Pre-defined Keywords in Python: ['False', 'None', 'True', 'and', 'as', 'assert', 'async', 'await', 'break', 'class', 'continue', 'def', 'del', 'elif', 'else', 'except', 'finally', 'for', 'from', 'global', 'if', 'import', 'in', 'is', 'lambda', 'nonlocal', 'not', 'or', 'pass', 'raise', 'return', 'try', 'while', 'with', 'yield']\n"
          ]
        }
      ]
    },
    {
      "cell_type": "markdown",
      "source": [
        "Q.4 Write a program that checks if a given word is a Python keyword."
      ],
      "metadata": {
        "id": "cIFMwxdfuxob"
      }
    },
    {
      "cell_type": "code",
      "source": [
        "import keyword\n",
        "word = input(\"Enter a Word:\")\n",
        "if keyword.iskeyword(word):\n",
        "  print(f\"{word} is a Python Keyword.\")\n",
        "else:\n",
        "  print(f\"{word} is not a Python Keyword.\")"
      ],
      "metadata": {
        "colab": {
          "base_uri": "https://localhost:8080/"
        },
        "id": "btUmor5Su2oz",
        "outputId": "2981bef3-6a13-496c-bc17-cd4375ff7501"
      },
      "execution_count": 11,
      "outputs": [
        {
          "output_type": "stream",
          "name": "stdout",
          "text": [
            "Enter a Word:True\n",
            "True is a Python Keyword.\n"
          ]
        }
      ]
    },
    {
      "cell_type": "markdown",
      "source": [
        "Q.5 Create a list and tuple in Python, and demonstrate how attempting to change an element works differently for each."
      ],
      "metadata": {
        "id": "zV-b8Dg5vu7T"
      }
    },
    {
      "cell_type": "code",
      "source": [
        "my_list = [1,2,3,4,5]\n",
        "my_tuple = (1,2,3,4,5)\n",
        "print(\"Original List:\", my_list)\n",
        "\n",
        "my_list[2] = 18\n",
        "\n",
        "print(\"Change List:\", my_list)"
      ],
      "metadata": {
        "colab": {
          "base_uri": "https://localhost:8080/"
        },
        "id": "74zhxAavvzoU",
        "outputId": "d4533bb7-d761-48c1-97aa-61e8556aa641"
      },
      "execution_count": 64,
      "outputs": [
        {
          "output_type": "stream",
          "name": "stdout",
          "text": [
            "Original List: [1, 2, 3, 4, 5]\n",
            "Change List: [1, 2, 18, 4, 5]\n"
          ]
        }
      ]
    },
    {
      "cell_type": "code",
      "source": [
        "print(\"Original Tuple:\", my_tuple)\n",
        "\n",
        "my_tuple[2] = 18\n",
        "\n",
        "print(\"Change List:\", my_tuple)"
      ],
      "metadata": {
        "colab": {
          "base_uri": "https://localhost:8080/",
          "height": 237
        },
        "id": "oCwygPlIxC7c",
        "outputId": "c5569f4e-0165-4973-aedb-d6e44299416b"
      },
      "execution_count": 65,
      "outputs": [
        {
          "output_type": "stream",
          "name": "stdout",
          "text": [
            "Original Tuple: (1, 2, 3, 4, 5)\n"
          ]
        },
        {
          "output_type": "error",
          "ename": "TypeError",
          "evalue": "'tuple' object does not support item assignment",
          "traceback": [
            "\u001b[0;31m---------------------------------------------------------------------------\u001b[0m",
            "\u001b[0;31mTypeError\u001b[0m                                 Traceback (most recent call last)",
            "\u001b[0;32m<ipython-input-65-7e8a613b1055>\u001b[0m in \u001b[0;36m<cell line: 0>\u001b[0;34m()\u001b[0m\n\u001b[1;32m      1\u001b[0m \u001b[0mprint\u001b[0m\u001b[0;34m(\u001b[0m\u001b[0;34m\"Original Tuple:\"\u001b[0m\u001b[0;34m,\u001b[0m \u001b[0mmy_tuple\u001b[0m\u001b[0;34m)\u001b[0m\u001b[0;34m\u001b[0m\u001b[0;34m\u001b[0m\u001b[0m\n\u001b[1;32m      2\u001b[0m \u001b[0;34m\u001b[0m\u001b[0m\n\u001b[0;32m----> 3\u001b[0;31m \u001b[0mmy_tuple\u001b[0m\u001b[0;34m[\u001b[0m\u001b[0;36m2\u001b[0m\u001b[0;34m]\u001b[0m \u001b[0;34m=\u001b[0m \u001b[0;36m18\u001b[0m\u001b[0;34m\u001b[0m\u001b[0;34m\u001b[0m\u001b[0m\n\u001b[0m\u001b[1;32m      4\u001b[0m \u001b[0;34m\u001b[0m\u001b[0m\n\u001b[1;32m      5\u001b[0m \u001b[0mprint\u001b[0m\u001b[0;34m(\u001b[0m\u001b[0;34m\"Change List:\"\u001b[0m\u001b[0;34m,\u001b[0m \u001b[0mmy_tuple\u001b[0m\u001b[0;34m)\u001b[0m\u001b[0;34m\u001b[0m\u001b[0;34m\u001b[0m\u001b[0m\n",
            "\u001b[0;31mTypeError\u001b[0m: 'tuple' object does not support item assignment"
          ]
        }
      ]
    },
    {
      "cell_type": "markdown",
      "source": [
        "Q.6 Write a function to demonstrate the behavior of mutable and immutable arguments."
      ],
      "metadata": {
        "id": "MH-qbSidxX1p"
      }
    },
    {
      "cell_type": "code",
      "source": [
        "def modify_args(a_list, an_init):\n",
        "  a_list.append(4)\n",
        "  an_init += 10\n",
        "\n",
        "  my_list = [1,2,3]\n",
        "  my_init = 5\n",
        "\n",
        "  modify_args(my_init, my_list)\n",
        "  print(\"List after function call - mutable_arg:\", my_list)\n",
        "  print(\"Int after function call - immutable_arg:\", my_init)"
      ],
      "metadata": {
        "id": "Rn4PaavVzSpU"
      },
      "execution_count": null,
      "outputs": []
    },
    {
      "cell_type": "markdown",
      "source": [],
      "metadata": {
        "id": "QZgsgrJKzbo0"
      }
    },
    {
      "cell_type": "markdown",
      "source": [
        "Q.7 Write a program that performs basic arithmetic operations on two user-input numbers."
      ],
      "metadata": {
        "id": "dDKdaxUA0OWc"
      }
    },
    {
      "cell_type": "code",
      "source": [
        "x = float(input(\"Enter the first number:\"))\n",
        "y = float(input(\"Enter the second number:\"))\n",
        "\n",
        "print(\"Addition:\", x+y)\n",
        "print(\"Subtraction:\", x-y)\n",
        "print(\"Multiplication:\", x*y)\n",
        "print(\"Division:\", x/y)\n",
        "print(\"Modulus-Division:\", x%y)\n"
      ],
      "metadata": {
        "colab": {
          "base_uri": "https://localhost:8080/"
        },
        "id": "AqgbUzYq0Xiy",
        "outputId": "e66bd576-7e6f-4008-f272-037f7c7ef081"
      },
      "execution_count": 63,
      "outputs": [
        {
          "output_type": "stream",
          "name": "stdout",
          "text": [
            "Enter the first number:18\n",
            "Enter the second number:08\n",
            "Addition: 26.0\n",
            "Subtraction: 10.0\n",
            "Multiplication: 144.0\n",
            "Division: 2.25\n",
            "Modulus-Division: 2.0\n"
          ]
        }
      ]
    },
    {
      "cell_type": "markdown",
      "source": [
        "Q.8 Write a program to demonstrate the use of logical operators."
      ],
      "metadata": {
        "id": "rJGvnvEU2_oD"
      }
    },
    {
      "cell_type": "code",
      "source": [
        "a = True\n",
        "b = False\n",
        "\n",
        "print(\"a and b =\", a and b)\n",
        "print(\"a or b =\", a or b)\n",
        "print(\"not a =\", not a)"
      ],
      "metadata": {
        "colab": {
          "base_uri": "https://localhost:8080/"
        },
        "id": "SDkyHaed3DDj",
        "outputId": "76aeb98c-57c8-4d63-b040-18800cf3d1fe"
      },
      "execution_count": 53,
      "outputs": [
        {
          "output_type": "stream",
          "name": "stdout",
          "text": [
            "a and b = False\n",
            "a or b = True\n",
            "not a = False\n"
          ]
        }
      ]
    },
    {
      "cell_type": "markdown",
      "source": [
        "Q.9 Write a Python program to convert user input from string to integer, float, and boolean types."
      ],
      "metadata": {
        "id": "mtqBu2GK3iSr"
      }
    },
    {
      "cell_type": "code",
      "source": [
        "user_input = input(\"Input: \")\n",
        "\n",
        "int_value = int(user_input)\n",
        "float_value = float(user_input)\n",
        "bool_value = bool(user_input)\n",
        "\n",
        "print(\"As Integer:\", int_value)\n",
        "print(\"As Float:\", float_value)\n",
        "print(\"As Boolean:\", bool_value)\n"
      ],
      "metadata": {
        "colab": {
          "base_uri": "https://localhost:8080/"
        },
        "id": "JpSQxoxo3vzS",
        "outputId": "f0c4c690-ef37-489e-8784-f0444348dfd2"
      },
      "execution_count": 58,
      "outputs": [
        {
          "output_type": "stream",
          "name": "stdout",
          "text": [
            "Input: 1808\n",
            "As Integer: 1808\n",
            "As Float: 1808.0\n",
            "As Boolean: True\n"
          ]
        }
      ]
    },
    {
      "cell_type": "markdown",
      "source": [
        "Q.10 Write code to demonstrate type casting with list elements."
      ],
      "metadata": {
        "id": "GEGNizah4udK"
      }
    },
    {
      "cell_type": "code",
      "source": [
        "str_list = [\"1\", \"2\", \"3\"]\n",
        "print(\"Original List (strings):\", str_list)\n",
        "\n",
        "number_list = [int(item) for item in str_list]\n",
        "print(\"List after type casting:\", number_list)"
      ],
      "metadata": {
        "colab": {
          "base_uri": "https://localhost:8080/"
        },
        "id": "UdMYvy_C4xRS",
        "outputId": "dea5cf8d-13d6-4dc1-d526-afe24e9f704e"
      },
      "execution_count": 62,
      "outputs": [
        {
          "output_type": "stream",
          "name": "stdout",
          "text": [
            "Original List (strings): ['1', '2', '3']\n",
            "List after type casting: [1, 2, 3]\n"
          ]
        }
      ]
    },
    {
      "cell_type": "markdown",
      "source": [
        "Q.11 Write a program that checks if a number is positive, negative, or zero."
      ],
      "metadata": {
        "id": "c9TdQWXE6TSE"
      }
    },
    {
      "cell_type": "code",
      "source": [
        "num = float(input(\"Enter a number:\"))\n",
        "\n",
        "if num > 0:\n",
        "    print(\"The number is positive.\")\n",
        "elif num < 0:\n",
        "    print(\"The number is negative.\")\n",
        "else:\n",
        "    print(\"The number is zero.\")\n"
      ],
      "metadata": {
        "colab": {
          "base_uri": "https://localhost:8080/"
        },
        "id": "E5Z82XLX6XTU",
        "outputId": "f311a0c8-4fb8-4662-ff44-1872cbb8c753"
      },
      "execution_count": 72,
      "outputs": [
        {
          "output_type": "stream",
          "name": "stdout",
          "text": [
            "Enter a number:-21\n",
            "The number is negative.\n"
          ]
        }
      ]
    },
    {
      "cell_type": "markdown",
      "source": [
        "Q.12 Write a for loop to print numbers from 1 to 10."
      ],
      "metadata": {
        "id": "4xHChCI46zac"
      }
    },
    {
      "cell_type": "code",
      "source": [
        "for i in range(1, 11):\n",
        "    print(i, end=\" \")\n"
      ],
      "metadata": {
        "colab": {
          "base_uri": "https://localhost:8080/"
        },
        "id": "DlNQcqPq62g9",
        "outputId": "72a3e075-ae6d-4a13-9d4f-0522d5a62719"
      },
      "execution_count": 76,
      "outputs": [
        {
          "output_type": "stream",
          "name": "stdout",
          "text": [
            "1 2 3 4 5 6 7 8 9 10 "
          ]
        }
      ]
    },
    {
      "cell_type": "markdown",
      "source": [
        "Q.13 Write a Python program to find the sum of all even numbers between 1 and 50."
      ],
      "metadata": {
        "id": "L95nO6Q67KL8"
      }
    },
    {
      "cell_type": "code",
      "source": [
        "sum = 0\n",
        "for i in range(2, 51, 2):\n",
        "    sum += i\n",
        "print(\"Sum of Even Numbers between 1 and 50:\", sum)"
      ],
      "metadata": {
        "colab": {
          "base_uri": "https://localhost:8080/"
        },
        "id": "GpeHaFuo7Vsk",
        "outputId": "b39e2b5d-3210-4ce9-b4e9-1db7be0268f7"
      },
      "execution_count": 78,
      "outputs": [
        {
          "output_type": "stream",
          "name": "stdout",
          "text": [
            "Sum of Even Numbers between 1 and 50: 650\n"
          ]
        }
      ]
    },
    {
      "cell_type": "markdown",
      "source": [
        "Q.14 Write a program to reverse a string using a while loop."
      ],
      "metadata": {
        "id": "p2jI9I1076DO"
      }
    },
    {
      "cell_type": "code",
      "source": [
        "text = input(\"Enter a string:\")\n",
        "i = len(text) - 1\n",
        "rev = \"\"\n",
        "\n",
        "while i >= 0:\n",
        "    rev += text[i]\n",
        "    i -= 1\n",
        "\n",
        "print(\"Reversed Text:\", rev)\n"
      ],
      "metadata": {
        "colab": {
          "base_uri": "https://localhost:8080/"
        },
        "id": "lD08SN-4784c",
        "outputId": "625703bc-69db-4530-f045-e503ed76a729"
      },
      "execution_count": 88,
      "outputs": [
        {
          "output_type": "stream",
          "name": "stdout",
          "text": [
            "Enter a string:Government College of Engineering\n",
            "Reversed Text: gnireenignE fo egelloC tnemnrevoG\n"
          ]
        }
      ]
    },
    {
      "cell_type": "markdown",
      "source": [
        "Q.15  Write a Python program to calculate the factorial of a number provided by the user using a while loop."
      ],
      "metadata": {
        "id": "MFHRWRRa8niM"
      }
    },
    {
      "cell_type": "code",
      "source": [
        "num = int(input(\"Enter a number:\"))\n",
        "factorial = 1\n",
        "i = 1\n",
        "\n",
        "while i <= num:\n",
        "    factorial *= i\n",
        "    i += 1\n",
        "\n",
        "print(\"Factorial of\", num, \"is:\", factorial)"
      ],
      "metadata": {
        "colab": {
          "base_uri": "https://localhost:8080/"
        },
        "id": "Nk2odJfc8q5L",
        "outputId": "6f9e3b4f-9c25-42eb-937a-18f98737b1d4"
      },
      "execution_count": 90,
      "outputs": [
        {
          "output_type": "stream",
          "name": "stdout",
          "text": [
            "Enter a number:6\n",
            "Factorial of 6 is: 720\n"
          ]
        }
      ]
    }
  ]
}